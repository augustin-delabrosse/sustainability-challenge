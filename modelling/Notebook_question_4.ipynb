{
 "cells": [
  {
   "cell_type": "code",
   "execution_count": 1,
   "id": "4f85f7a1-e252-4119-9b42-9bc32f7c990b",
   "metadata": {},
   "outputs": [],
   "source": [
    "import numpy as np\n",
    "import pandas as pd \n",
    "import matplotlib.pyplot as plt\n",
    "import seaborn as sns\n",
    "import geopandas as gpd\n",
    "import pyproj \n",
    "from tqdm import tqdm\n",
    "import reverse_geocoder as rg\n",
    "from deap import base, creator, tools\n",
    "import random\n",
    "from sklearn.cluster import KMeans\n",
    "from sklearn.metrics import silhouette_score\n",
    "\n",
    "from shapely.geometry import Point\n",
    "from shapely.geometry import LineString\n",
    "\n",
    "from preprocessing.pre_process_stations import *\n",
    "from preprocessing.pre_process_traffic import *\n",
    "from preprocessing.helping_functions import *\n",
    "\n",
    "from features.config import *\n",
    "from features.question_2_financials import *\n",
    "\n",
    "from models.question_1 import *\n",
    "from models.question_2 import *\n",
    "from models.question_4 import *\n",
    "from models.genetic_algorithm_part3_1 import *\n",
    "\n",
    "import warnings\n",
    "warnings.simplefilter('ignore')\n",
    "\n",
    "\n",
    "def add_lat_lon_columns(df):\n",
    "    \"\"\"\n",
    "    Adds new columns 'lonD', 'latD', 'lonF', 'latF' to the dataframe with\n",
    "    corresponding latitude and longitude values based on the 'xD', 'yD', 'xF',\n",
    "    and 'yF' columns, which are in Lambert-93 projection.\n",
    "    Parameters:\n",
    "    -----------\n",
    "    df : pandas.DataFrame\n",
    "        The dataframe containing the columns 'xD', 'yD', 'xF', and 'yF'.\n",
    "    Returns:\n",
    "    --------\n",
    "    pandas.DataFrame\n",
    "        The original dataframe with the new 'lonD', 'latD', 'lonF', and 'latF'\n",
    "        columns added.\n",
    "    \"\"\"\n",
    "    # Define the input and output projections\n",
    "    in_proj = pyproj.Proj(init='epsg:2154')  # Lambert-93\n",
    "    out_proj = pyproj.Proj(init='epsg:4326')  # WGS84\n",
    "\n",
    "    df['xD'] = df['xD'].replace(',', '.')\n",
    "    df['yD'] = df['yD'].replace(',', '.')\n",
    "    df['xF'] = df['xF'].replace(',', '.')\n",
    "    df['yF'] = df['yF'].replace(',', '.')\n",
    "\n",
    "    # Convert start coordinates to lat-long\n",
    "    df['lonD'], df['latD'] = pyproj.transform(in_proj, out_proj, df['xD'], df['yD'])\n",
    "\n",
    "    # Convert end coordinates to lat-long\n",
    "    df['lonF'], df['latF'] = pyproj.transform(in_proj, out_proj, df['xF'], df['yF'])\n",
    "\n",
    "    return df\n",
    "\n",
    "def read_shape_file(path: str):\n",
    "    shp = gpd.read_file(path)\n",
    "    return shp\n",
    "\n",
    "def fix_tmja(df):\n",
    "    # Fixing a few columns\n",
    "    df.longueur = df.longueur.apply(lambda x: float(x.replace(',', '.')))\n",
    "    df['ratio_PL'] = df['ratio_PL'].apply(lambda x: x if x<=40 else x/10)\n",
    "    \n",
    "    # Add lattitude and longitude\n",
    "    df = add_lat_lon_columns(df)\n",
    "    \n",
    "    # Add region and department with lattitude and longitude\n",
    "    coordinates = [(i[1], i[0]) for i in shp_tmja[['lonD', 'latD']].values]\n",
    "    results = rg.search(coordinates)\n",
    "    df['region'] = [i['admin1'] for i in results]\n",
    "    df['departement'] = [i['admin2']\\\n",
    "                         .replace('Departement de ', '')\\\n",
    "                         .replace('Departement du ', '')\\\n",
    "                         .replace('Departement des ', '')\\\n",
    "                         .replace(\"Departement d'\", '')\\\n",
    "                         .replace('la ', '')\\\n",
    "                         .replace(\"l'\", \"\") for i in results]\n",
    "    \n",
    "    return df\n",
    "\n",
    "def fix_stations(df):\n",
    "    df['Coordinates'] = df['Coordinates'].apply(lambda x: x.replace(',,', ','))\n",
    "    return df\n",
    "\n",
    "def indicate_crs(shp_file: gpd.geodataframe.GeoDataFrame, epsg:str):\n",
    "    shp_file.set_crs(epsg, allow_override=True)\n",
    "    return shp_file\n",
    "\n",
    "def convert_long_lat_to_easting_northing(df, initial_epsg='epsg:4326', target_epsg='epsg:2154'):\n",
    "    # Define the input and output projections\n",
    "    in_proj = pyproj.Proj(init='epsg:4326')  # Lambert-93\n",
    "    out_proj = pyproj.Proj(init='epsg:2154')  # WGS84\n",
    "\n",
    "    long = df['Coordinates'].apply(lambda x: x.split(',')[1]).values.astype(float)\n",
    "    lat = df['Coordinates'].apply(lambda x: x.split(',')[0]).values.astype(float)\n",
    "\n",
    "    # Convert start coordinates to lat-long\n",
    "    long_transformed, lat_transformed = pyproj.transform(in_proj, out_proj, long, lat)\n",
    "    \n",
    "    df.geometry = gpd.points_from_xy(x=long_transformed, \n",
    "                                     y=lat_transformed, crs='epsg:2154')\n",
    "    \n",
    "    return df\n",
    "\n",
    "def convert_str_geometry_to_geometry_geometry(df):\n",
    "    df['geometry'] = gpd.GeoSeries.from_wkt(df['geometry'])\n",
    "    return df\n",
    "\n",
    "def new_coordinates_creation(approximate_nb_of_points, shapefile_tmja: gpd.geodataframe.GeoDataFrame):\n",
    "    total_distance = shapefile_tmja.geometry.length.sum() # in meters\n",
    "    distance_between_coordinates = total_distance/approximate_nb_of_points\n",
    "    points = []\n",
    "    routes = []\n",
    "\n",
    "    for idx in tqdm(shapefile_tmja.index):\n",
    "        line = shapefile_tmja.geometry[idx]\n",
    "        route = shapefile_tmja.route[idx]\n",
    "        n_splits = int(line.length/distance_between_coordinates)\n",
    "        \n",
    "        if n_splits < 2:\n",
    "            splitter = [line.interpolate((i/2), normalized=True) for i in range(2)]\n",
    "        else:\n",
    "            splitter = [line.interpolate((i/n_splits), normalized=True) for i in range(n_splits)]\n",
    "\n",
    "        points.append(splitter)\n",
    "        routes.append([route for i in (range(n_splits) if n_splits >= 2 else range(2))])\n",
    "        \n",
    "    routes = np.concatenate(routes)\n",
    "    \n",
    "    coordinates = pd.DataFrame([i.wkt.replace('POINT (', '').replace(')', '').split(' ') for i in np.concatenate(points)])\n",
    "    coordinates.columns = [\"easting\", \"northing\"]\n",
    "    coordinates['route'] = routes\n",
    "    coordinates['geometry'] = gpd.points_from_xy(x=coordinates.easting, \n",
    "                                                 y=coordinates.northing,\n",
    "                                                 crs=shp_tmja.crs)\n",
    "    \n",
    "    shp_coordinates = gpd.GeoDataFrame(coordinates)\n",
    "    \n",
    "    return shp_coordinates\n",
    "\n",
    "def compute_distance_to_closest_large_hub(df_stations:gpd.geodataframe.GeoDataFrame, df_hub_elargies:gpd.geodataframe.GeoDataFrame):\n",
    "    large_hub_list = []\n",
    "    distance_to_large_hub_list = []\n",
    "\n",
    "    for idx_station in tqdm(df_stations.index):\n",
    "        geodf = gpd.GeoDataFrame(df_stations.iloc[idx_station].geometry.distance(df_hub_elargies.geometry))\n",
    "        min_distance = df_stations.iloc[idx_station].geometry.distance(df_hub_elargies.geometry).min()\n",
    "        idx_hub = geodf[geodf['geometry'] == min_distance].index[0]\n",
    "        # print(stations.loc[idx_station, 'nom'], roads.loc[idx_road, 'nom'], min_distance)\n",
    "        large_hub_list.append(df_hub_elargies.at[idx_hub, 'e1'])\n",
    "        distance_to_large_hub_list.append(min_distance)\n",
    "\n",
    "\n",
    "    df_stations['closest_large_hub'] = large_hub_list\n",
    "    df_stations['distance_to_closest_large_hub'] = distance_to_large_hub_list\n",
    "    \n",
    "    return df_stations\n",
    "\n",
    "\n",
    "def compute_distance_to_closest_dense_hub(df_stations:gpd.geodataframe.GeoDataFrame, df_hub_denses:gpd.geodataframe.GeoDataFrame):\n",
    "    dense_hub_list = []\n",
    "    distance_to_dense_hub_list = []\n",
    "\n",
    "    for idx_station in tqdm(df_stations.index):\n",
    "        geodf = gpd.GeoDataFrame(df_stations.iloc[idx_station].geometry.distance(df_hub_denses.geometry))\n",
    "        min_distance = df_stations.iloc[idx_station].geometry.distance(df_hub_denses.geometry).min()\n",
    "        idx_hub = geodf[geodf['geometry'] == min_distance].index[0]\n",
    "        # print(stations.loc[idx_station, 'nom'], roads.loc[idx_road, 'nom'], min_distance)\n",
    "        dense_hub_list.append(df_hub_denses.at[idx_hub, 'e1'])\n",
    "        distance_to_dense_hub_list.append(min_distance)\n",
    "\n",
    "    df_stations['closest_dense_hub'] = dense_hub_list\n",
    "    df_stations['distance_to_closest_dense_hub'] = distance_to_dense_hub_list\n",
    "\n",
    "    return df_stations\n",
    "\n",
    "def compute_distance_to_each_station(df):\n",
    "    for i in tqdm(df.index):\n",
    "        URL = df.loc[i, 'URL']\n",
    "        df[f'distance_to_{URL}'] = df.loc[i, 'geometry'].distance(df.geometry)\n",
    "    return df\n",
    "\n"
   ]
  },
  {
   "cell_type": "code",
   "execution_count": 2,
   "id": "9e7d1a68-138c-4881-b135-6effade53214",
   "metadata": {},
   "outputs": [],
   "source": [
    "shp_tmja = read_shape_file(\"../../data/E-tmja2019-shp-improved\")"
   ]
  },
  {
   "cell_type": "code",
   "execution_count": 3,
   "id": "6ad6b3db-b081-4183-bb3a-acf86847c345",
   "metadata": {},
   "outputs": [],
   "source": [
    "results = pd.read_csv('../../data/results_ga_2.csv', index_col='index').drop('Unnamed: 0', axis=1)"
   ]
  },
  {
   "cell_type": "code",
   "execution_count": 4,
   "id": "5210ef25-79f2-414e-abaa-aa92d9360305",
   "metadata": {},
   "outputs": [],
   "source": [
    "def plot_results(roads_shapefile:gpd.geodataframe.GeoDataFrame, df_results:pd.core.frame.DataFrame):\n",
    "    \"\"\"\n",
    "    Plot the results of a simulation of H2 station placement on a map.\n",
    "\n",
    "    Parameters:\n",
    "    roads_shapefile : GeoDataFrame\n",
    "    A GeoDataFrame containing the roads' shapefile data.\n",
    "\n",
    "    df_results : DataFrame\n",
    "    A DataFrame containing the H2 station placement simulation results.\n",
    "    It should contain a 'geometry' column containing the stations' location in\n",
    "    string or Shapely.geometry format, and a 'station_type' column with the\n",
    "    type of station (i.e., small, medium, large).\n",
    "\n",
    "    Returns:\n",
    "    A plot of the roads and H2 stations overlaid on a map.\n",
    "\n",
    "    \"\"\"\n",
    "    roads = gpd.GeoDataFrame({'geometry': roads_shapefile.geometry, \n",
    "                              'type': ['route' for i in range(len(roads_shapefile.geometry))],\n",
    "                              'nom': roads_shapefile.route}, \n",
    "                             crs=roads_shapefile.crs)\n",
    "    \n",
    "    if type(df_results.geometry[:1].values[0]) == str:\n",
    "        df_results = convert_str_geometry_to_geometry_geometry(results)\n",
    "        \n",
    "    stations = gpd.GeoDataFrame({'geometry': df_results.geometry, \n",
    "                                 'type': [f'{i} H2 station' for i in df_results[\"station_type\"]],\n",
    "                                 'nom': [f'H2 station n{i}' for i in range(df_results.shape[0])]}, \n",
    "                                crs=roads_shapefile.crs)\n",
    "    \n",
    "    shp_file = pd.concat([roads, stations])\n",
    "    exploration = shp_file.explore(column='type', cmap='tab10')\n",
    "    \n",
    "    return exploration\n",
    "    "
   ]
  },
  {
   "cell_type": "raw",
   "id": "fb3df3f2-3c39-4945-b7d6-e33d09601835",
   "metadata": {},
   "source": [
    "plot_results(shp_tmja, results)"
   ]
  },
  {
   "cell_type": "code",
   "execution_count": 6,
   "id": "f57a4aca-a7e3-4ee2-8fec-8cbb7148de36",
   "metadata": {},
   "outputs": [],
   "source": [
    "scenario_example = pd.read_csv('../../data/sceanrio_example.csv', index_col=\"Unnamed: 0\")"
   ]
  },
  {
   "cell_type": "code",
   "execution_count": 11,
   "id": "72a2fc3e-5a8d-4a16-bb51-1adef8868af8",
   "metadata": {},
   "outputs": [],
   "source": [
    "def plotting_installations(df:pd.core.frame.DataFrame):\n",
    "    \"\"\"\n",
    "    Plot the installation dates of H2 stations on a map.\n",
    "\n",
    "    Parameters:\n",
    "        df : DataFrame\n",
    "            A DataFrame containing data on H2 stations' installation, including their\n",
    "            location and installation date.\n",
    "\n",
    "    Returns:\n",
    "        A plot of the H2 station locations overlaid on a map, with the color of each\n",
    "            station indicating its installation date.\n",
    "\n",
    "    \"\"\"\n",
    "\n",
    "    if type(df.geometry[:1].values[0]) == str:\n",
    "        df = convert_str_geometry_to_geometry_geometry(df)\n",
    "        \n",
    "    shp_file = gpd.GeoDataFrame(df, crs=\"epsg:2154\")\n",
    "    shp_file = shp_file[['URL', 'nom_region', 'geometry', 'closest_road',\n",
    "       'closest_large_hub', 'closest_dense_hub', 'TMJA_PL', 'percentage_traffic',\n",
    "       'Quantity_sold_per_day(in kg)', 'Revenues', 'bool', 'size',\n",
    "       'Quantity_sold_per_year(in kg)', 'station_type', 'Revenues_day',\n",
    "       'EBITDA', 'Opex', 'EBIT', 'depreciation', 'date_installation']]\n",
    "    \n",
    "    exploration = shp_file.explore(column=\"date_installation\", cmap=\"Blues\")\n",
    "    \n",
    "    return exploration"
   ]
  },
  {
   "cell_type": "raw",
   "id": "d5e5364a-fff5-41b2-85ea-a68ed4a8d119",
   "metadata": {},
   "source": [
    "plotting_installations(scenario_example)"
   ]
  },
  {
   "cell_type": "code",
   "execution_count": 190,
   "id": "3b91e1ca-eb4b-4525-bed5-c1651e296bd2",
   "metadata": {},
   "outputs": [],
   "source": [
    "from sklearn.cluster import KMeans\n",
    "from sklearn.metrics import silhouette_score\n",
    "import matplotlib.pyplot as plt\n",
    "%matplotlib inline"
   ]
  },
  {
   "cell_type": "code",
   "execution_count": 216,
   "id": "d5b8bf98-3233-4724-9f3b-702269835d9b",
   "metadata": {},
   "outputs": [],
   "source": [
    "def clustering_of_stations(results:pd.core.frame.DataFrame, k_max:int=40):\n",
    "    results_to_cluster = results[['easting', \"northing\"]]\n",
    "    result_of_clustering = {}\n",
    "    K = range(2, k_max)\n",
    "    for k in tqdm(K):\n",
    "        result_of_clustering[k] = {}\n",
    "        kmeanModel = KMeans(n_clusters=k)\n",
    "        kmeanModel.fit(results_to_cluster)\n",
    "        result_of_clustering[k]['inertia'] = kmeanModel.inertia_\n",
    "        result_of_clustering[k]['silhouette'] = silhouette_score(results_to_cluster, kmeanModel.labels_)\n",
    "        result_of_clustering[k]['labels'] = kmeanModel.labels_\n",
    "        result_of_clustering[k]['centroids'] = kmeanModel.cluster_centers_\n",
    "    \n",
    "    _, (ax1, ax2) = plt.subplots(2, 1, figsize=(20,16))\n",
    "\n",
    "    ax1.plot(K, [i[\"inertia\"] for i in result_of_clustering.values()], 'bx-')\n",
    "\n",
    "    ax2.plot(K, [i[\"silhouette\"] for i in result_of_clustering.values()], 'bx-')\n",
    "\n",
    "    ax1.set_title('Finding the optimal k', {'fontsize':30})\n",
    "    ax1.set_ylabel('Inertia')\n",
    "    ax2.set_ylabel('Silhouette score')\n",
    "\n",
    "    plt.show()\n",
    "\n",
    "    return result_of_clustering "
   ]
  },
  {
   "cell_type": "code",
   "execution_count": 217,
   "id": "8d3346ac-d547-4e56-8276-1a6e87b12edb",
   "metadata": {
    "tags": []
   },
   "outputs": [
    {
     "name": "stderr",
     "output_type": "stream",
     "text": [
      "100%|███████████████████████████████████████████| 38/38 [00:03<00:00,  9.54it/s]\n"
     ]
    },
    {
     "data": {
      "image/png": "[encoded data removed]",
      "text/plain": [
       "<Figure size 1440x1152 with 2 Axes>"
      ]
     },
     "metadata": {
      "needs_background": "light"
     },
     "output_type": "display_data"
    }
   ],
   "source": [
    "result_of_clustering_test_function = clustering_of_stations(results)"
   ]
  },
  {
   "cell_type": "code",
   "execution_count": 94,
   "id": "bbf76977-8dd8-4fbe-b919-c13f0f2760da",
   "metadata": {},
   "outputs": [],
   "source": [
    "results_to_cluster['cluster'] = result_of_clustering[21]['labels']"
   ]
  },
  {
   "cell_type": "code",
   "execution_count": 95,
   "id": "a2bc209e-38ee-4288-ac86-6b847b2bfb2b",
   "metadata": {},
   "outputs": [],
   "source": [
    "results_to_cluster['geometry'] = results.geometry"
   ]
  },
  {
   "cell_type": "code",
   "execution_count": 120,
   "id": "b7072c50-9faf-4b2a-94da-a0acefbc162a",
   "metadata": {},
   "outputs": [],
   "source": [
    "clustered_results = gpd.GeoDataFrame(results_to_cluster, crs=\"epsg:2154\")#.explore(column=\"cluster\", cmap=\"hsv\")"
   ]
  },
  {
   "cell_type": "raw",
   "id": "158b59fd-adf7-4fbb-9e3b-a50d40ba7141",
   "metadata": {},
   "source": [
    "clustered_results.explore(column=\"cluster\", cmap=\"hsv\")"
   ]
  },
  {
   "cell_type": "raw",
   "id": "d4fe7701-b514-4d30-be46-570da8e6d967",
   "metadata": {},
   "source": [
    "clustered_results"
   ]
  },
  {
   "cell_type": "raw",
   "id": "702d8a73-7731-418e-9f89-39060a980319",
   "metadata": {},
   "source": [
    "clusters = gpd.GeoDataFrame({\"geometry\":gpd.points_from_xy(x=[i[0] for i in result_of_clustering[21]['centroids']],\n",
    "                                                y=[i[1] for i in result_of_clustering[21]['centroids']]),\n",
    "                 \"cluster\":[i for i in range(0, 21)]},\n",
    "                 crs=\"epsg:2154\")"
   ]
  },
  {
   "cell_type": "raw",
   "id": "bcdb7e88-b47d-4a79-a628-1283425f8629",
   "metadata": {},
   "source": [
    "clusters.head()"
   ]
  },
  {
   "cell_type": "code",
   "execution_count": 483,
   "id": "3a050125-8de1-46d0-8c87-dcc32a440b6c",
   "metadata": {},
   "outputs": [],
   "source": [
    "def plot_clusters_(productions_sites, routes, stations, cmap=\"gist_ncar\"):\n",
    "    shp_production_sites = gpd.GeoDataFrame({'geometry': production_sites.geometry, \n",
    "                                         'nom': [f'{i+1}th production site' for i in range(production_sites.shape[0])]}, \n",
    "                                        crs=\"epsg:2154\")\n",
    "    \n",
    "    shp_routes = gpd.GeoDataFrame({'geometry': routes.geometry, \n",
    "                                         'nom': ['0 route' for i in range(routes.shape[0])]}, \n",
    "                                        crs=\"epsg:2154\")\n",
    "    \n",
    "    shp_file = pd.concat([shp_routes, shp_production_sites])\n",
    "\n",
    "    mask = shp_file['nom'] != \"0 route\"\n",
    "    shp_file.loc[mask, 'geometry'] = shp_file.loc[mask, 'geometry'].apply(lambda x: x.buffer(50000))\n",
    "\n",
    "\n",
    "    shp_stations = gpd.GeoDataFrame({'geometry': stations.geometry, \n",
    "                                         'nom': [f'{i+1}th cluster of stations' for i in stations.cluster]}, \n",
    "                                        crs=\"epsg:2154\")\n",
    "    \n",
    "    shp_file = pd.concat([shp_file, shp_stations])\n",
    "    \n",
    "    exploration = shp_file.explore(column='nom', cmap=cmap)\n",
    "    \n",
    "    return exploration"
   ]
  },
  {
   "cell_type": "raw",
   "id": "b8e37a78-c067-4640-bb8a-d57db5035a64",
   "metadata": {},
   "source": [
    "plot_clusters_(productions_sites=clusters, \n",
    "              routes=shp_tmja, \n",
    "              stations=clustered_results)"
   ]
  },
  {
   "cell_type": "code",
   "execution_count": null,
   "id": "cf316098-707c-45b2-95a7-a5582251ae8c",
   "metadata": {},
   "outputs": [],
   "source": []
  }
 ],
 "metadata": {
  "kernelspec": {
   "display_name": "Python 3 (ipykernel)",
   "language": "python",
   "name": "python3"
  },
  "language_info": {
   "codemirror_mode": {
    "name": "ipython",
    "version": 3
   },
   "file_extension": ".py",
   "mimetype": "text/x-python",
   "name": "python",
   "nbconvert_exporter": "python",
   "pygments_lexer": "ipython3",
   "version": "3.8.2"
  }
 },
 "nbformat": 4,
 "nbformat_minor": 5
}
