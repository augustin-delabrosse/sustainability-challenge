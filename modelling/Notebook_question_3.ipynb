{
 "cells": [
  {
   "cell_type": "code",
   "execution_count": 1,
   "metadata": {},
   "outputs": [],
   "source": [
    "import numpy as np\n",
    "import pandas as pd \n",
    "import matplotlib.pyplot as plt\n",
    "import seaborn as sns\n",
    "import geopandas as gpd\n",
    "import pyproj \n",
    "from tqdm import tqdm\n",
    "import reverse_geocoder as rg\n",
    "from deap import base, creator, tools\n",
    "import random\n",
    "\n",
    "from shapely.geometry import Point\n",
    "from shapely.geometry import LineString\n",
    "\n",
    "from preprocessing.pre_process_stations import *\n",
    "from preprocessing.pre_process_traffic import *\n",
    "from preprocessing.helping_functions import *\n",
    "\n",
    "from features.config import *\n",
    "from features.financials import *\n",
    "\n",
    "from models.question_1 import *\n",
    "from models.question_2 import *\n",
    "from models.question_3 import *\n",
    "\n",
    "from models.question_3_genetic_algorithm import *"
   ]
  },
  {
   "cell_type": "code",
   "execution_count": 2,
   "metadata": {},
   "outputs": [],
   "source": [
    "import warnings\n",
    "\n",
    "warnings.filterwarnings(\"ignore\")"
   ]
  },
  {
   "cell_type": "code",
   "execution_count": 3,
   "metadata": {},
   "outputs": [],
   "source": [
    "class Config:\n",
    "    PATH = '../../data/'\n",
    "\n",
    "config = Config()"
   ]
  },
  {
   "cell_type": "code",
   "execution_count": 2,
   "metadata": {},
   "outputs": [],
   "source": [
    "stations = pd.read_csv('results/results_stations_2040_part_3_1.csv') ### Specify name of file "
   ]
  },
  {
   "cell_type": "code",
   "execution_count": 89,
   "metadata": {},
   "outputs": [],
   "source": [
    "# scenario 1\n",
    "stations = financials(stations,2030)\n",
    "stations = deployment_dates(stations, year_start=2030, year_end=2040)\n"
   ]
  },
  {
   "cell_type": "code",
   "execution_count": 92,
   "metadata": {},
   "outputs": [
    {
     "name": "stderr",
     "output_type": "stream",
     "text": [
      "/var/folders/rr/yg52h5vs029c2dttgv9gyn540000gn/T/ipykernel_53644/4022370631.py:2: SettingWithCopyWarning: \n",
      "A value is trying to be set on a copy of a slice from a DataFrame.\n",
      "Try using .loc[row_indexer,col_indexer] = value instead\n",
      "\n",
      "See the caveats in the documentation: https://pandas.pydata.org/pandas-docs/stable/user_guide/indexing.html#returning-a-view-versus-a-copy\n",
      "  sub_df['station_type'] = 'small'\n"
     ]
    }
   ],
   "source": [
    "sub_df = stations[stations['station_type']=='not profitable']\n",
    "sub_df['station_type'] = 'small'\n",
    "stations[stations['station_type']=='not profitable'] = sub_df"
   ]
  },
  {
   "cell_type": "code",
   "execution_count": 93,
   "metadata": {},
   "outputs": [],
   "source": [
    "stations.to_csv('results/results_stations_2030_part_3_1.csv')"
   ]
  },
  {
   "cell_type": "code",
   "execution_count": 3,
   "metadata": {},
   "outputs": [],
   "source": [
    "# scenario 2\n",
    "stations = financials(stations,2040)\n",
    "stations = scenario_2(stations, percentage = 0.5)"
   ]
  },
  {
   "cell_type": "code",
   "execution_count": 5,
   "metadata": {},
   "outputs": [
    {
     "name": "stderr",
     "output_type": "stream",
     "text": [
      "/var/folders/rr/yg52h5vs029c2dttgv9gyn540000gn/T/ipykernel_59131/4022370631.py:2: SettingWithCopyWarning: \n",
      "A value is trying to be set on a copy of a slice from a DataFrame.\n",
      "Try using .loc[row_indexer,col_indexer] = value instead\n",
      "\n",
      "See the caveats in the documentation: https://pandas.pydata.org/pandas-docs/stable/user_guide/indexing.html#returning-a-view-versus-a-copy\n",
      "  sub_df['station_type'] = 'small'\n"
     ]
    }
   ],
   "source": [
    "sub_df = stations[stations['station_type']=='not profitable']\n",
    "sub_df['station_type'] = 'small'\n",
    "stations[stations['station_type']=='not profitable'] = sub_df"
   ]
  },
  {
   "cell_type": "code",
   "execution_count": 29,
   "metadata": {},
   "outputs": [],
   "source": [
    "stations.to_csv('results/results_stations_2040_part_3_2.csv')"
   ]
  },
  {
   "attachments": {},
   "cell_type": "markdown",
   "metadata": {},
   "source": [
    "### Scenario 3.3"
   ]
  },
  {
   "cell_type": "code",
   "execution_count": 67,
   "metadata": {},
   "outputs": [],
   "source": [
    "stations = pd.read_csv('results/results_stations_2030_part_3_3.csv')"
   ]
  },
  {
   "cell_type": "code",
   "execution_count": 5,
   "metadata": {},
   "outputs": [],
   "source": [
    "# Select only 1/3 of the non-profitable stations\n",
    "sub_df = stations[stations['station_type']=='not profitable'].sort_values(by='EBITDA',ascending=False)\n",
    "sub_df = sub_df[:374]"
   ]
  },
  {
   "cell_type": "code",
   "execution_count": 80,
   "metadata": {},
   "outputs": [],
   "source": [
    "stations_v2 = pd.concat([stations[stations['station_type']!='not profitable'],sub_df],axis=0)"
   ]
  },
  {
   "cell_type": "code",
   "execution_count": 81,
   "metadata": {},
   "outputs": [
    {
     "name": "stderr",
     "output_type": "stream",
     "text": [
      "/var/folders/rr/yg52h5vs029c2dttgv9gyn540000gn/T/ipykernel_53644/1792527654.py:2: SettingWithCopyWarning: \n",
      "A value is trying to be set on a copy of a slice from a DataFrame.\n",
      "Try using .loc[row_indexer,col_indexer] = value instead\n",
      "\n",
      "See the caveats in the documentation: https://pandas.pydata.org/pandas-docs/stable/user_guide/indexing.html#returning-a-view-versus-a-copy\n",
      "  sub_df['station_type'] = 'small'\n"
     ]
    }
   ],
   "source": [
    "sub_df = stations_v2[stations_v2['station_type']=='not profitable']\n",
    "sub_df['station_type'] = 'small'\n",
    "stations_v2[stations_v2['station_type']=='not profitable'] = sub_df"
   ]
  },
  {
   "cell_type": "code",
   "execution_count": 84,
   "metadata": {},
   "outputs": [],
   "source": [
    "stations_deploy = deployment_dates(stations_v2, year_start=2030, year_end=2040)"
   ]
  },
  {
   "cell_type": "code",
   "execution_count": 86,
   "metadata": {},
   "outputs": [],
   "source": [
    "stations_v2['date_installation'] = stations_deploy['date_installation']"
   ]
  },
  {
   "cell_type": "code",
   "execution_count": 87,
   "metadata": {},
   "outputs": [],
   "source": [
    "stations_v2.to_csv('results/results_stations_2040_part_3_3.csv')"
   ]
  }
 ],
 "metadata": {
  "kernelspec": {
   "display_name": "bikes-ramp",
   "language": "python",
   "name": "python3"
  },
  "language_info": {
   "codemirror_mode": {
    "name": "ipython",
    "version": 3
   },
   "file_extension": ".py",
   "mimetype": "text/x-python",
   "name": "python",
   "nbconvert_exporter": "python",
   "pygments_lexer": "ipython3",
   "version": "3.9.7"
  },
  "orig_nbformat": 4
 },
 "nbformat": 4,
 "nbformat_minor": 2
}
