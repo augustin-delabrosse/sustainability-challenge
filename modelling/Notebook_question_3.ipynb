{
 "cells": [
  {
   "cell_type": "code",
   "execution_count": 11,
   "metadata": {},
   "outputs": [],
   "source": [
    "import numpy as np\n",
    "import pandas as pd \n",
    "import matplotlib.pyplot as plt\n",
    "import seaborn as sns\n",
    "import geopandas as gpd\n",
    "import pyproj \n",
    "from tqdm import tqdm\n",
    "import reverse_geocoder as rg\n",
    "from deap import base, creator, tools\n",
    "import random\n",
    "\n",
    "from shapely.geometry import Point\n",
    "from shapely.geometry import LineString\n",
    "\n",
    "from preprocessing.pre_process_stations import *\n",
    "from preprocessing.pre_process_traffic import *\n",
    "from preprocessing.helping_functions import *\n",
    "\n",
    "from features.config import *\n",
    "from features.question_2_financials import *\n",
    "\n",
    "from models.question_1 import *\n",
    "from models.question_2 import *\n",
    "from models.question_3 import *\n",
    "\n",
    "from models.genetic_algorithm_part3_1 import *"
   ]
  },
  {
   "cell_type": "code",
   "execution_count": 12,
   "metadata": {},
   "outputs": [],
   "source": [
    "stations_2030_3_1 = pd.read_csv('results_stations_2030_part_3_1.csv') ### Specify name of file "
   ]
  },
  {
   "cell_type": "code",
   "execution_count": 13,
   "metadata": {},
   "outputs": [
    {
     "name": "stdout",
     "output_type": "stream",
     "text": [
      "876.0\n"
     ]
    }
   ],
   "source": [
    "stations_2030_3_1 = sales(stations_2030_3_1,2030)\n",
    "stations_2030_3_1 = financials(stations_2030_3_1,2030)"
   ]
  },
  {
   "cell_type": "code",
   "execution_count": 14,
   "metadata": {},
   "outputs": [],
   "source": [
    "stations_2030_3_1 = deployment_dates(stations_2030_3_1, year_start=2023, year_end=2030)"
   ]
  },
  {
   "cell_type": "code",
   "execution_count": 15,
   "metadata": {},
   "outputs": [
    {
     "data": {
      "text/plain": [
       "not profitable    206\n",
       "large             148\n",
       "small              28\n",
       "Name: station_type, dtype: int64"
      ]
     },
     "execution_count": 15,
     "metadata": {},
     "output_type": "execute_result"
    }
   ],
   "source": [
    "stations_2030_3_1['station_type'].value_counts()"
   ]
  },
  {
   "cell_type": "code",
   "execution_count": 16,
   "metadata": {},
   "outputs": [
    {
     "name": "stderr",
     "output_type": "stream",
     "text": [
      "/var/folders/rr/yg52h5vs029c2dttgv9gyn540000gn/T/ipykernel_48813/842306088.py:2: SettingWithCopyWarning: \n",
      "A value is trying to be set on a copy of a slice from a DataFrame.\n",
      "Try using .loc[row_indexer,col_indexer] = value instead\n",
      "\n",
      "See the caveats in the documentation: https://pandas.pydata.org/pandas-docs/stable/user_guide/indexing.html#returning-a-view-versus-a-copy\n",
      "  sub_df['station_type'] = 'small'\n"
     ]
    }
   ],
   "source": [
    "sub_df = stations_2030_3_1[stations_2030_3_1['station_type']=='not profitable']\n",
    "sub_df['station_type'] = 'small'\n",
    "stations_2030_3_1[stations_2030_3_1['station_type']=='not profitable'] = sub_df"
   ]
  },
  {
   "cell_type": "code",
   "execution_count": 17,
   "metadata": {},
   "outputs": [],
   "source": [
    "stations_2030_3_1.to_csv('results_stations_2030_part_3_3.csv')"
   ]
  },
  {
   "cell_type": "code",
   "execution_count": 20,
   "metadata": {},
   "outputs": [
    {
     "data": {
      "text/plain": [
       "2023    115\n",
       "2024     40\n",
       "2025     40\n",
       "2027     38\n",
       "2028     38\n",
       "2029     38\n",
       "2026     38\n",
       "2030     35\n",
       "Name: date_installation, dtype: int64"
      ]
     },
     "execution_count": 20,
     "metadata": {},
     "output_type": "execute_result"
    }
   ],
   "source": [
    "### histogramme \n",
    "stations_2030_3_1['date_installation'].value_counts()"
   ]
  },
  {
   "cell_type": "code",
   "execution_count": 21,
   "metadata": {},
   "outputs": [],
   "source": [
    "### pie chart\n"
   ]
  },
  {
   "cell_type": "code",
   "execution_count": null,
   "metadata": {},
   "outputs": [],
   "source": []
  }
 ],
 "metadata": {
  "kernelspec": {
   "display_name": "bikes-ramp",
   "language": "python",
   "name": "python3"
  },
  "language_info": {
   "codemirror_mode": {
    "name": "ipython",
    "version": 3
   },
   "file_extension": ".py",
   "mimetype": "text/x-python",
   "name": "python",
   "nbconvert_exporter": "python",
   "pygments_lexer": "ipython3",
   "version": "3.9.7"
  },
  "orig_nbformat": 4
 },
 "nbformat": 4,
 "nbformat_minor": 2
}
