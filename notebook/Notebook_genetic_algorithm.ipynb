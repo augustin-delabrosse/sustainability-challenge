{
 "cells": [
  {
   "cell_type": "code",
   "execution_count": 3,
   "metadata": {},
   "outputs": [],
   "source": [
    "import numpy as np\n",
    "import pandas as pd \n",
    "import matplotlib.pyplot as plt\n",
    "import seaborn as sns\n",
    "import geopandas as gpd\n",
    "import pyproj \n",
    "from tqdm import tqdm\n",
    "import reverse_geocoder as rg\n",
    "\n",
    "from shapely.geometry import Point\n",
    "from shapely.geometry import LineString\n",
    "\n",
    "from preprocessing.pre_process_stations import *\n",
    "from preprocessing.pre_process_traffic import *\n",
    "from preprocessing.helping_functions import *\n",
    "\n",
    "from features.config import *\n",
    "from features.financials_part_2 import *\n",
    "from features.question_1 import *\n",
    "from features.question_2 import *"
   ]
  },
  {
   "cell_type": "code",
   "execution_count": 4,
   "metadata": {},
   "outputs": [],
   "source": [
    "import warnings\n",
    "\n",
    "warnings.filterwarnings(\"ignore\")"
   ]
  },
  {
   "cell_type": "code",
   "execution_count": 5,
   "metadata": {},
   "outputs": [],
   "source": [
    "class Config:\n",
    "    PATH = '../../data/'\n",
    "\n",
    "class Params:\n",
    "    PARAM = 0\n",
    "config = Config()\n",
    "p = Params()"
   ]
  },
  {
   "cell_type": "markdown",
   "metadata": {},
   "source": [
    "## Load data"
   ]
  },
  {
   "cell_type": "code",
   "execution_count": 7,
   "metadata": {},
   "outputs": [
    {
     "ename": "DriverError",
     "evalue": "../../data/new_coordinates/new_coordinates.shp: No such file or directory",
     "output_type": "error",
     "traceback": [
      "\u001b[1;31m---------------------------------------------------------------------------\u001b[0m",
      "\u001b[1;31mCPLE_OpenFailedError\u001b[0m                      Traceback (most recent call last)",
      "File \u001b[1;32mfiona\\ogrext.pyx:136\u001b[0m, in \u001b[0;36mfiona.ogrext.gdal_open_vector\u001b[1;34m()\u001b[0m\n",
      "File \u001b[1;32mfiona\\_err.pyx:291\u001b[0m, in \u001b[0;36mfiona._err.exc_wrap_pointer\u001b[1;34m()\u001b[0m\n",
      "\u001b[1;31mCPLE_OpenFailedError\u001b[0m: ../../data/new_coordinates/new_coordinates.shp: No such file or directory",
      "\nDuring handling of the above exception, another exception occurred:\n",
      "\u001b[1;31mDriverError\u001b[0m                               Traceback (most recent call last)",
      "Cell \u001b[1;32mIn[7], line 2\u001b[0m\n\u001b[0;32m      1\u001b[0m \u001b[39m##### Load new coordinates\u001b[39;00m\n\u001b[1;32m----> 2\u001b[0m df_new_points \u001b[39m=\u001b[39m gpd\u001b[39m.\u001b[39;49mread_file(config\u001b[39m.\u001b[39;49mPATH\u001b[39m+\u001b[39;49m\u001b[39m'\u001b[39;49m\u001b[39mnew_coordinates/new_coordinates.shp\u001b[39;49m\u001b[39m'\u001b[39;49m)\n\u001b[0;32m      4\u001b[0m \u001b[39m##### Load hub data \u001b[39;00m\n\u001b[0;32m      5\u001b[0m df_hub_dense \u001b[39m=\u001b[39m gpd\u001b[39m.\u001b[39mread_file(config\u001b[39m.\u001b[39mPATH\u001b[39m+\u001b[39m\u001b[39m'\u001b[39m\u001b[39mF-aire-logistiques-donnees-detaillees/Aires_logistiques_denses.shp\u001b[39m\u001b[39m'\u001b[39m)\n",
      "File \u001b[1;32m~\\AppData\\Local\\Packages\\PythonSoftwareFoundation.Python.3.10_qbz5n2kfra8p0\\LocalCache\\local-packages\\Python310\\site-packages\\geopandas\\io\\file.py:259\u001b[0m, in \u001b[0;36m_read_file\u001b[1;34m(filename, bbox, mask, rows, engine, **kwargs)\u001b[0m\n\u001b[0;32m    256\u001b[0m     path_or_bytes \u001b[39m=\u001b[39m filename\n\u001b[0;32m    258\u001b[0m \u001b[39mif\u001b[39;00m engine \u001b[39m==\u001b[39m \u001b[39m\"\u001b[39m\u001b[39mfiona\u001b[39m\u001b[39m\"\u001b[39m:\n\u001b[1;32m--> 259\u001b[0m     \u001b[39mreturn\u001b[39;00m _read_file_fiona(\n\u001b[0;32m    260\u001b[0m         path_or_bytes, from_bytes, bbox\u001b[39m=\u001b[39mbbox, mask\u001b[39m=\u001b[39mmask, rows\u001b[39m=\u001b[39mrows, \u001b[39m*\u001b[39m\u001b[39m*\u001b[39mkwargs\n\u001b[0;32m    261\u001b[0m     )\n\u001b[0;32m    262\u001b[0m \u001b[39melif\u001b[39;00m engine \u001b[39m==\u001b[39m \u001b[39m\"\u001b[39m\u001b[39mpyogrio\u001b[39m\u001b[39m\"\u001b[39m:\n\u001b[0;32m    263\u001b[0m     \u001b[39mreturn\u001b[39;00m _read_file_pyogrio(\n\u001b[0;32m    264\u001b[0m         path_or_bytes, bbox\u001b[39m=\u001b[39mbbox, mask\u001b[39m=\u001b[39mmask, rows\u001b[39m=\u001b[39mrows, \u001b[39m*\u001b[39m\u001b[39m*\u001b[39mkwargs\n\u001b[0;32m    265\u001b[0m     )\n",
      "File \u001b[1;32m~\\AppData\\Local\\Packages\\PythonSoftwareFoundation.Python.3.10_qbz5n2kfra8p0\\LocalCache\\local-packages\\Python310\\site-packages\\geopandas\\io\\file.py:303\u001b[0m, in \u001b[0;36m_read_file_fiona\u001b[1;34m(path_or_bytes, from_bytes, bbox, mask, rows, where, **kwargs)\u001b[0m\n\u001b[0;32m    300\u001b[0m     reader \u001b[39m=\u001b[39m fiona\u001b[39m.\u001b[39mopen\n\u001b[0;32m    302\u001b[0m \u001b[39mwith\u001b[39;00m fiona_env():\n\u001b[1;32m--> 303\u001b[0m     \u001b[39mwith\u001b[39;00m reader(path_or_bytes, \u001b[39m*\u001b[39m\u001b[39m*\u001b[39mkwargs) \u001b[39mas\u001b[39;00m features:\n\u001b[0;32m    304\u001b[0m         crs \u001b[39m=\u001b[39m features\u001b[39m.\u001b[39mcrs_wkt\n\u001b[0;32m    305\u001b[0m         \u001b[39m# attempt to get EPSG code\u001b[39;00m\n",
      "File \u001b[1;32m~\\AppData\\Local\\Packages\\PythonSoftwareFoundation.Python.3.10_qbz5n2kfra8p0\\LocalCache\\local-packages\\Python310\\site-packages\\fiona\\env.py:457\u001b[0m, in \u001b[0;36mensure_env_with_credentials.<locals>.wrapper\u001b[1;34m(*args, **kwds)\u001b[0m\n\u001b[0;32m    454\u001b[0m     session \u001b[39m=\u001b[39m DummySession()\n\u001b[0;32m    456\u001b[0m \u001b[39mwith\u001b[39;00m env_ctor(session\u001b[39m=\u001b[39msession):\n\u001b[1;32m--> 457\u001b[0m     \u001b[39mreturn\u001b[39;00m f(\u001b[39m*\u001b[39margs, \u001b[39m*\u001b[39m\u001b[39m*\u001b[39mkwds)\n",
      "File \u001b[1;32m~\\AppData\\Local\\Packages\\PythonSoftwareFoundation.Python.3.10_qbz5n2kfra8p0\\LocalCache\\local-packages\\Python310\\site-packages\\fiona\\__init__.py:352\u001b[0m, in \u001b[0;36mopen\u001b[1;34m(fp, mode, driver, schema, crs, encoding, layer, vfs, enabled_drivers, crs_wkt, allow_unsupported_drivers, **kwargs)\u001b[0m\n\u001b[0;32m    349\u001b[0m     path \u001b[39m=\u001b[39m parse_path(fp)\n\u001b[0;32m    351\u001b[0m \u001b[39mif\u001b[39;00m mode \u001b[39min\u001b[39;00m (\u001b[39m\"\u001b[39m\u001b[39ma\u001b[39m\u001b[39m\"\u001b[39m, \u001b[39m\"\u001b[39m\u001b[39mr\u001b[39m\u001b[39m\"\u001b[39m):\n\u001b[1;32m--> 352\u001b[0m     colxn \u001b[39m=\u001b[39m Collection(\n\u001b[0;32m    353\u001b[0m         path,\n\u001b[0;32m    354\u001b[0m         mode,\n\u001b[0;32m    355\u001b[0m         driver\u001b[39m=\u001b[39mdriver,\n\u001b[0;32m    356\u001b[0m         encoding\u001b[39m=\u001b[39mencoding,\n\u001b[0;32m    357\u001b[0m         layer\u001b[39m=\u001b[39mlayer,\n\u001b[0;32m    358\u001b[0m         enabled_drivers\u001b[39m=\u001b[39menabled_drivers,\n\u001b[0;32m    359\u001b[0m         allow_unsupported_drivers\u001b[39m=\u001b[39mallow_unsupported_drivers,\n\u001b[0;32m    360\u001b[0m         \u001b[39m*\u001b[39m\u001b[39m*\u001b[39mkwargs\n\u001b[0;32m    361\u001b[0m     )\n\u001b[0;32m    362\u001b[0m \u001b[39melif\u001b[39;00m mode \u001b[39m==\u001b[39m \u001b[39m\"\u001b[39m\u001b[39mw\u001b[39m\u001b[39m\"\u001b[39m:\n\u001b[0;32m    363\u001b[0m     colxn \u001b[39m=\u001b[39m Collection(\n\u001b[0;32m    364\u001b[0m         path,\n\u001b[0;32m    365\u001b[0m         mode,\n\u001b[1;32m   (...)\u001b[0m\n\u001b[0;32m    374\u001b[0m         \u001b[39m*\u001b[39m\u001b[39m*\u001b[39mkwargs\n\u001b[0;32m    375\u001b[0m     )\n",
      "File \u001b[1;32m~\\AppData\\Local\\Packages\\PythonSoftwareFoundation.Python.3.10_qbz5n2kfra8p0\\LocalCache\\local-packages\\Python310\\site-packages\\fiona\\collection.py:234\u001b[0m, in \u001b[0;36mCollection.__init__\u001b[1;34m(self, path, mode, driver, schema, crs, encoding, layer, vsi, archive, enabled_drivers, crs_wkt, ignore_fields, ignore_geometry, include_fields, wkt_version, allow_unsupported_drivers, **kwargs)\u001b[0m\n\u001b[0;32m    232\u001b[0m \u001b[39mif\u001b[39;00m \u001b[39mself\u001b[39m\u001b[39m.\u001b[39mmode \u001b[39m==\u001b[39m \u001b[39m\"\u001b[39m\u001b[39mr\u001b[39m\u001b[39m\"\u001b[39m:\n\u001b[0;32m    233\u001b[0m     \u001b[39mself\u001b[39m\u001b[39m.\u001b[39msession \u001b[39m=\u001b[39m Session()\n\u001b[1;32m--> 234\u001b[0m     \u001b[39mself\u001b[39m\u001b[39m.\u001b[39msession\u001b[39m.\u001b[39mstart(\u001b[39mself\u001b[39m, \u001b[39m*\u001b[39m\u001b[39m*\u001b[39mkwargs)\n\u001b[0;32m    235\u001b[0m \u001b[39melif\u001b[39;00m \u001b[39mself\u001b[39m\u001b[39m.\u001b[39mmode \u001b[39min\u001b[39;00m (\u001b[39m\"\u001b[39m\u001b[39ma\u001b[39m\u001b[39m\"\u001b[39m, \u001b[39m\"\u001b[39m\u001b[39mw\u001b[39m\u001b[39m\"\u001b[39m):\n\u001b[0;32m    236\u001b[0m     \u001b[39mself\u001b[39m\u001b[39m.\u001b[39msession \u001b[39m=\u001b[39m WritingSession()\n",
      "File \u001b[1;32mfiona\\ogrext.pyx:587\u001b[0m, in \u001b[0;36mfiona.ogrext.Session.start\u001b[1;34m()\u001b[0m\n",
      "File \u001b[1;32mfiona\\ogrext.pyx:143\u001b[0m, in \u001b[0;36mfiona.ogrext.gdal_open_vector\u001b[1;34m()\u001b[0m\n",
      "\u001b[1;31mDriverError\u001b[0m: ../../data/new_coordinates/new_coordinates.shp: No such file or directory"
     ]
    }
   ],
   "source": [
    "##### Load new coordinates\n",
    "df_new_points = gpd.read_file(config.PATH+'new_coordinates/new_coordinates.shp')\n",
    "\n",
    "##### Load hub data \n",
    "df_hub_dense = gpd.read_file(config.PATH+'F-aire-logistiques-donnees-detaillees/Aires_logistiques_denses.shp')\n",
    "df_hub_enlarged = gpd.read_file(config.PATH+'F-aire-logistiques-donnees-detaillees/Aires_logistiques_elargies.shp')"
   ]
  },
  {
   "cell_type": "code",
   "execution_count": 6,
   "metadata": {},
   "outputs": [
    {
     "name": "stdout",
     "output_type": "stream",
     "text": [
      "Loading formatted geocoded file...\n"
     ]
    }
   ],
   "source": [
    "##### Load traffic data\n",
    "df_traffic = gpd.read_file(config.PATH+'E-tmja2019-shp/TMJA2019.shp')\n",
    "df_traffic = preprocess_data(df_traffic)\n",
    "df_traffic = fix_tmja(df_traffic)"
   ]
  },
  {
   "cell_type": "code",
   "execution_count": 7,
   "metadata": {},
   "outputs": [
    {
     "name": "stderr",
     "output_type": "stream",
     "text": [
      "100%|██████████| 13978/13978 [01:40<00:00, 139.07it/s]\n"
     ]
    }
   ],
   "source": [
    "df_new_points = distance_to_hub(df_hub_dense, df_hub_enlarged, df_new_points)"
   ]
  },
  {
   "cell_type": "code",
   "execution_count": 8,
   "metadata": {},
   "outputs": [
    {
     "name": "stderr",
     "output_type": "stream",
     "text": [
      "100%|██████████| 13978/13978 [04:44<00:00, 49.17it/s]\n"
     ]
    }
   ],
   "source": [
    "df_new_points = station_distances_all(df_new_points)"
   ]
  },
  {
   "attachments": {},
   "cell_type": "markdown",
   "metadata": {},
   "source": [
    "## Genetic algorithm deap library\n"
   ]
  },
  {
   "cell_type": "code",
   "execution_count": 9,
   "metadata": {},
   "outputs": [
    {
     "ename": "",
     "evalue": "",
     "output_type": "error",
     "traceback": [
      "\u001b[1;31mCanceled future for execute_request message before replies were done"
     ]
    },
    {
     "ename": "",
     "evalue": "",
     "output_type": "error",
     "traceback": [
      "\u001b[1;31mThe Kernel crashed while executing code in the the current cell or a previous cell. Please review the code in the cell(s) to identify a possible cause of the failure. Click <a href='https://aka.ms/vscodeJupyterKernelCrash'>here</a> for more info. View Jupyter <a href='command:jupyter.viewOutput'>log</a> for further details."
     ]
    }
   ],
   "source": [
    "df_stations = df_new_points.merge(df_traffic, how='left', on='route')"
   ]
  },
  {
   "cell_type": "code",
   "execution_count": null,
   "metadata": {},
   "outputs": [],
   "source": [
    "df_stations = sales(df_stations,2030)"
   ]
  },
  {
   "cell_type": "code",
   "execution_count": null,
   "metadata": {
    "scrolled": true,
    "tags": []
   },
   "outputs": [],
   "source": [
    "import random\n",
    "import numpy as np\n",
    "from deap import base, creator, tools\n",
    "\n",
    "# Define the fitness function that takes a pandas DataFrame as input and returns a fitness score\n",
    "def fitness(X,data: pd.DataFrame=df_stations):\n",
    "    index = X[0]\n",
    "\n",
    "    if type(index)==int:\n",
    "        print('error')\n",
    "        index = np.random.choice(list(range(13978)), size=376, replace=False)\n",
    "\n",
    "    columns_distance = [c for c in data.columns if c.startswith('distance_to_point_')==True]\n",
    "    print(len(columns_distance))\n",
    "    if data.iloc[index,:].shape[0]>0:\n",
    "        columns_distance_drop = [columns_distance[i] for i in index]\n",
    "        data_sub = get_closer_station(data.iloc[index,:].drop(columns=columns_distance_drop))\n",
    "        data_sub = data_sub[data_sub['distance_closer_station'] < 150000*0.8]\n",
    "        # constraint profitability: make sure the station is profitable \n",
    "        fit = - (data_sub['distance_to_closest_large_hub'].mean() + data_sub['distance_to_closest_dense_hub'].mean() - data_sub['distance_closer_station'].mean())/100 + data_sub['Revenues_day'].mean()\n",
    "\n",
    "    else:\n",
    "        fit = 10e10\n",
    "        \n",
    "    return fit\n",
    "\n",
    "# Define the evaluation function\n",
    "def evaluate(individual):\n",
    "    return fitness(individual),\n",
    "\n",
    "# Set up the DEAP toolbox\n",
    "creator.create(\"FitnessMax\", base.Fitness, weights=[1.0,])\n",
    "creator.create(\"Individual\", list, fitness=creator.FitnessMax)\n",
    "toolbox = base.Toolbox()\n",
    "\n",
    "# Register the genetic operators\n",
    "toolbox.register(\"individual\", tools.initRepeat, creator.Individual, lambda: np.random.choice(list(range(3089)), size=376, replace=False),n=1)\n",
    "toolbox.register(\"population\", tools.initRepeat, list, toolbox.individual)\n",
    "\n",
    "toolbox.register(\"mate\", tools.cxTwoPoint)\n",
    "toolbox.register(\"mutate\", tools.mutUniformInt, low=0, up=3, indpb=0.05)\n",
    "toolbox.register(\"select\", tools.selTournament, tournsize=3)\n",
    "toolbox.register(\"evaluate\", evaluate)\n",
    "\n",
    "# Set the number of generations and the population size\n",
    "num_generations = 50\n",
    "population_size = 50\n",
    "\n",
    "# Create the initial population\n",
    "population = toolbox.population(n=population_size)\n",
    "\n",
    "# Evaluate the initial population\n",
    "fitnesses = list(map(toolbox.evaluate, population))\n",
    "for ind, fit in zip(population, fitnesses):        \n",
    "    ind.fitness.values = fit\n",
    "\n",
    "# Set up the hall of fame and statistics objects\n",
    "hof = tools.HallOfFame(1)\n",
    "stats = tools.Statistics(lambda ind: ind.fitness.values)\n",
    "stats.register(\"avg\", np.mean)\n",
    "stats.register(\"max\", np.max)\n",
    "stats.register(\"min\", np.min)\n",
    "stats.register(\"argmin\", np.argmin)\n",
    "\n",
    "avg_fitness = []\n",
    "min_fitness = []\n",
    "max_fitness = []\n",
    "arg_min_fitness = []\n",
    "\n",
    "# Start the evolution process\n",
    "for generation in range(num_generations):\n",
    "    \n",
    "    population = [x for x in population if type(x)!=int]\n",
    "\n",
    "    # Select the next generation individuals\n",
    "    offspring = toolbox.select(population, len(population))\n",
    "\n",
    "    # Clone the selected individuals\n",
    "    offspring = list(map(toolbox.clone, offspring))\n",
    "\n",
    "    # Apply crossover and mutation on the offspring\n",
    "    for child1, child2 in zip(offspring[::2], offspring[1::2]):\n",
    "        if len(child1[0])==1:\n",
    "            child1[0] = np.random.choice(list(range(3089)), size=376, replace=False)\n",
    "        elif len(child1[0])==1:\n",
    "            child2[0] = np.random.choice(list(range(3089)), size=376, replace=False)\n",
    "        else:\n",
    "            toolbox.mate(child1[0], child2[0])\n",
    "        del child1.fitness.values\n",
    "        del child2.fitness.values\n",
    "\n",
    "    for mutant in offspring:\n",
    "        toolbox.mutate(mutant)\n",
    "        del mutant.fitness.values\n",
    "\n",
    "    # Evaluate the new individuals\n",
    "    fresh_individuals = [ind for ind in offspring if not ind.fitness.valid]\n",
    "    fitnesses = map(toolbox.evaluate, fresh_individuals)\n",
    "    for ind, fit in zip(fresh_individuals, fitnesses):\n",
    "        ind.fitness.values = fit\n",
    "\n",
    "    # Add the new individuals to the population\n",
    "    population[:] = offspring\n",
    "\n",
    "    # Update the hall of fame and statistics\n",
    "    #hof.update(population)\n",
    "    record = stats.compile(population)\n",
    "    print(\"Generation {}:\".format(generation + 1))\n",
    "    avg_fitness.append(record[\"avg\"])\n",
    "    min_fitness.append(record[\"min\"])\n",
    "    max_fitness.append(record[\"max\"])\n",
    "    arg_min_fitness.append(record[\"argmin\"])"
   ]
  },
  {
   "cell_type": "code",
   "execution_count": 11,
   "metadata": {},
   "outputs": [
    {
     "ename": "NameError",
     "evalue": "name 'avg_fitness' is not defined",
     "output_type": "error",
     "traceback": [
      "\u001b[0;31m---------------------------------------------------------------------------\u001b[0m",
      "\u001b[0;31mNameError\u001b[0m                                 Traceback (most recent call last)",
      "\u001b[0;32m/var/folders/rr/yg52h5vs029c2dttgv9gyn540000gn/T/ipykernel_30652/2048426267.py\u001b[0m in \u001b[0;36m<module>\u001b[0;34m\u001b[0m\n\u001b[1;32m      1\u001b[0m \u001b[0mfig\u001b[0m \u001b[0;34m=\u001b[0m \u001b[0mplt\u001b[0m\u001b[0;34m.\u001b[0m\u001b[0mfigure\u001b[0m\u001b[0;34m(\u001b[0m\u001b[0mfigsize\u001b[0m\u001b[0;34m=\u001b[0m\u001b[0;34m(\u001b[0m\u001b[0;36m10\u001b[0m\u001b[0;34m,\u001b[0m\u001b[0;36m6\u001b[0m\u001b[0;34m)\u001b[0m\u001b[0;34m)\u001b[0m\u001b[0;34m\u001b[0m\u001b[0;34m\u001b[0m\u001b[0m\n\u001b[0;32m----> 2\u001b[0;31m \u001b[0mplt\u001b[0m\u001b[0;34m.\u001b[0m\u001b[0mplot\u001b[0m\u001b[0;34m(\u001b[0m\u001b[0mnp\u001b[0m\u001b[0;34m.\u001b[0m\u001b[0marange\u001b[0m\u001b[0;34m(\u001b[0m\u001b[0mlen\u001b[0m\u001b[0;34m(\u001b[0m\u001b[0mavg_fitness\u001b[0m\u001b[0;34m)\u001b[0m\u001b[0;34m)\u001b[0m\u001b[0;34m,\u001b[0m\u001b[0mavg_fitness\u001b[0m\u001b[0;34m,\u001b[0m\u001b[0mlabel\u001b[0m\u001b[0;34m=\u001b[0m\u001b[0;34m'mean'\u001b[0m\u001b[0;34m)\u001b[0m\u001b[0;34m\u001b[0m\u001b[0;34m\u001b[0m\u001b[0m\n\u001b[0m\u001b[1;32m      3\u001b[0m \u001b[0;31m# plt.plot(np.arange(len(min_fitness)),min_fitness,label='min')\u001b[0m\u001b[0;34m\u001b[0m\u001b[0;34m\u001b[0m\u001b[0m\n\u001b[1;32m      4\u001b[0m \u001b[0;31m# plt.plot(np.arange(len(max_fitness)),max_fitness,label='max')\u001b[0m\u001b[0;34m\u001b[0m\u001b[0;34m\u001b[0m\u001b[0m\n\u001b[1;32m      5\u001b[0m \u001b[0mplt\u001b[0m\u001b[0;34m.\u001b[0m\u001b[0mxlabel\u001b[0m\u001b[0;34m(\u001b[0m\u001b[0;34m'Generations'\u001b[0m\u001b[0;34m)\u001b[0m\u001b[0;34m\u001b[0m\u001b[0;34m\u001b[0m\u001b[0m\n",
      "\u001b[0;31mNameError\u001b[0m: name 'avg_fitness' is not defined"
     ]
    },
    {
     "data": {
      "text/plain": [
       "<Figure size 720x432 with 0 Axes>"
      ]
     },
     "metadata": {},
     "output_type": "display_data"
    }
   ],
   "source": [
    "fig = plt.figure(figsize=(10,6))\n",
    "plt.plot(np.arange(len(avg_fitness)),avg_fitness,label='mean')\n",
    "plt.xlabel('Generations')\n",
    "plt.ylabel('Average fitness function')\n",
    "plt.legend()\n",
    "plt.title('Evolution of fitness function')\n",
    "plt.show()"
   ]
  },
  {
   "cell_type": "code",
   "execution_count": 427,
   "metadata": {},
   "outputs": [],
   "source": [
    "results = pd.DataFrame(population) # the best individual per generation"
   ]
  },
  {
   "cell_type": "code",
   "execution_count": 428,
   "metadata": {},
   "outputs": [
    {
     "data": {
      "text/html": [
       "<div>\n",
       "<style scoped>\n",
       "    .dataframe tbody tr th:only-of-type {\n",
       "        vertical-align: middle;\n",
       "    }\n",
       "\n",
       "    .dataframe tbody tr th {\n",
       "        vertical-align: top;\n",
       "    }\n",
       "\n",
       "    .dataframe thead th {\n",
       "        text-align: right;\n",
       "    }\n",
       "</style>\n",
       "<table border=\"1\" class=\"dataframe\">\n",
       "  <thead>\n",
       "    <tr style=\"text-align: right;\">\n",
       "      <th></th>\n",
       "      <th>0</th>\n",
       "    </tr>\n",
       "  </thead>\n",
       "  <tbody>\n",
       "    <tr>\n",
       "      <th>0</th>\n",
       "      <td>[625, 1820, 2820, 2110, 2458, 2556, 2018, 2354...</td>\n",
       "    </tr>\n",
       "    <tr>\n",
       "      <th>1</th>\n",
       "      <td>3</td>\n",
       "    </tr>\n",
       "    <tr>\n",
       "      <th>2</th>\n",
       "      <td>[625, 1820, 2820, 2110, 2458, 2556, 2018, 2354...</td>\n",
       "    </tr>\n",
       "    <tr>\n",
       "      <th>3</th>\n",
       "      <td>[625, 1820, 2820, 2110, 2458, 2556, 2018, 2354...</td>\n",
       "    </tr>\n",
       "    <tr>\n",
       "      <th>4</th>\n",
       "      <td>1</td>\n",
       "    </tr>\n",
       "    <tr>\n",
       "      <th>5</th>\n",
       "      <td>[625, 1820, 2820, 2110, 2458, 2556, 2018, 2354...</td>\n",
       "    </tr>\n",
       "    <tr>\n",
       "      <th>6</th>\n",
       "      <td>[625, 1820, 2820, 2110, 2458, 2556, 2018, 2354...</td>\n",
       "    </tr>\n",
       "    <tr>\n",
       "      <th>7</th>\n",
       "      <td>[625, 1820, 2820, 2110, 2458, 2556, 2018, 2354...</td>\n",
       "    </tr>\n",
       "    <tr>\n",
       "      <th>8</th>\n",
       "      <td>[625, 1820, 2820, 2110, 2458, 2556, 2018, 2354...</td>\n",
       "    </tr>\n",
       "    <tr>\n",
       "      <th>9</th>\n",
       "      <td>[625, 1820, 2820, 2110, 2458, 2556, 2018, 2354...</td>\n",
       "    </tr>\n",
       "    <tr>\n",
       "      <th>10</th>\n",
       "      <td>[625, 1820, 2820, 2110, 2458, 2556, 2018, 2354...</td>\n",
       "    </tr>\n",
       "    <tr>\n",
       "      <th>11</th>\n",
       "      <td>[625, 1820, 2820, 2110, 2458, 2556, 2018, 2354...</td>\n",
       "    </tr>\n",
       "    <tr>\n",
       "      <th>12</th>\n",
       "      <td>[625, 1820, 2820, 2110, 2458, 2556, 2018, 2354...</td>\n",
       "    </tr>\n",
       "    <tr>\n",
       "      <th>13</th>\n",
       "      <td>[625, 1820, 2820, 2110, 2458, 2556, 2018, 2354...</td>\n",
       "    </tr>\n",
       "    <tr>\n",
       "      <th>14</th>\n",
       "      <td>[625, 1820, 2820, 2110, 2458, 2556, 2018, 2354...</td>\n",
       "    </tr>\n",
       "    <tr>\n",
       "      <th>15</th>\n",
       "      <td>[625, 1820, 2820, 2110, 2458, 2556, 2018, 2354...</td>\n",
       "    </tr>\n",
       "    <tr>\n",
       "      <th>16</th>\n",
       "      <td>[625, 1820, 2820, 2110, 2458, 2556, 2018, 2354...</td>\n",
       "    </tr>\n",
       "    <tr>\n",
       "      <th>17</th>\n",
       "      <td>[625, 1820, 2820, 2110, 2458, 2556, 2018, 2354...</td>\n",
       "    </tr>\n",
       "    <tr>\n",
       "      <th>18</th>\n",
       "      <td>[625, 1820, 2820, 2110, 2458, 2556, 2018, 2354...</td>\n",
       "    </tr>\n",
       "    <tr>\n",
       "      <th>19</th>\n",
       "      <td>[625, 1820, 2820, 2110, 2458, 2556, 2018, 2354...</td>\n",
       "    </tr>\n",
       "    <tr>\n",
       "      <th>20</th>\n",
       "      <td>[625, 1820, 2820, 2110, 2458, 2556, 2018, 2354...</td>\n",
       "    </tr>\n",
       "    <tr>\n",
       "      <th>21</th>\n",
       "      <td>[625, 1820, 2820, 2110, 2458, 2556, 2018, 2354...</td>\n",
       "    </tr>\n",
       "    <tr>\n",
       "      <th>22</th>\n",
       "      <td>[625, 1820, 2820, 2110, 2458, 2556, 2018, 2354...</td>\n",
       "    </tr>\n",
       "    <tr>\n",
       "      <th>23</th>\n",
       "      <td>[625, 1820, 2820, 2110, 2458, 2556, 2018, 2354...</td>\n",
       "    </tr>\n",
       "    <tr>\n",
       "      <th>24</th>\n",
       "      <td>1</td>\n",
       "    </tr>\n",
       "    <tr>\n",
       "      <th>25</th>\n",
       "      <td>[625, 1820, 2820, 2110, 2458, 2556, 2018, 2354...</td>\n",
       "    </tr>\n",
       "    <tr>\n",
       "      <th>26</th>\n",
       "      <td>[625, 1820, 2820, 2110, 2458, 2556, 2018, 2354...</td>\n",
       "    </tr>\n",
       "    <tr>\n",
       "      <th>27</th>\n",
       "      <td>[625, 1820, 2820, 2110, 2458, 2556, 2018, 2354...</td>\n",
       "    </tr>\n",
       "    <tr>\n",
       "      <th>28</th>\n",
       "      <td>[625, 1820, 2820, 2110, 2458, 2556, 2018, 2354...</td>\n",
       "    </tr>\n",
       "    <tr>\n",
       "      <th>29</th>\n",
       "      <td>0</td>\n",
       "    </tr>\n",
       "    <tr>\n",
       "      <th>30</th>\n",
       "      <td>[625, 1820, 2820, 2110, 2458, 2556, 2018, 2354...</td>\n",
       "    </tr>\n",
       "    <tr>\n",
       "      <th>31</th>\n",
       "      <td>[625, 1820, 2820, 2110, 2458, 2556, 2018, 2354...</td>\n",
       "    </tr>\n",
       "    <tr>\n",
       "      <th>32</th>\n",
       "      <td>[625, 1820, 2820, 2110, 2458, 2556, 2018, 2354...</td>\n",
       "    </tr>\n",
       "    <tr>\n",
       "      <th>33</th>\n",
       "      <td>[625, 1820, 2820, 2110, 2458, 2556, 2018, 2354...</td>\n",
       "    </tr>\n",
       "    <tr>\n",
       "      <th>34</th>\n",
       "      <td>[625, 1820, 2820, 2110, 2458, 2556, 2018, 2354...</td>\n",
       "    </tr>\n",
       "    <tr>\n",
       "      <th>35</th>\n",
       "      <td>[625, 1820, 2820, 2110, 2458, 2556, 2018, 2354...</td>\n",
       "    </tr>\n",
       "    <tr>\n",
       "      <th>36</th>\n",
       "      <td>[625, 1820, 2820, 2110, 2458, 2556, 2018, 2354...</td>\n",
       "    </tr>\n",
       "    <tr>\n",
       "      <th>37</th>\n",
       "      <td>[625, 1820, 2820, 2110, 2458, 2556, 2018, 2354...</td>\n",
       "    </tr>\n",
       "    <tr>\n",
       "      <th>38</th>\n",
       "      <td>[625, 1820, 2820, 2110, 2458, 2556, 2018, 2354...</td>\n",
       "    </tr>\n",
       "    <tr>\n",
       "      <th>39</th>\n",
       "      <td>[625, 1820, 2820, 2110, 2458, 2556, 2018, 2354...</td>\n",
       "    </tr>\n",
       "    <tr>\n",
       "      <th>40</th>\n",
       "      <td>[625, 1820, 2820, 2110, 2458, 2556, 2018, 2354...</td>\n",
       "    </tr>\n",
       "    <tr>\n",
       "      <th>41</th>\n",
       "      <td>[625, 1820, 2820, 2110, 2458, 2556, 2018, 2354...</td>\n",
       "    </tr>\n",
       "    <tr>\n",
       "      <th>42</th>\n",
       "      <td>[625, 1820, 2820, 2110, 2458, 2556, 2018, 2354...</td>\n",
       "    </tr>\n",
       "    <tr>\n",
       "      <th>43</th>\n",
       "      <td>[625, 1820, 2820, 2110, 2458, 2556, 2018, 2354...</td>\n",
       "    </tr>\n",
       "    <tr>\n",
       "      <th>44</th>\n",
       "      <td>[625, 1820, 2820, 2110, 2458, 2556, 2018, 2354...</td>\n",
       "    </tr>\n",
       "    <tr>\n",
       "      <th>45</th>\n",
       "      <td>[625, 1820, 2820, 2110, 2458, 2556, 2018, 2354...</td>\n",
       "    </tr>\n",
       "    <tr>\n",
       "      <th>46</th>\n",
       "      <td>[625, 1820, 2820, 2110, 2458, 2556, 2018, 2354...</td>\n",
       "    </tr>\n",
       "    <tr>\n",
       "      <th>47</th>\n",
       "      <td>[625, 1820, 2820, 2110, 2458, 2556, 2018, 2354...</td>\n",
       "    </tr>\n",
       "    <tr>\n",
       "      <th>48</th>\n",
       "      <td>[625, 1820, 2820, 2110, 2458, 2556, 2018, 2354...</td>\n",
       "    </tr>\n",
       "    <tr>\n",
       "      <th>49</th>\n",
       "      <td>3</td>\n",
       "    </tr>\n",
       "  </tbody>\n",
       "</table>\n",
       "</div>"
      ],
      "text/plain": [
       "                                                    0\n",
       "0   [625, 1820, 2820, 2110, 2458, 2556, 2018, 2354...\n",
       "1                                                   3\n",
       "2   [625, 1820, 2820, 2110, 2458, 2556, 2018, 2354...\n",
       "3   [625, 1820, 2820, 2110, 2458, 2556, 2018, 2354...\n",
       "4                                                   1\n",
       "5   [625, 1820, 2820, 2110, 2458, 2556, 2018, 2354...\n",
       "6   [625, 1820, 2820, 2110, 2458, 2556, 2018, 2354...\n",
       "7   [625, 1820, 2820, 2110, 2458, 2556, 2018, 2354...\n",
       "8   [625, 1820, 2820, 2110, 2458, 2556, 2018, 2354...\n",
       "9   [625, 1820, 2820, 2110, 2458, 2556, 2018, 2354...\n",
       "10  [625, 1820, 2820, 2110, 2458, 2556, 2018, 2354...\n",
       "11  [625, 1820, 2820, 2110, 2458, 2556, 2018, 2354...\n",
       "12  [625, 1820, 2820, 2110, 2458, 2556, 2018, 2354...\n",
       "13  [625, 1820, 2820, 2110, 2458, 2556, 2018, 2354...\n",
       "14  [625, 1820, 2820, 2110, 2458, 2556, 2018, 2354...\n",
       "15  [625, 1820, 2820, 2110, 2458, 2556, 2018, 2354...\n",
       "16  [625, 1820, 2820, 2110, 2458, 2556, 2018, 2354...\n",
       "17  [625, 1820, 2820, 2110, 2458, 2556, 2018, 2354...\n",
       "18  [625, 1820, 2820, 2110, 2458, 2556, 2018, 2354...\n",
       "19  [625, 1820, 2820, 2110, 2458, 2556, 2018, 2354...\n",
       "20  [625, 1820, 2820, 2110, 2458, 2556, 2018, 2354...\n",
       "21  [625, 1820, 2820, 2110, 2458, 2556, 2018, 2354...\n",
       "22  [625, 1820, 2820, 2110, 2458, 2556, 2018, 2354...\n",
       "23  [625, 1820, 2820, 2110, 2458, 2556, 2018, 2354...\n",
       "24                                                  1\n",
       "25  [625, 1820, 2820, 2110, 2458, 2556, 2018, 2354...\n",
       "26  [625, 1820, 2820, 2110, 2458, 2556, 2018, 2354...\n",
       "27  [625, 1820, 2820, 2110, 2458, 2556, 2018, 2354...\n",
       "28  [625, 1820, 2820, 2110, 2458, 2556, 2018, 2354...\n",
       "29                                                  0\n",
       "30  [625, 1820, 2820, 2110, 2458, 2556, 2018, 2354...\n",
       "31  [625, 1820, 2820, 2110, 2458, 2556, 2018, 2354...\n",
       "32  [625, 1820, 2820, 2110, 2458, 2556, 2018, 2354...\n",
       "33  [625, 1820, 2820, 2110, 2458, 2556, 2018, 2354...\n",
       "34  [625, 1820, 2820, 2110, 2458, 2556, 2018, 2354...\n",
       "35  [625, 1820, 2820, 2110, 2458, 2556, 2018, 2354...\n",
       "36  [625, 1820, 2820, 2110, 2458, 2556, 2018, 2354...\n",
       "37  [625, 1820, 2820, 2110, 2458, 2556, 2018, 2354...\n",
       "38  [625, 1820, 2820, 2110, 2458, 2556, 2018, 2354...\n",
       "39  [625, 1820, 2820, 2110, 2458, 2556, 2018, 2354...\n",
       "40  [625, 1820, 2820, 2110, 2458, 2556, 2018, 2354...\n",
       "41  [625, 1820, 2820, 2110, 2458, 2556, 2018, 2354...\n",
       "42  [625, 1820, 2820, 2110, 2458, 2556, 2018, 2354...\n",
       "43  [625, 1820, 2820, 2110, 2458, 2556, 2018, 2354...\n",
       "44  [625, 1820, 2820, 2110, 2458, 2556, 2018, 2354...\n",
       "45  [625, 1820, 2820, 2110, 2458, 2556, 2018, 2354...\n",
       "46  [625, 1820, 2820, 2110, 2458, 2556, 2018, 2354...\n",
       "47  [625, 1820, 2820, 2110, 2458, 2556, 2018, 2354...\n",
       "48  [625, 1820, 2820, 2110, 2458, 2556, 2018, 2354...\n",
       "49                                                  3"
      ]
     },
     "execution_count": 428,
     "metadata": {},
     "output_type": "execute_result"
    }
   ],
   "source": [
    "results"
   ]
  },
  {
   "cell_type": "code",
   "execution_count": 429,
   "metadata": {},
   "outputs": [],
   "source": [
    "results.to_csv(config.PATH+'results_part_2.csv')"
   ]
  },
  {
   "cell_type": "code",
   "execution_count": 431,
   "metadata": {},
   "outputs": [],
   "source": [
    "best_gen = np.argmin(min_fitness)\n",
    "best_gen"
   ]
  },
  {
   "cell_type": "code",
   "execution_count": 375,
   "metadata": {},
   "outputs": [
    {
     "data": {
      "text/plain": [
       "7"
      ]
     },
     "execution_count": 375,
     "metadata": {},
     "output_type": "execute_result"
    }
   ],
   "source": [
    "arg_min_fitness[best_gen]"
   ]
  },
  {
   "cell_type": "code",
   "execution_count": null,
   "metadata": {},
   "outputs": [],
   "source": [
    "list_of_station_points = pd.Series(results.iloc[best_gen].values[0].replace('[ ', '').replace(']', '').replace('\\n', '').replace('   ', ' ').replace('  ', ' ').split(' ')).astype(int)"
   ]
  },
  {
   "cell_type": "code",
   "execution_count": null,
   "metadata": {},
   "outputs": [],
   "source": [
    "### NEXT STEPS\n",
    "\n",
    "# optimisation sur les valeurs des coordonnées des routes qu'on a choisi \n",
    "# (pour optimiser sur ces valeurs et non sur les stations existantes)\n",
    "\n",
    "# fonction qui mesure distance entre deux stations sur reseaux routier (et non a vol d'oiseau)\n"
   ]
  }
 ],
 "metadata": {
  "kernelspec": {
   "display_name": "bikes-ramp",
   "language": "python",
   "name": "python3"
  },
  "language_info": {
   "codemirror_mode": {
    "name": "ipython",
    "version": 3
   },
   "file_extension": ".py",
   "mimetype": "text/x-python",
   "name": "python",
   "nbconvert_exporter": "python",
   "pygments_lexer": "ipython3",
   "version": "3.10.10"
  },
  "vscode": {
   "interpreter": {
    "hash": "fd84a0bcc5a8e3ba4ab71ba0aa400d8ec0cf66c7460071a07d687293e2cba0c4"
   }
  }
 },
 "nbformat": 4,
 "nbformat_minor": 4
}
