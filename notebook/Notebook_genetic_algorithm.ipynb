{
 "cells": [
  {
   "cell_type": "code",
   "execution_count": 1,
   "metadata": {},
   "outputs": [],
   "source": [
    "import numpy as np\n",
    "import pandas as pd \n",
    "import matplotlib.pyplot as plt\n",
    "import seaborn as sns\n",
    "import geopandas as gpd\n",
    "import pyproj \n",
    "from tqdm import tqdm\n",
    "import reverse_geocoder as rg\n",
    "\n",
    "from shapely.geometry import Point\n",
    "from shapely.geometry import LineString\n",
    "\n",
    "from preprocessing.pre_process_stations import *\n",
    "from preprocessing.pre_process_traffic import *\n",
    "from preprocessing.helping_functions import *\n",
    "\n",
    "from features.config import *\n",
    "from features.financials_part_2 import *\n",
    "from features.question_1 import *\n",
    "from features.question_2 import *"
   ]
  },
  {
   "cell_type": "code",
   "execution_count": 2,
   "metadata": {},
   "outputs": [],
   "source": [
    "import warnings\n",
    "\n",
    "warnings.filterwarnings(\"ignore\")"
   ]
  },
  {
   "cell_type": "code",
   "execution_count": 3,
   "metadata": {},
   "outputs": [],
   "source": [
    "class Config:\n",
    "    PATH = '../../data/'\n",
    "\n",
    "class Params:\n",
    "    PARAM = 0\n",
    "config = Config()\n",
    "p = Params()"
   ]
  },
  {
   "cell_type": "markdown",
   "metadata": {},
   "source": [
    "## Load data"
   ]
  },
  {
   "cell_type": "code",
   "execution_count": 4,
   "metadata": {},
   "outputs": [],
   "source": [
    "##### Load new coordinates\n",
    "df_new_points = gpd.read_file(config.PATH+'new_coordinates/new_coordinates.shp')\n",
    "\n",
    "##### Load hub data \n",
    "df_hub_dense = gpd.read_file(config.PATH+'F-aire-logistiques-donnees-detaillees/Aires_logistiques_denses.shp')\n",
    "df_hub_enlarged = gpd.read_file(config.PATH+'F-aire-logistiques-donnees-detaillees/Aires_logistiques_elargies.shp')"
   ]
  },
  {
   "cell_type": "code",
   "execution_count": 5,
   "metadata": {},
   "outputs": [
    {
     "name": "stdout",
     "output_type": "stream",
     "text": [
      "Loading formatted geocoded file...\n"
     ]
    }
   ],
   "source": [
    "##### Load traffic data\n",
    "df_traffic = gpd.read_file(config.PATH+'E-tmja2019-shp/TMJA2019.shp')\n",
    "df_traffic = preprocess_data(df_traffic)\n",
    "df_traffic = fix_tmja(df_traffic)"
   ]
  },
  {
   "cell_type": "code",
   "execution_count": 6,
   "metadata": {},
   "outputs": [
    {
     "name": "stderr",
     "output_type": "stream",
     "text": [
      "100%|██████████| 13978/13978 [01:09<00:00, 200.38it/s]\n"
     ]
    }
   ],
   "source": [
    "df_new_points = distance_to_hub(df_hub_dense, df_hub_enlarged, df_new_points)"
   ]
  },
  {
   "cell_type": "code",
   "execution_count": 7,
   "metadata": {},
   "outputs": [],
   "source": [
    "df_traffic = df_traffic.groupby('route')[['TMJA_PL','percentage_traffic']].sum().reset_index(drop=False)"
   ]
  },
  {
   "cell_type": "code",
   "execution_count": 8,
   "metadata": {},
   "outputs": [
    {
     "data": {
      "text/plain": [
       "1.0"
      ]
     },
     "execution_count": 8,
     "metadata": {},
     "output_type": "execute_result"
    }
   ],
   "source": [
    "df_traffic['percentage_traffic'].sum()"
   ]
  },
  {
   "cell_type": "code",
   "execution_count": 9,
   "metadata": {},
   "outputs": [],
   "source": [
    "df_new_points = df_new_points.merge(df_traffic, how='left', on='route')"
   ]
  },
  {
   "cell_type": "code",
   "execution_count": 10,
   "metadata": {},
   "outputs": [],
   "source": [
    "def station_distances_all(\n",
    "        df_stations: pd.DataFrame\n",
    "):\n",
    "    '''\n",
    "    Add columns of the distances between each stations \n",
    "    '''\n",
    "\n",
    "    for i in tqdm(df_stations['index']):\n",
    "        station_index = df_stations.loc[i, 'index']\n",
    "        df_stations[f'distance_to_point_{station_index}'] = df_stations.loc[i, 'geometry'].distance(df_stations['geometry'])\n",
    "\n",
    "    return df_stations"
   ]
  },
  {
   "cell_type": "code",
   "execution_count": 11,
   "metadata": {},
   "outputs": [
    {
     "name": "stderr",
     "output_type": "stream",
     "text": [
      "100%|██████████| 13978/13978 [03:45<00:00, 61.95it/s]\n"
     ]
    }
   ],
   "source": [
    "df_new_points = station_distances_all(df_new_points)"
   ]
  },
  {
   "attachments": {},
   "cell_type": "markdown",
   "metadata": {},
   "source": [
    "## Genetic algorithm deap library\n"
   ]
  },
  {
   "cell_type": "code",
   "execution_count": 12,
   "metadata": {},
   "outputs": [],
   "source": [
    "def sales(df_station:pd.DataFrame,year: float)-> pd.DataFrame:\n",
    "    '''\n",
    "    This functions calculates the amount sold at each new stations in kg/day.\n",
    "    '''\n",
    "    h2_price_dict = {2023: 10, 2030: 7, 2040: 4}\n",
    "    if year not in h2_price_dict:\n",
    "        raise ValueError('Year can only be 2023, 2030 or 2040')\n",
    "    \n",
    "    df_station['Quantity_sold_per_day(in kg)'] = total_demand * df_station['percentage_traffic'] *  (1 / df_station.groupby('route')['route'].transform('count'))\n",
    "    df_station['Revenues_day'] = df_station['Quantity_sold_per_day(in kg)']  * h2_price_dict[year]\n",
    "\n",
    "    return df_station"
   ]
  },
  {
   "cell_type": "code",
   "execution_count": 13,
   "metadata": {},
   "outputs": [],
   "source": [
    "df_stations = sales(df_new_points,2030)"
   ]
  },
  {
   "cell_type": "code",
   "execution_count": 15,
   "metadata": {},
   "outputs": [
    {
     "name": "stderr",
     "output_type": "stream",
     "text": [
      " 10%|█         | 1/10 [01:02<09:22, 62.51s/it]"
     ]
    },
    {
     "name": "stdout",
     "output_type": "stream",
     "text": [
      "Generation 1:\n"
     ]
    },
    {
     "name": "stderr",
     "output_type": "stream",
     "text": [
      " 20%|██        | 2/10 [02:13<08:57, 67.23s/it]"
     ]
    },
    {
     "name": "stdout",
     "output_type": "stream",
     "text": [
      "Generation 2:\n"
     ]
    },
    {
     "name": "stderr",
     "output_type": "stream",
     "text": [
      " 30%|███       | 3/10 [03:32<08:28, 72.59s/it]"
     ]
    },
    {
     "name": "stdout",
     "output_type": "stream",
     "text": [
      "Generation 3:\n"
     ]
    },
    {
     "name": "stderr",
     "output_type": "stream",
     "text": [
      " 40%|████      | 4/10 [04:49<07:27, 74.52s/it]"
     ]
    },
    {
     "name": "stdout",
     "output_type": "stream",
     "text": [
      "Generation 4:\n"
     ]
    },
    {
     "name": "stderr",
     "output_type": "stream",
     "text": [
      " 50%|█████     | 5/10 [06:03<06:11, 74.29s/it]"
     ]
    },
    {
     "name": "stdout",
     "output_type": "stream",
     "text": [
      "Generation 5:\n"
     ]
    },
    {
     "name": "stderr",
     "output_type": "stream",
     "text": [
      " 60%|██████    | 6/10 [07:10<04:47, 71.91s/it]"
     ]
    },
    {
     "name": "stdout",
     "output_type": "stream",
     "text": [
      "Generation 6:\n"
     ]
    },
    {
     "name": "stderr",
     "output_type": "stream",
     "text": [
      " 70%|███████   | 7/10 [08:48<04:01, 80.39s/it]"
     ]
    },
    {
     "name": "stdout",
     "output_type": "stream",
     "text": [
      "Generation 7:\n"
     ]
    },
    {
     "name": "stderr",
     "output_type": "stream",
     "text": [
      " 80%|████████  | 8/10 [10:51<03:07, 93.93s/it]"
     ]
    },
    {
     "name": "stdout",
     "output_type": "stream",
     "text": [
      "Generation 8:\n"
     ]
    },
    {
     "name": "stderr",
     "output_type": "stream",
     "text": [
      " 90%|█████████ | 9/10 [12:28<01:34, 94.81s/it]"
     ]
    },
    {
     "name": "stdout",
     "output_type": "stream",
     "text": [
      "Generation 9:\n"
     ]
    },
    {
     "name": "stderr",
     "output_type": "stream",
     "text": [
      "100%|██████████| 10/10 [14:50<00:00, 89.07s/it] "
     ]
    },
    {
     "name": "stdout",
     "output_type": "stream",
     "text": [
      "Generation 10:\n"
     ]
    },
    {
     "name": "stderr",
     "output_type": "stream",
     "text": [
      "\n"
     ]
    }
   ],
   "source": [
    "import random\n",
    "import numpy as np\n",
    "from deap import base, creator, tools\n",
    "\n",
    "# Define the fitness function that takes a pandas DataFrame as input and returns a fitness score\n",
    "def fitness(X,data: pd.DataFrame=df_stations):\n",
    "    index = X[0]\n",
    "\n",
    "    if type(index)==int:\n",
    "        index = np.random.choice(list(range(13978)), size=376, replace=False)\n",
    "\n",
    "    columns_distance = [c for c in data.columns if c.startswith('distance_to_point_')==True]\n",
    "    if data.iloc[index,:].shape[0]>0:\n",
    "        columns_distance_drop = [columns_distance[i] for i in index]\n",
    "        data_sub = get_closer_station(data.iloc[index,:].drop(columns=columns_distance_drop))\n",
    "        data_sub = data_sub[data_sub['distance_closer_station'] < 150000*0.8]\n",
    "        # constraint profitability: make sure the station is profitable \n",
    "        fit = 150 - (data_sub['distance_to_closest_large_hub'].mean() + data_sub['distance_to_closest_dense_hub'].mean() - data_sub['distance_closer_station'].mean())/100 + data_sub['Revenues_day'].mean()\n",
    "\n",
    "    else:\n",
    "        fit = 10e10\n",
    "        \n",
    "    return fit\n",
    "\n",
    "# Define the evaluation function\n",
    "def evaluate(individual):\n",
    "    return fitness(individual),\n",
    "\n",
    "# Set up the DEAP toolbox\n",
    "creator.create(\"FitnessMax\", base.Fitness, weights=[1.0,])\n",
    "creator.create(\"Individual\", list, fitness=creator.FitnessMax)\n",
    "toolbox = base.Toolbox()\n",
    "\n",
    "# Register the genetic operators\n",
    "toolbox.register(\"individual\", tools.initRepeat, creator.Individual, lambda: np.random.choice(list(range(3089)), size=376, replace=False),n=1)\n",
    "toolbox.register(\"population\", tools.initRepeat, list, toolbox.individual)\n",
    "\n",
    "toolbox.register(\"mate\", tools.cxTwoPoint)\n",
    "toolbox.register(\"mutate\", tools.mutUniformInt, low=0, up=3, indpb=0.05)\n",
    "toolbox.register(\"select\", tools.selTournament, tournsize=3)\n",
    "toolbox.register(\"evaluate\", evaluate)\n",
    "\n",
    "# Set the number of generations and the population size\n",
    "num_generations = 50\n",
    "population_size = 100\n",
    "\n",
    "# Create the initial population\n",
    "population = toolbox.population(n=population_size)\n",
    "\n",
    "# Evaluate the initial population\n",
    "fitnesses = list(map(toolbox.evaluate, population))\n",
    "for ind, fit in zip(population, fitnesses):        \n",
    "    ind.fitness.values = fit\n",
    "\n",
    "# Set up the hall of fame and statistics objects\n",
    "hof = tools.HallOfFame(1)\n",
    "stats = tools.Statistics(lambda ind: ind.fitness.values)\n",
    "stats.register(\"avg\", np.mean)\n",
    "stats.register(\"max\", np.max)\n",
    "stats.register(\"min\", np.min)\n",
    "stats.register(\"argmin\", np.argmin)\n",
    "\n",
    "avg_fitness = []\n",
    "min_fitness = []\n",
    "max_fitness = []\n",
    "arg_min_fitness = []\n",
    "\n",
    "# Start the evolution process\n",
    "for generation in tqdm(range(num_generations)):\n",
    "    \n",
    "    population = [x for x in population if type(x)!=int]\n",
    "\n",
    "    # Select the next generation individuals\n",
    "    offspring = toolbox.select(population, len(population))\n",
    "\n",
    "    # Clone the selected individuals\n",
    "    offspring = list(map(toolbox.clone, offspring))\n",
    "\n",
    "    # Apply crossover and mutation on the offspring\n",
    "    for child1, child2 in zip(offspring[::2], offspring[1::2]):\n",
    "        if type(child1[0])==int:\n",
    "            child1[0] = np.random.choice(list(range(3089)), size=376, replace=False)\n",
    "        elif type(child1[0])==int:\n",
    "            child2[0] = np.random.choice(list(range(3089)), size=376, replace=False)\n",
    "        else:\n",
    "            toolbox.mate(child1[0], child2[0])\n",
    "        del child1.fitness.values\n",
    "        del child2.fitness.values\n",
    "\n",
    "    for mutant in offspring:\n",
    "        toolbox.mutate(mutant)\n",
    "        del mutant.fitness.values\n",
    "\n",
    "    # Evaluate the new individuals\n",
    "    fresh_individuals = [ind for ind in offspring if not ind.fitness.valid]\n",
    "    fitnesses = map(toolbox.evaluate, fresh_individuals)\n",
    "    for ind, fit in zip(fresh_individuals, fitnesses):\n",
    "        ind.fitness.values = fit\n",
    "\n",
    "    # Add the new individuals to the population\n",
    "    population[:] = offspring\n",
    "\n",
    "    # Update the hall of fame and statistics\n",
    "    #hof.update(population)\n",
    "    record = stats.compile(population)\n",
    "    print(\"Generation {}:\".format(generation + 1))\n",
    "    avg_fitness.append(record[\"avg\"])\n",
    "    min_fitness.append(record[\"min\"])\n",
    "    max_fitness.append(record[\"max\"])\n",
    "    arg_min_fitness.append(record[\"argmin\"])"
   ]
  },
  {
   "cell_type": "code",
   "execution_count": 16,
   "metadata": {},
   "outputs": [
    {
     "data": {
      "image/png": "[encoded data removed]",
      "text/plain": [
       "<Figure size 720x432 with 1 Axes>"
      ]
     },
     "metadata": {
      "needs_background": "light"
     },
     "output_type": "display_data"
    }
   ],
   "source": [
    "fig = plt.figure(figsize=(10,6))\n",
    "plt.plot(np.arange(len(avg_fitness)),avg_fitness,label='mean')\n",
    "plt.xlabel('Generations')\n",
    "plt.ylabel('Average fitness function')\n",
    "plt.legend()\n",
    "plt.title('Evolution of fitness function')\n",
    "plt.show()"
   ]
  },
  {
   "cell_type": "code",
   "execution_count": 90,
   "metadata": {},
   "outputs": [],
   "source": [
    "def extract_restults(\n",
    "        population,\n",
    "        max_fitness,\n",
    "        df_stations\n",
    "):\n",
    "    best_gen = np.argmax(max_fitness)\n",
    "    best_solution = population[best_gen][0]\n",
    "    chosen_stations = pd.concat([df_stations.iloc[best_solution,:11],df_stations.iloc[best_solution,-2:]],axis=1)\n",
    "\n",
    "    return chosen_stations"
   ]
  },
  {
   "cell_type": "code",
   "execution_count": 105,
   "metadata": {},
   "outputs": [],
   "source": [
    "chosen_stations = extract_restults(\n",
    "        population,\n",
    "        max_fitness,\n",
    "        df_stations\n",
    ")"
   ]
  },
  {
   "cell_type": "code",
   "execution_count": 117,
   "metadata": {},
   "outputs": [],
   "source": [
    "chosen_stations = sales(chosen_stations)"
   ]
  },
  {
   "cell_type": "code",
   "execution_count": 119,
   "metadata": {},
   "outputs": [],
   "source": [
    "chosen_stations = station_type(chosen_stations)"
   ]
  },
  {
   "cell_type": "code",
   "execution_count": 120,
   "metadata": {},
   "outputs": [
    {
     "data": {
      "text/html": [
       "<div>\n",
       "<style scoped>\n",
       "    .dataframe tbody tr th:only-of-type {\n",
       "        vertical-align: middle;\n",
       "    }\n",
       "\n",
       "    .dataframe tbody tr th {\n",
       "        vertical-align: top;\n",
       "    }\n",
       "\n",
       "    .dataframe thead th {\n",
       "        text-align: right;\n",
       "    }\n",
       "</style>\n",
       "<table border=\"1\" class=\"dataframe\">\n",
       "  <thead>\n",
       "    <tr style=\"text-align: right;\">\n",
       "      <th></th>\n",
       "      <th>index</th>\n",
       "      <th>easting</th>\n",
       "      <th>northing</th>\n",
       "      <th>route</th>\n",
       "      <th>geometry</th>\n",
       "      <th>closest_dense_hub</th>\n",
       "      <th>distance_to_closest_dense_hub</th>\n",
       "      <th>closest_elargie_hub</th>\n",
       "      <th>distance_to_closest_large_hub</th>\n",
       "      <th>TMJA_PL</th>\n",
       "      <th>percentage_traffic</th>\n",
       "      <th>Quantity_sold_per_day(in kg)</th>\n",
       "      <th>Revenues_day</th>\n",
       "      <th>Quantity_sold_per_year(in kg)</th>\n",
       "      <th>not_prof</th>\n",
       "      <th>small_station</th>\n",
       "      <th>medium_station</th>\n",
       "      <th>large_station</th>\n",
       "      <th>station_type</th>\n",
       "    </tr>\n",
       "  </thead>\n",
       "  <tbody>\n",
       "    <tr>\n",
       "      <th>2009</th>\n",
       "      <td>2009</td>\n",
       "      <td>647882.498112361</td>\n",
       "      <td>6871707.6796159</td>\n",
       "      <td>A0015</td>\n",
       "      <td>POINT (647882.498 6871707.680)</td>\n",
       "      <td>1.0</td>\n",
       "      <td>0    0.0\n",
       "dtype: float64</td>\n",
       "      <td>5.0</td>\n",
       "      <td>0    0.0\n",
       "dtype: float64</td>\n",
       "      <td>118449.40</td>\n",
       "      <td>0.009562</td>\n",
       "      <td>964.847349</td>\n",
       "      <td>6753.931441</td>\n",
       "      <td>352169.282288</td>\n",
       "      <td>0</td>\n",
       "      <td>0</td>\n",
       "      <td>0</td>\n",
       "      <td>1</td>\n",
       "      <td>large</td>\n",
       "    </tr>\n",
       "    <tr>\n",
       "      <th>2962</th>\n",
       "      <td>2962</td>\n",
       "      <td>485051.6717446413</td>\n",
       "      <td>6810574.914936585</td>\n",
       "      <td>A0028</td>\n",
       "      <td>POINT (485051.672 6810574.915)</td>\n",
       "      <td>1.0</td>\n",
       "      <td>0    34797.622478\n",
       "dtype: float64</td>\n",
       "      <td>5.0</td>\n",
       "      <td>0    6415.754284\n",
       "dtype: float64</td>\n",
       "      <td>73035.72</td>\n",
       "      <td>0.005896</td>\n",
       "      <td>251.698365</td>\n",
       "      <td>1761.888556</td>\n",
       "      <td>91869.903303</td>\n",
       "      <td>0</td>\n",
       "      <td>0</td>\n",
       "      <td>0</td>\n",
       "      <td>1</td>\n",
       "      <td>large</td>\n",
       "    </tr>\n",
       "    <tr>\n",
       "      <th>1176</th>\n",
       "      <td>1176</td>\n",
       "      <td>970314.6355770391</td>\n",
       "      <td>6260898.838787425</td>\n",
       "      <td>A0008</td>\n",
       "      <td>POINT (970314.636 6260898.839)</td>\n",
       "      <td>1.0</td>\n",
       "      <td>0    69337.586656\n",
       "dtype: float64</td>\n",
       "      <td>5.0</td>\n",
       "      <td>0    13677.75309\n",
       "dtype: float64</td>\n",
       "      <td>159447.95</td>\n",
       "      <td>0.012871</td>\n",
       "      <td>1098.990695</td>\n",
       "      <td>7692.934867</td>\n",
       "      <td>401131.603779</td>\n",
       "      <td>0</td>\n",
       "      <td>0</td>\n",
       "      <td>0</td>\n",
       "      <td>1</td>\n",
       "      <td>large</td>\n",
       "    </tr>\n",
       "    <tr>\n",
       "      <th>61</th>\n",
       "      <td>61</td>\n",
       "      <td>654443.5179221067</td>\n",
       "      <td>6870549.906443723</td>\n",
       "      <td>A0001</td>\n",
       "      <td>POINT (654443.518 6870549.906)</td>\n",
       "      <td>1.0</td>\n",
       "      <td>0    0.0\n",
       "dtype: float64</td>\n",
       "      <td>5.0</td>\n",
       "      <td>0    0.0\n",
       "dtype: float64</td>\n",
       "      <td>333120.37</td>\n",
       "      <td>0.026890</td>\n",
       "      <td>1492.415058</td>\n",
       "      <td>10446.905407</td>\n",
       "      <td>544731.496236</td>\n",
       "      <td>0</td>\n",
       "      <td>0</td>\n",
       "      <td>0</td>\n",
       "      <td>1</td>\n",
       "      <td>large</td>\n",
       "    </tr>\n",
       "    <tr>\n",
       "      <th>682</th>\n",
       "      <td>682</td>\n",
       "      <td>672037.5967658103</td>\n",
       "      <td>6832667.3651473755</td>\n",
       "      <td>A0005A</td>\n",
       "      <td>POINT (672037.597 6832667.365)</td>\n",
       "      <td>1.0</td>\n",
       "      <td>0    1908.133351\n",
       "dtype: float64</td>\n",
       "      <td>5.0</td>\n",
       "      <td>0    0.0\n",
       "dtype: float64</td>\n",
       "      <td>28160.18</td>\n",
       "      <td>0.002273</td>\n",
       "      <td>630.803164</td>\n",
       "      <td>4415.622148</td>\n",
       "      <td>230243.154834</td>\n",
       "      <td>0</td>\n",
       "      <td>0</td>\n",
       "      <td>0</td>\n",
       "      <td>1</td>\n",
       "      <td>large</td>\n",
       "    </tr>\n",
       "    <tr>\n",
       "      <th>...</th>\n",
       "      <td>...</td>\n",
       "      <td>...</td>\n",
       "      <td>...</td>\n",
       "      <td>...</td>\n",
       "      <td>...</td>\n",
       "      <td>...</td>\n",
       "      <td>...</td>\n",
       "      <td>...</td>\n",
       "      <td>...</td>\n",
       "      <td>...</td>\n",
       "      <td>...</td>\n",
       "      <td>...</td>\n",
       "      <td>...</td>\n",
       "      <td>...</td>\n",
       "      <td>...</td>\n",
       "      <td>...</td>\n",
       "      <td>...</td>\n",
       "      <td>...</td>\n",
       "      <td>...</td>\n",
       "    </tr>\n",
       "    <tr>\n",
       "      <th>2219</th>\n",
       "      <td>2219</td>\n",
       "      <td>661974.8928676986</td>\n",
       "      <td>7105084.957257127</td>\n",
       "      <td>A0016</td>\n",
       "      <td>POINT (661974.893 7105084.957)</td>\n",
       "      <td>1.0</td>\n",
       "      <td>0    6186.407007\n",
       "dtype: float64</td>\n",
       "      <td>5.0</td>\n",
       "      <td>0    5548.375172\n",
       "dtype: float64</td>\n",
       "      <td>42708.41</td>\n",
       "      <td>0.003448</td>\n",
       "      <td>159.448556</td>\n",
       "      <td>1116.139889</td>\n",
       "      <td>58198.722785</td>\n",
       "      <td>0</td>\n",
       "      <td>0</td>\n",
       "      <td>0</td>\n",
       "      <td>1</td>\n",
       "      <td>large</td>\n",
       "    </tr>\n",
       "    <tr>\n",
       "      <th>1550</th>\n",
       "      <td>1550</td>\n",
       "      <td>498052.3198798554</td>\n",
       "      <td>6622504.179505058</td>\n",
       "      <td>A0010</td>\n",
       "      <td>POINT (498052.320 6622504.180)</td>\n",
       "      <td>1.0</td>\n",
       "      <td>0    5212.308241\n",
       "dtype: float64</td>\n",
       "      <td>5.0</td>\n",
       "      <td>0    859.494918\n",
       "dtype: float64</td>\n",
       "      <td>381900.72</td>\n",
       "      <td>0.030828</td>\n",
       "      <td>1140.637512</td>\n",
       "      <td>7984.462587</td>\n",
       "      <td>416332.692032</td>\n",
       "      <td>0</td>\n",
       "      <td>0</td>\n",
       "      <td>0</td>\n",
       "      <td>1</td>\n",
       "      <td>large</td>\n",
       "    </tr>\n",
       "    <tr>\n",
       "      <th>1955</th>\n",
       "      <td>1955</td>\n",
       "      <td>517944.59791988606</td>\n",
       "      <td>6923117.646640384</td>\n",
       "      <td>A0013</td>\n",
       "      <td>POINT (517944.598 6923117.647)</td>\n",
       "      <td>1.0</td>\n",
       "      <td>0    11042.402388\n",
       "dtype: float64</td>\n",
       "      <td>5.0</td>\n",
       "      <td>0    2802.466653\n",
       "dtype: float64</td>\n",
       "      <td>199619.88</td>\n",
       "      <td>0.016114</td>\n",
       "      <td>894.318516</td>\n",
       "      <td>6260.229609</td>\n",
       "      <td>326426.258204</td>\n",
       "      <td>0</td>\n",
       "      <td>0</td>\n",
       "      <td>0</td>\n",
       "      <td>1</td>\n",
       "      <td>large</td>\n",
       "    </tr>\n",
       "    <tr>\n",
       "      <th>727</th>\n",
       "      <td>727</td>\n",
       "      <td>688176.8054062742</td>\n",
       "      <td>6786713.428709412</td>\n",
       "      <td>A0006</td>\n",
       "      <td>POINT (688176.805 6786713.429)</td>\n",
       "      <td>1.0</td>\n",
       "      <td>0    19835.803342\n",
       "dtype: float64</td>\n",
       "      <td>5.0</td>\n",
       "      <td>0    11331.046813\n",
       "dtype: float64</td>\n",
       "      <td>356928.98</td>\n",
       "      <td>0.028812</td>\n",
       "      <td>1390.504513</td>\n",
       "      <td>9733.531589</td>\n",
       "      <td>507534.147166</td>\n",
       "      <td>0</td>\n",
       "      <td>0</td>\n",
       "      <td>0</td>\n",
       "      <td>1</td>\n",
       "      <td>large</td>\n",
       "    </tr>\n",
       "    <tr>\n",
       "      <th>2666</th>\n",
       "      <td>2666</td>\n",
       "      <td>623009.090599999</td>\n",
       "      <td>7093858.594</td>\n",
       "      <td>A0026</td>\n",
       "      <td>POINT (623009.091 7093858.594)</td>\n",
       "      <td>1.0</td>\n",
       "      <td>0    18757.035454\n",
       "dtype: float64</td>\n",
       "      <td>5.0</td>\n",
       "      <td>0    1302.015598\n",
       "dtype: float64</td>\n",
       "      <td>156332.18</td>\n",
       "      <td>0.012620</td>\n",
       "      <td>560.307974</td>\n",
       "      <td>3922.155818</td>\n",
       "      <td>204512.410505</td>\n",
       "      <td>0</td>\n",
       "      <td>0</td>\n",
       "      <td>0</td>\n",
       "      <td>1</td>\n",
       "      <td>large</td>\n",
       "    </tr>\n",
       "  </tbody>\n",
       "</table>\n",
       "<p>376 rows × 19 columns</p>\n",
       "</div>"
      ],
      "text/plain": [
       "      index             easting            northing   route  \\\n",
       "2009   2009    647882.498112361     6871707.6796159   A0015   \n",
       "2962   2962   485051.6717446413   6810574.914936585   A0028   \n",
       "1176   1176   970314.6355770391   6260898.838787425   A0008   \n",
       "61       61   654443.5179221067   6870549.906443723   A0001   \n",
       "682     682   672037.5967658103  6832667.3651473755  A0005A   \n",
       "...     ...                 ...                 ...     ...   \n",
       "2219   2219   661974.8928676986   7105084.957257127   A0016   \n",
       "1550   1550   498052.3198798554   6622504.179505058   A0010   \n",
       "1955   1955  517944.59791988606   6923117.646640384   A0013   \n",
       "727     727   688176.8054062742   6786713.428709412   A0006   \n",
       "2666   2666    623009.090599999         7093858.594   A0026   \n",
       "\n",
       "                            geometry  closest_dense_hub  \\\n",
       "2009  POINT (647882.498 6871707.680)                1.0   \n",
       "2962  POINT (485051.672 6810574.915)                1.0   \n",
       "1176  POINT (970314.636 6260898.839)                1.0   \n",
       "61    POINT (654443.518 6870549.906)                1.0   \n",
       "682   POINT (672037.597 6832667.365)                1.0   \n",
       "...                              ...                ...   \n",
       "2219  POINT (661974.893 7105084.957)                1.0   \n",
       "1550  POINT (498052.320 6622504.180)                1.0   \n",
       "1955  POINT (517944.598 6923117.647)                1.0   \n",
       "727   POINT (688176.805 6786713.429)                1.0   \n",
       "2666  POINT (623009.091 7093858.594)                1.0   \n",
       "\n",
       "         distance_to_closest_dense_hub  closest_elargie_hub  \\\n",
       "2009           0    0.0\n",
       "dtype: float64                  5.0   \n",
       "2962  0    34797.622478\n",
       "dtype: float64                  5.0   \n",
       "1176  0    69337.586656\n",
       "dtype: float64                  5.0   \n",
       "61             0    0.0\n",
       "dtype: float64                  5.0   \n",
       "682    0    1908.133351\n",
       "dtype: float64                  5.0   \n",
       "...                                ...                  ...   \n",
       "2219   0    6186.407007\n",
       "dtype: float64                  5.0   \n",
       "1550   0    5212.308241\n",
       "dtype: float64                  5.0   \n",
       "1955  0    11042.402388\n",
       "dtype: float64                  5.0   \n",
       "727   0    19835.803342\n",
       "dtype: float64                  5.0   \n",
       "2666  0    18757.035454\n",
       "dtype: float64                  5.0   \n",
       "\n",
       "         distance_to_closest_large_hub    TMJA_PL  percentage_traffic  \\\n",
       "2009           0    0.0\n",
       "dtype: float64  118449.40            0.009562   \n",
       "2962   0    6415.754284\n",
       "dtype: float64   73035.72            0.005896   \n",
       "1176   0    13677.75309\n",
       "dtype: float64  159447.95            0.012871   \n",
       "61             0    0.0\n",
       "dtype: float64  333120.37            0.026890   \n",
       "682            0    0.0\n",
       "dtype: float64   28160.18            0.002273   \n",
       "...                                ...        ...                 ...   \n",
       "2219   0    5548.375172\n",
       "dtype: float64   42708.41            0.003448   \n",
       "1550    0    859.494918\n",
       "dtype: float64  381900.72            0.030828   \n",
       "1955   0    2802.466653\n",
       "dtype: float64  199619.88            0.016114   \n",
       "727   0    11331.046813\n",
       "dtype: float64  356928.98            0.028812   \n",
       "2666   0    1302.015598\n",
       "dtype: float64  156332.18            0.012620   \n",
       "\n",
       "      Quantity_sold_per_day(in kg)  Revenues_day  \\\n",
       "2009                    964.847349   6753.931441   \n",
       "2962                    251.698365   1761.888556   \n",
       "1176                   1098.990695   7692.934867   \n",
       "61                     1492.415058  10446.905407   \n",
       "682                     630.803164   4415.622148   \n",
       "...                            ...           ...   \n",
       "2219                    159.448556   1116.139889   \n",
       "1550                   1140.637512   7984.462587   \n",
       "1955                    894.318516   6260.229609   \n",
       "727                    1390.504513   9733.531589   \n",
       "2666                    560.307974   3922.155818   \n",
       "\n",
       "      Quantity_sold_per_year(in kg)  not_prof  small_station  medium_station  \\\n",
       "2009                  352169.282288         0              0               0   \n",
       "2962                   91869.903303         0              0               0   \n",
       "1176                  401131.603779         0              0               0   \n",
       "61                    544731.496236         0              0               0   \n",
       "682                   230243.154834         0              0               0   \n",
       "...                             ...       ...            ...             ...   \n",
       "2219                   58198.722785         0              0               0   \n",
       "1550                  416332.692032         0              0               0   \n",
       "1955                  326426.258204         0              0               0   \n",
       "727                   507534.147166         0              0               0   \n",
       "2666                  204512.410505         0              0               0   \n",
       "\n",
       "      large_station station_type  \n",
       "2009              1        large  \n",
       "2962              1        large  \n",
       "1176              1        large  \n",
       "61                1        large  \n",
       "682               1        large  \n",
       "...             ...          ...  \n",
       "2219              1        large  \n",
       "1550              1        large  \n",
       "1955              1        large  \n",
       "727               1        large  \n",
       "2666              1        large  \n",
       "\n",
       "[376 rows x 19 columns]"
      ]
     },
     "execution_count": 120,
     "metadata": {},
     "output_type": "execute_result"
    }
   ],
   "source": [
    "chosen_stations"
   ]
  },
  {
   "cell_type": "code",
   "execution_count": 122,
   "metadata": {},
   "outputs": [
    {
     "data": {
      "text/plain": [
       "large             349\n",
       "not profitable     27\n",
       "Name: station_type, dtype: int64"
      ]
     },
     "execution_count": 122,
     "metadata": {},
     "output_type": "execute_result"
    }
   ],
   "source": [
    "chosen_stations['station_type'].value_counts()"
   ]
  },
  {
   "cell_type": "code",
   "execution_count": 102,
   "metadata": {},
   "outputs": [],
   "source": [
    "finance_chosen_stations = financial_summary(chosen_stations)"
   ]
  },
  {
   "cell_type": "code",
   "execution_count": 88,
   "metadata": {},
   "outputs": [
    {
     "data": {
      "text/html": [
       "<div>\n",
       "<style scoped>\n",
       "    .dataframe tbody tr th:only-of-type {\n",
       "        vertical-align: middle;\n",
       "    }\n",
       "\n",
       "    .dataframe tbody tr th {\n",
       "        vertical-align: top;\n",
       "    }\n",
       "\n",
       "    .dataframe thead th {\n",
       "        text-align: right;\n",
       "    }\n",
       "</style>\n",
       "<table border=\"1\" class=\"dataframe\">\n",
       "  <thead>\n",
       "    <tr style=\"text-align: right;\">\n",
       "      <th>station_type</th>\n",
       "      <th>large</th>\n",
       "      <th>not profitable</th>\n",
       "    </tr>\n",
       "  </thead>\n",
       "  <tbody>\n",
       "    <tr>\n",
       "      <th>CAPEX</th>\n",
       "      <td>8.508005e+08</td>\n",
       "      <td>0.0</td>\n",
       "    </tr>\n",
       "    <tr>\n",
       "      <th>EBIT</th>\n",
       "      <td>8.508029e+08</td>\n",
       "      <td>0.0</td>\n",
       "    </tr>\n",
       "    <tr>\n",
       "      <th>EBITDA</th>\n",
       "      <td>7.775133e+08</td>\n",
       "      <td>0.0</td>\n",
       "    </tr>\n",
       "    <tr>\n",
       "      <th>Opex</th>\n",
       "      <td>7.329000e+07</td>\n",
       "      <td>0.0</td>\n",
       "    </tr>\n",
       "    <tr>\n",
       "      <th>Revenues</th>\n",
       "      <td>8.508033e+08</td>\n",
       "      <td>0.0</td>\n",
       "    </tr>\n",
       "    <tr>\n",
       "      <th>depreciation</th>\n",
       "      <td>-7.328958e+07</td>\n",
       "      <td>0.0</td>\n",
       "    </tr>\n",
       "    <tr>\n",
       "      <th>Total</th>\n",
       "      <td>3.329920e+09</td>\n",
       "      <td>0.0</td>\n",
       "    </tr>\n",
       "  </tbody>\n",
       "</table>\n",
       "</div>"
      ],
      "text/plain": [
       "station_type         large  not profitable\n",
       "CAPEX         8.508005e+08             0.0\n",
       "EBIT          8.508029e+08             0.0\n",
       "EBITDA        7.775133e+08             0.0\n",
       "Opex          7.329000e+07             0.0\n",
       "Revenues      8.508033e+08             0.0\n",
       "depreciation -7.328958e+07             0.0\n",
       "Total         3.329920e+09             0.0"
      ]
     },
     "execution_count": 88,
     "metadata": {},
     "output_type": "execute_result"
    }
   ],
   "source": [
    "finance_chosen_stations"
   ]
  }
 ],
 "metadata": {
  "kernelspec": {
   "display_name": "bikes-ramp",
   "language": "python",
   "name": "python3"
  },
  "language_info": {
   "codemirror_mode": {
    "name": "ipython",
    "version": 3
   },
   "file_extension": ".py",
   "mimetype": "text/x-python",
   "name": "python",
   "nbconvert_exporter": "python",
   "pygments_lexer": "ipython3",
   "version": "3.9.7"
  },
  "vscode": {
   "interpreter": {
    "hash": "fd84a0bcc5a8e3ba4ab71ba0aa400d8ec0cf66c7460071a07d687293e2cba0c4"
   }
  }
 },
 "nbformat": 4,
 "nbformat_minor": 4
}
