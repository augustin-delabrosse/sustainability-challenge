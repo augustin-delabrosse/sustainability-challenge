{
 "cells": [
  {
   "cell_type": "code",
   "execution_count": 1,
   "metadata": {},
   "outputs": [],
   "source": [
    "import numpy as np\n",
    "import pandas as pd \n",
    "import matplotlib.pyplot as plt\n",
    "import seaborn as sns\n",
    "import geopandas as gpd\n",
    "import pyproj \n",
    "from tqdm import tqdm\n",
    "import reverse_geocoder as rg\n",
    "\n",
    "from shapely.geometry import Point\n",
    "from shapely.geometry import LineString\n",
    "\n",
    "from preprocessing.pre_process_stations import *\n",
    "from preprocessing.pre_process_traffic import *\n",
    "from preprocessing.helping_functions import *\n",
    "\n",
    "from features.config import *\n",
    "from features.financials_part_2 import *\n",
    "from features.question_1 import *\n",
    "from features.question_2 import *"
   ]
  },
  {
   "cell_type": "code",
   "execution_count": 3,
   "metadata": {},
   "outputs": [],
   "source": [
    "# Part 4\n",
    "# Assumptions from slides\n",
    "factory_info = {\n",
    "    'station_type': ['small', 'large'],\n",
    "    'capex': [20, 120],\n",
    "    'depreciation': [0.15,0.15], \n",
    "    'opex': [0.03 * 20, 0.03 * 150],\n",
    "    'Power_usage': [55, 50],  # Wh/kgH2 \n",
    "    'water_consumption': [10, 10], #L/kgH2\n",
    "}\n",
    "\n",
    "df_factory_info = pd.DataFrame(factory_info).reset_index(drop=True)\n",
    "\n",
    "transport_by_truck = 0.008 #euros/kgH2/km\n",
    "\n",
    "# price KWH France, source: https://www.fournisseur-energie.com/prix-kwh/#:~:text=L%27essentiel%20sur%20les%20prix,6%20kVA%2C%20en%20option%20base.\n",
    "# price Liter Water, source: https://www.cieau.com/le-metier-de-leau/prix-des-services-deau/#:~:text=le%20prix%20moyen%20des%20services,de%20120%20m3%20consomm%C3%A9s.\n",
    "\n",
    "kwh_price = 0.2 #euros\n",
    "L_price = 0.0037 #euros"
   ]
  },
  {
   "cell_type": "code",
   "execution_count": 4,
   "metadata": {},
   "outputs": [
    {
     "data": {
      "text/html": [
       "<div>\n",
       "<style scoped>\n",
       "    .dataframe tbody tr th:only-of-type {\n",
       "        vertical-align: middle;\n",
       "    }\n",
       "\n",
       "    .dataframe tbody tr th {\n",
       "        vertical-align: top;\n",
       "    }\n",
       "\n",
       "    .dataframe thead th {\n",
       "        text-align: right;\n",
       "    }\n",
       "</style>\n",
       "<table border=\"1\" class=\"dataframe\">\n",
       "  <thead>\n",
       "    <tr style=\"text-align: right;\">\n",
       "      <th></th>\n",
       "      <th>station_type</th>\n",
       "      <th>capex</th>\n",
       "      <th>depreciation</th>\n",
       "      <th>opex</th>\n",
       "      <th>Power_usage</th>\n",
       "      <th>water_consumption</th>\n",
       "    </tr>\n",
       "  </thead>\n",
       "  <tbody>\n",
       "    <tr>\n",
       "      <th>0</th>\n",
       "      <td>small</td>\n",
       "      <td>20</td>\n",
       "      <td>0.15</td>\n",
       "      <td>0.6</td>\n",
       "      <td>55</td>\n",
       "      <td>10</td>\n",
       "    </tr>\n",
       "    <tr>\n",
       "      <th>1</th>\n",
       "      <td>large</td>\n",
       "      <td>120</td>\n",
       "      <td>0.15</td>\n",
       "      <td>4.5</td>\n",
       "      <td>50</td>\n",
       "      <td>10</td>\n",
       "    </tr>\n",
       "  </tbody>\n",
       "</table>\n",
       "</div>"
      ],
      "text/plain": [
       "  station_type  capex  depreciation  opex  Power_usage  water_consumption\n",
       "0        small     20          0.15   0.6           55                 10\n",
       "1        large    120          0.15   4.5           50                 10"
      ]
     },
     "execution_count": 4,
     "metadata": {},
     "output_type": "execute_result"
    }
   ],
   "source": [
    "df_factory_info"
   ]
  },
  {
   "attachments": {},
   "cell_type": "markdown",
   "metadata": {},
   "source": [
    "- Number of production sites:\n",
    "demand / 500MW or ?"
   ]
  },
  {
   "attachments": {},
   "cell_type": "markdown",
   "metadata": {},
   "source": [
    "Location of h2 producion\n",
    "- Genetic algorithm\n",
    "- k means:"
   ]
  },
  {
   "cell_type": "code",
   "execution_count": null,
   "metadata": {},
   "outputs": [],
   "source": [
    " "
   ]
  }
 ],
 "metadata": {
  "kernelspec": {
   "display_name": "bikes-ramp",
   "language": "python",
   "name": "python3"
  },
  "language_info": {
   "codemirror_mode": {
    "name": "ipython",
    "version": 3
   },
   "file_extension": ".py",
   "mimetype": "text/x-python",
   "name": "python",
   "nbconvert_exporter": "python",
   "pygments_lexer": "ipython3",
   "version": "3.9.7"
  },
  "orig_nbformat": 4
 },
 "nbformat": 4,
 "nbformat_minor": 2
}
