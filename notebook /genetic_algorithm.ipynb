{
 "cells": [
  {
   "cell_type": "code",
   "execution_count": 1,
   "metadata": {},
   "outputs": [],
   "source": [
    "import numpy as np\n",
    "import pandas as pd \n",
    "import geneticalgorithm\n",
    "from geneticalgorithm import geneticalgorithm as ga\n",
    "import matplotlib.pyplot as plt\n",
    "import seaborn as sns\n",
    "import geopandas as gpd\n",
    "import pyproj \n",
    "from tqdm import tqdm\n",
    "\n",
    "from shapely.geometry import Point\n",
    "from shapely.geometry import LineString\n",
    "\n",
    "from preprocessing.pre_process_stations import *"
   ]
  },
  {
   "cell_type": "code",
   "execution_count": 2,
   "metadata": {},
   "outputs": [],
   "source": [
    "import warnings\n",
    "\n",
    "warnings.filterwarnings(\"ignore\")"
   ]
  },
  {
   "cell_type": "code",
   "execution_count": 3,
   "metadata": {},
   "outputs": [],
   "source": [
    "class Config:\n",
    "    PATH = '../../data/'\n",
    "\n",
    "class Params:\n",
    "    PARAM = 0\n",
    "config = Config()\n",
    "p = Params()"
   ]
  },
  {
   "attachments": {},
   "cell_type": "markdown",
   "metadata": {},
   "source": [
    "## Load data"
   ]
  },
  {
   "cell_type": "code",
   "execution_count": 4,
   "metadata": {},
   "outputs": [],
   "source": [
    "##### Load and preprocess station data \n",
    "\n",
    "df_stations = pd.read_csv(config.PATH+'I-Données de stations TE_DV.xlsx - export_data_te.csv')\n",
    "df_stations = create_coordinate_column_station(df_stations)\n",
    "df_stations = transform_station_coordinates(df_stations)"
   ]
  },
  {
   "cell_type": "code",
   "execution_count": 5,
   "metadata": {},
   "outputs": [],
   "source": [
    "##### Load hub data \n",
    "\n",
    "df_hub = gpd.read_file(config.PATH+'F-aire-logistiques-donnees-detaillees/Aires_logistiques_denses.shp')"
   ]
  },
  {
   "cell_type": "code",
   "execution_count": 6,
   "metadata": {},
   "outputs": [],
   "source": [
    "##### Load traffic data\n",
    "\n",
    "df_traffic = gpd.read_file(config.PATH+'E-tmja2019-shp/TMJA2019.shp')"
   ]
  },
  {
   "attachments": {},
   "cell_type": "markdown",
   "metadata": {},
   "source": [
    "### Distance to closer station"
   ]
  },
  {
   "cell_type": "code",
   "execution_count": 7,
   "metadata": {},
   "outputs": [],
   "source": [
    "### THIS ONE SHOULD WORK because coordinates of stations in same projection\n",
    "\n",
    "def station_distances(\n",
    "        df_stations: pd.DataFrame\n",
    "):\n",
    "    '''\n",
    "    Input:\n",
    "    - df_stations: dataframe of stations with 'Point_coordinate' column in pseudo Lambert-93 projection\n",
    "\n",
    "    Returns: \n",
    "    df_stations dataframe with the new columns:\n",
    "    - Distance_closer_station: distance to closest other station for each station (using the distance geopandas function)\n",
    "    - Closer_station_by_index: the index of the closest station (can check its id later)\n",
    "\n",
    "    The geopandas distance function computes the shortest distance between Point and Point\n",
    "    '''\n",
    "\n",
    "    nb_stations = df_stations.shape[0]\n",
    "    df_stations['Point_coordinate'] = df_stations['Coordinate_transform'].apply(lambda x: Point(x))\n",
    "    df_stations['Distance_closer_station'] = np.zeros(nb_stations)\n",
    "    df_stations['Closer_station'] = np.zeros(nb_stations)\n",
    "    for j in tqdm(range(nb_stations)):\n",
    "        distance_point_point = []\n",
    "        for i in range(nb_stations):\n",
    "            if i != j:\n",
    "                point = df_stations.loc[i,'Point_coordinate']\n",
    "                distance_point_point.append(df_stations.loc[j,'Point_coordinate'].distance(point))\n",
    "            # exclude the distance to its own station\n",
    "            else:\n",
    "                distance_point_point.append(1e10)\n",
    "        df_stations.loc[j,'Distance_closer_station'] = np.min(np.array(distance_point_point))\n",
    "        df_stations.loc[j,'Closer_station_by_index'] = np.argmin(np.array(distance_point_point))\n",
    "\n",
    "    return df_stations"
   ]
  },
  {
   "cell_type": "code",
   "execution_count": 8,
   "metadata": {},
   "outputs": [
    {
     "name": "stderr",
     "output_type": "stream",
     "text": [
      "100%|██████████| 3728/3728 [16:15<00:00,  3.82it/s]  \n"
     ]
    }
   ],
   "source": [
    "df_stations = station_distances(df_stations)"
   ]
  },
  {
   "cell_type": "code",
   "execution_count": 15,
   "metadata": {},
   "outputs": [
    {
     "data": {
      "text/plain": [
       "<bound method IndexOpsMixin.value_counts of 0       3569.0\n",
       "1        623.0\n",
       "2        285.0\n",
       "3       3375.0\n",
       "4         47.0\n",
       "         ...  \n",
       "3723    3720.0\n",
       "3724    3327.0\n",
       "3725    3495.0\n",
       "3726    1438.0\n",
       "3727    2525.0\n",
       "Name: Closer_station_by_index, Length: 3728, dtype: float64>"
      ]
     },
     "execution_count": 15,
     "metadata": {},
     "output_type": "execute_result"
    }
   ],
   "source": [
    "df_stations['Closer_station_by_index'].value_counts"
   ]
  },
  {
   "attachments": {},
   "cell_type": "markdown",
   "metadata": {},
   "source": [
    "### Distance to closer route"
   ]
  },
  {
   "cell_type": "code",
   "execution_count": 13,
   "metadata": {},
   "outputs": [],
   "source": [
    "### TO DO: GUS\n",
    "# make sure the stations coordinates and the routes' AND hubs' geometry column are in the same projection\n",
    "# transform the distances in projection Lambert-93 into KILOMETERS\n",
    "\n",
    "def compute_route_hub_distance(\n",
    "        df_stations: pd.DataFrame,\n",
    "        df_geometry:  pd.DataFrame,\n",
    "        route: bool\n",
    "        ):\n",
    "    \n",
    "    '''\n",
    "    Input:\n",
    "    - df_stations: dataframe of stations \n",
    "    - df_geometry: dataframe with 'geometry' column which is a geopandas object \n",
    "                   Polygon for hub, Linestring or Multistring for routes\n",
    "\n",
    "    Returns: \n",
    "    df_stations dataframe with the new columns:\n",
    "    - Distance_closer_route: distance to closest route for each station (using the distance geopandas function)\n",
    "    - Closer_route_by_index: the index of the closest route (can check its id later)\n",
    "\n",
    "    The geopandas distance function computes the shortest distance between point and Linestring, Polygon, etc.\n",
    "    '''\n",
    "\n",
    "    nb_stations = df_stations.shape[0]\n",
    "    if route:\n",
    "        distance_column_name = 'Distance_closer_route'\n",
    "        route_column_name = 'Closer_route_by_index'\n",
    "    else:\n",
    "        distance_column_name = 'Distance_closer_hub'\n",
    "        route_column_name = 'Closer_hub_by_index'\n",
    "\n",
    "    df_stations['Point_coordinate'] = df_stations['Coordinate_transform'].apply(lambda x: Point(x))\n",
    "    df_stations[distance_column_name] = np.zeros(nb_stations)\n",
    "    df_stations[route_column_name] = np.zeros(nb_stations)\n",
    "\n",
    "    for j in tqdm(range(nb_stations)):\n",
    "        distance_point_line = []\n",
    "        for i in range(df_geometry.shape[0]):\n",
    "            route = df_geometry.loc[i,'geometry']\n",
    "            distance_point_line.append(df_stations.loc[j,'Point_coordinate'].distance(route))\n",
    "        df_stations.loc[j,distance_column_name] = min(distance_point_line)\n",
    "        df_stations.loc[j,route_column_name] = np.argmin(np.array(distance_point_line))\n",
    "\n",
    "    return df_stations"
   ]
  },
  {
   "cell_type": "code",
   "execution_count": 11,
   "metadata": {},
   "outputs": [
    {
     "name": "stderr",
     "output_type": "stream",
     "text": [
      "100%|██████████| 3728/3728 [15:34<00:00,  3.99it/s]\n"
     ]
    },
    {
     "data": {
      "text/plain": [
       "322.0     3657\n",
       "347.0       63\n",
       "3765.0       7\n",
       "2674.0       1\n",
       "Name: Closer_route_by_index, dtype: int64"
      ]
     },
     "execution_count": 11,
     "metadata": {},
     "output_type": "execute_result"
    }
   ],
   "source": [
    "# For routes \n",
    "df_stations = compute_route_hub_distance(df_stations,df_traffic,route=True)\n",
    "df_stations['Closer_route_by_index'].value_counts()"
   ]
  },
  {
   "cell_type": "code",
   "execution_count": 14,
   "metadata": {},
   "outputs": [
    {
     "name": "stderr",
     "output_type": "stream",
     "text": [
      "100%|██████████| 3728/3728 [01:10<00:00, 52.98it/s]\n"
     ]
    },
    {
     "data": {
      "text/plain": [
       "24.0     3657\n",
       "236.0      70\n",
       "295.0       1\n",
       "Name: Closer_hub_by_index, dtype: int64"
      ]
     },
     "execution_count": 14,
     "metadata": {},
     "output_type": "execute_result"
    }
   ],
   "source": [
    "# For hubs \n",
    "df_stations = compute_route_hub_distance(df_stations,df_hub,route=False)\n",
    "df_stations['Closer_hub_by_index'].value_counts()"
   ]
  },
  {
   "attachments": {},
   "cell_type": "markdown",
   "metadata": {},
   "source": [
    "### Quantity sold per day"
   ]
  },
  {
   "cell_type": "code",
   "execution_count": 16,
   "metadata": {},
   "outputs": [
    {
     "data": {
      "text/html": [
       "<div>\n",
       "<style scoped>\n",
       "    .dataframe tbody tr th:only-of-type {\n",
       "        vertical-align: middle;\n",
       "    }\n",
       "\n",
       "    .dataframe tbody tr th {\n",
       "        vertical-align: top;\n",
       "    }\n",
       "\n",
       "    .dataframe thead th {\n",
       "        text-align: right;\n",
       "    }\n",
       "</style>\n",
       "<table border=\"1\" class=\"dataframe\">\n",
       "  <thead>\n",
       "    <tr style=\"text-align: right;\">\n",
       "      <th></th>\n",
       "      <th>Unnamed: 0</th>\n",
       "      <th>Unnamed: 1</th>\n",
       "      <th>Small - 1 tpd</th>\n",
       "      <th>Medium - 2 tpd</th>\n",
       "      <th>Large - 4 tpd</th>\n",
       "    </tr>\n",
       "  </thead>\n",
       "  <tbody>\n",
       "    <tr>\n",
       "      <th>0</th>\n",
       "      <td>Capex (installed equipment)</td>\n",
       "      <td>m€</td>\n",
       "      <td>3</td>\n",
       "      <td>5</td>\n",
       "      <td>8</td>\n",
       "    </tr>\n",
       "    <tr>\n",
       "      <th>1</th>\n",
       "      <td>Depreciation</td>\n",
       "      <td>y</td>\n",
       "      <td>15</td>\n",
       "      <td>15</td>\n",
       "      <td>15</td>\n",
       "    </tr>\n",
       "    <tr>\n",
       "      <th>2</th>\n",
       "      <td>Yearly Opex</td>\n",
       "      <td>% of Capex</td>\n",
       "      <td>10</td>\n",
       "      <td>8</td>\n",
       "      <td>7</td>\n",
       "    </tr>\n",
       "    <tr>\n",
       "      <th>3</th>\n",
       "      <td>Storage Onsite</td>\n",
       "      <td>tH2</td>\n",
       "      <td>2</td>\n",
       "      <td>3</td>\n",
       "      <td>4</td>\n",
       "    </tr>\n",
       "    <tr>\n",
       "      <th>4</th>\n",
       "      <td>Construction time</td>\n",
       "      <td>y</td>\n",
       "      <td>1</td>\n",
       "      <td>1</td>\n",
       "      <td>1</td>\n",
       "    </tr>\n",
       "  </tbody>\n",
       "</table>\n",
       "</div>"
      ],
      "text/plain": [
       "                    Unnamed: 0  Unnamed: 1  Small - 1 tpd  Medium - 2 tpd  \\\n",
       "0  Capex (installed equipment)          m€              3               5   \n",
       "1                 Depreciation           y             15              15   \n",
       "2                  Yearly Opex  % of Capex             10               8   \n",
       "3               Storage Onsite         tH2              2               3   \n",
       "4            Construction time           y              1               1   \n",
       "\n",
       "   Large - 4 tpd  \n",
       "0              8  \n",
       "1             15  \n",
       "2              7  \n",
       "3              4  \n",
       "4              1  "
      ]
     },
     "execution_count": 16,
     "metadata": {},
     "output_type": "execute_result"
    }
   ],
   "source": [
    "### Data of operations from slides \n",
    "\n",
    "df_g = pd.read_csv(config.PATH+'G-operation-of-stations.csv')\n",
    "df_g.head()"
   ]
  },
  {
   "cell_type": "code",
   "execution_count": null,
   "metadata": {},
   "outputs": [],
   "source": [
    "df_stations['Quantity_sold_per_day(in kg)'] = np.zeros(df_stations.shape[0])\n",
    "\n",
    "### TO DO \n",
    "\n",
    "# Estimation of number of trucks passing per station \n",
    "# HOW ? same model as region but per route and then per station\n",
    "\n",
    "# Transform number of trucks into quantity of H2 sold based on:\n",
    "# reservoir size (based on brands)\n",
    "# revervoir persentage filled --> take ... % of reservoir size "
   ]
  },
  {
   "attachments": {},
   "cell_type": "markdown",
   "metadata": {},
   "source": [
    "### Capacity "
   ]
  },
  {
   "cell_type": "code",
   "execution_count": null,
   "metadata": {},
   "outputs": [],
   "source": [
    "df_stations['Capacity_1'] = (df_stations['Quantity_sold_per_day(in kg)'])/1000 \n",
    "df_stations['Capacity_2'] = (df_stations['Quantity_sold_per_day(in kg)'])/2000 \n",
    "df_stations['Capacity_3'] = (df_stations['Quantity_sold_per_day(in kg)'])/4000 "
   ]
  },
  {
   "attachments": {},
   "cell_type": "markdown",
   "metadata": {},
   "source": [
    "### Profitability"
   ]
  },
  {
   "cell_type": "code",
   "execution_count": null,
   "metadata": {},
   "outputs": [],
   "source": [
    "## based on threshold : 0 or 1\n",
    "df_stations['Profitability_1'] = np.zeros(df_stations.shape[0])\n",
    "df_stations[df_stations['Capacity_1'] > 0.9]['Profitability_1'] = 1\n",
    "\n",
    "df_stations['Profitability_2'] = np.zeros(df_stations.shape[0])\n",
    "df_stations[df_stations['Capacity_2'] > 0.8]['Profitability_2'] = 1\n",
    "\n",
    "df_stations['Profitability_3'] = np.zeros(df_stations.shape[0])\n",
    "v[df_stations['Capacity_3'] > 0.6]['Profitability_3'] = 1"
   ]
  },
  {
   "cell_type": "code",
   "execution_count": null,
   "metadata": {},
   "outputs": [],
   "source": [
    "## based on revenue and cost: in m euros \n",
    "# check online or ask their teams\n",
    "price_per_kg_h2 = ### TO DO : CES \n",
    "\n",
    "df_stations['Profitability_1_net'] = 3 - df_stations['Quantity_sold_per_day(in kg)']*price_per_kg_h2\n",
    "\n",
    "df_stations['Profitability_2_net'] = 5 - df_stations['Quantity_sold_per_day(in kg)']*price_per_kg_h2\n",
    "\n",
    "df_stations['Profitability_3_net'] = 8 - df_stations['Quantity_sold_per_day(in kg)']*price_per_kg_h2"
   ]
  },
  {
   "cell_type": "code",
   "execution_count": null,
   "metadata": {},
   "outputs": [],
   "source": []
  },
  {
   "cell_type": "code",
   "execution_count": null,
   "metadata": {},
   "outputs": [],
   "source": []
  },
  {
   "attachments": {},
   "cell_type": "markdown",
   "metadata": {},
   "source": [
    "## Define the optimization problem"
   ]
  },
  {
   "cell_type": "code",
   "execution_count": null,
   "metadata": {},
   "outputs": [],
   "source": [
    "# Add constraint: \n",
    "max_nb_station = ### EXTRACT FROM PART 1\n",
    "\n",
    "\n",
    "def fitness(X,max_nb_station,max_km):\n",
    "    \n",
    "    fit = 0\n",
    "\n",
    "    # constraint 1: number stations == result from part 1\n",
    "    if np.sum(X)==max_nb_station:\n",
    "        \n",
    "        # constraint 2: distance between stations < min(autonomy)*0.8\n",
    "        if  < max_km*0.8:\n",
    "        \n",
    "            # constraint 3: make sure the station is profitable \n",
    "            if profit > 0:\n",
    "            # end constraint 2\n",
    "\n",
    "\n",
    "        # end constraint 2\n",
    "        else:\n",
    "            fit = 10e10000\n",
    "\n",
    "    # end constraint 1\n",
    "    else:\n",
    "        fit = 10e10000\n",
    "        \n",
    "    return fit\n",
    "\n",
    "varbound = np.array([[1,2,4]]*nb_stations) # binary variables for existing stations\n",
    "\n",
    "model=ga(function=fitness,dimension=nb_stations,variable_type='int',variable_boundaries=varbound)\n",
    "\n",
    "model.run()"
   ]
  },
  {
   "cell_type": "code",
   "execution_count": null,
   "metadata": {},
   "outputs": [],
   "source": [
    "# parameters to tune \n",
    "\n",
    "algorithm_param = {'max_num_iteration': None,\\\n",
    "                   'population_size':100,\\\n",
    "                   'mutation_probability':0.1,\\\n",
    "                   'elit_ratio': 0.01,\\\n",
    "                   'crossover_probability': 0.5,\\\n",
    "                   'parents_portion': 0.3,\\\n",
    "                   'crossover_type':'uniform',\\\n",
    "                   'max_iteration_without_improv':None}"
   ]
  },
  {
   "cell_type": "code",
   "execution_count": null,
   "metadata": {},
   "outputs": [],
   "source": []
  },
  {
   "cell_type": "code",
   "execution_count": null,
   "metadata": {},
   "outputs": [],
   "source": []
  },
  {
   "cell_type": "code",
   "execution_count": null,
   "metadata": {},
   "outputs": [],
   "source": [
    "### NEXT STEPS\n",
    "\n",
    "# optimisation sur les valeurs des coordonnées des routes qu'on a choisi \n",
    "# (pour optimiser sur ces valeurs et non sur les stations existantes)\n",
    "\n",
    "# fonction qui mesure distance entre deux stations sur reseaux routier (et non a vol d'oiseau)\n"
   ]
  }
 ],
 "metadata": {
  "kernelspec": {
   "display_name": "base",
   "language": "python",
   "name": "python3"
  },
  "language_info": {
   "codemirror_mode": {
    "name": "ipython",
    "version": 3
   },
   "file_extension": ".py",
   "mimetype": "text/x-python",
   "name": "python",
   "nbconvert_exporter": "python",
   "pygments_lexer": "ipython3",
   "version": "3.7.1"
  },
  "orig_nbformat": 4,
  "vscode": {
   "interpreter": {
    "hash": "398dc28c06ad810e77de546bbdfa897a6ee0b83e59a5207339dda01a7843e01d"
   }
  }
 },
 "nbformat": 4,
 "nbformat_minor": 2
}
