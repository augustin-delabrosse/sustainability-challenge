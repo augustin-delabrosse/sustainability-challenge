{
 "cells": [
  {
   "cell_type": "code",
   "execution_count": 311,
   "metadata": {},
   "outputs": [],
   "source": [
    "import pandas as pd\n",
    "import numpy as np\n",
    "import matplotlib.pyplot as plt\n",
    "import seaborn as sns\n",
    "import geopandas as gpd\n",
    "\n",
    "from shapely.geometry import Point\n",
    "\n",
    "from sklearn.model_selection import train_test_split\n",
    "from sklearn.ensemble import RandomForestClassifier\n",
    "from sklearn.metrics import confusion_matrix, f1_score, accuracy_score\n",
    "from sklearn.preprocessing import Normalizer\n",
    "from sklearn.ensemble import RandomForestClassifier, ExtraTreesClassifier\n",
    "from sklearn.model_selection import cross_val_score, cross_val_predict, cross_validate, GridSearchCV, StratifiedKFold\n",
    "from sklearn.metrics import accuracy_score, confusion_matrix, make_scorer\n",
    "from sklearn.compose import ColumnTransformer\n",
    "from sklearn.pipeline import Pipeline\n",
    "from sklearn.metrics import precision_score\n",
    "from sklearn.inspection import permutation_importance\n",
    "from sklearn.pipeline import make_pipeline\n",
    "from sklearn.preprocessing import FunctionTransformer, OneHotEncoder, StandardScaler, OrdinalEncoder\n",
    "from sklearn.linear_model import LogisticRegression\n",
    "\n",
    "#import xgboost as xgb\n",
    "#from xgboost import XGBClassifier\n",
    "#from lightgbm import LGBMClassifier, plot_importance\n",
    "\n",
    "import warnings\n",
    "from warnings import simplefilter\n",
    "warnings.simplefilter(action='ignore', category=FutureWarning)\n",
    "from sklearn.exceptions import ConvergenceWarning\n",
    "simplefilter(\"ignore\", category=ConvergenceWarning)"
   ]
  },
  {
   "cell_type": "code",
   "execution_count": 3,
   "metadata": {},
   "outputs": [],
   "source": [
    "class Config:\n",
    "    PATH = '../../data/'\n",
    "\n",
    "class Params:\n",
    "    PARAM = 0"
   ]
  },
  {
   "cell_type": "code",
   "execution_count": 4,
   "metadata": {},
   "outputs": [],
   "source": [
    "config = Config()\n",
    "p = Params()"
   ]
  },
  {
   "cell_type": "code",
   "execution_count": 5,
   "metadata": {},
   "outputs": [],
   "source": [
    "df = pd.read_csv(config.PATH+'E-tmja-2019-clean.csv')"
   ]
  },
  {
   "cell_type": "code",
   "execution_count": 6,
   "metadata": {},
   "outputs": [],
   "source": [
    "columns_to_drop = ['dateReferentiel','zD','zF']\n",
    "df = df.drop(columns=columns_to_drop)"
   ]
  },
  {
   "cell_type": "code",
   "execution_count": 7,
   "metadata": {},
   "outputs": [],
   "source": [
    "import pyproj\n",
    "\n",
    "def add_lat_lon_columns(df):\n",
    "    \"\"\"\n",
    "    Adds new columns 'lonD', 'latD', 'lonF', 'latF' to the dataframe with\n",
    "    corresponding latitude and longitude values based on the 'xD', 'yD', 'xF',\n",
    "    and 'yF' columns, which are in Lambert-93 projection.\n",
    "\n",
    "    Parameters:\n",
    "    -----------\n",
    "    df : pandas.DataFrame\n",
    "        The dataframe containing the columns 'xD', 'yD', 'xF', and 'yF'.\n",
    "\n",
    "    Returns:\n",
    "    --------\n",
    "    pandas.DataFrame\n",
    "        The original dataframe with the new 'lonD', 'latD', 'lonF', and 'latF'\n",
    "        columns added.\n",
    "    \"\"\"\n",
    "    # Define the input and output projections\n",
    "    in_proj = pyproj.Proj(init='epsg:2154')  # Lambert-93\n",
    "    out_proj = pyproj.Proj(init='epsg:4326')  # WGS84\n",
    "\n",
    "    df['xD'] = df['xD'].str.replace(',', '.')\n",
    "    df['yD'] = df['yD'].str.replace(',', '.')\n",
    "    df['xF'] = df['xF'].str.replace(',', '.')\n",
    "    df['yF'] = df['yF'].str.replace(',', '.')\n",
    "\n",
    "    # Convert start coordinates to lat-long\n",
    "    df['lonD'], df['latD'] = pyproj.transform(in_proj, out_proj, df['xD'], df['yD'])\n",
    "\n",
    "    # Convert end coordinates to lat-long\n",
    "    df['lonF'], df['latF'] = pyproj.transform(in_proj, out_proj, df['xF'], df['yF'])\n",
    "\n",
    "    return df"
   ]
  },
  {
   "cell_type": "code",
   "execution_count": 8,
   "metadata": {},
   "outputs": [
    {
     "name": "stderr",
     "output_type": "stream",
     "text": [
      "/anaconda3/lib/python3.7/site-packages/ipykernel_launcher.py:30: DeprecationWarning: This function is deprecated. See: https://pyproj4.github.io/pyproj/stable/gotchas.html#upgrading-to-pyproj-2-from-pyproj-1\n",
      "/anaconda3/lib/python3.7/site-packages/ipykernel_launcher.py:33: DeprecationWarning: This function is deprecated. See: https://pyproj4.github.io/pyproj/stable/gotchas.html#upgrading-to-pyproj-2-from-pyproj-1\n"
     ]
    }
   ],
   "source": [
    "df = add_lat_lon_columns(df)"
   ]
  },
  {
   "cell_type": "code",
   "execution_count": 310,
   "metadata": {},
   "outputs": [
    {
     "data": {
      "text/html": [
       "<div>\n",
       "<style scoped>\n",
       "    .dataframe tbody tr th:only-of-type {\n",
       "        vertical-align: middle;\n",
       "    }\n",
       "\n",
       "    .dataframe tbody tr th {\n",
       "        vertical-align: top;\n",
       "    }\n",
       "\n",
       "    .dataframe thead th {\n",
       "        text-align: right;\n",
       "    }\n",
       "</style>\n",
       "<table border=\"1\" class=\"dataframe\">\n",
       "  <thead>\n",
       "    <tr style=\"text-align: right;\">\n",
       "      <th></th>\n",
       "      <th>route</th>\n",
       "      <th>longueur</th>\n",
       "      <th>prD</th>\n",
       "      <th>depPrD</th>\n",
       "      <th>concessionPrD</th>\n",
       "      <th>absD</th>\n",
       "      <th>cumulD</th>\n",
       "      <th>xD</th>\n",
       "      <th>yD</th>\n",
       "      <th>prF</th>\n",
       "      <th>...</th>\n",
       "      <th>yF</th>\n",
       "      <th>anneeMesureTrafic</th>\n",
       "      <th>typeComptageTrafic</th>\n",
       "      <th>typeComptageTrafic_lib</th>\n",
       "      <th>TMJA</th>\n",
       "      <th>ratio_PL</th>\n",
       "      <th>lonD</th>\n",
       "      <th>latD</th>\n",
       "      <th>lonF</th>\n",
       "      <th>latF</th>\n",
       "    </tr>\n",
       "  </thead>\n",
       "  <tbody>\n",
       "    <tr>\n",
       "      <th>0</th>\n",
       "      <td>31D0044</td>\n",
       "      <td>44</td>\n",
       "      <td>0</td>\n",
       "      <td>31</td>\n",
       "      <td>N</td>\n",
       "      <td>0</td>\n",
       "      <td>0</td>\n",
       "      <td>511656.78</td>\n",
       "      <td>6204078.36</td>\n",
       "      <td>0</td>\n",
       "      <td>...</td>\n",
       "      <td>6204063.93</td>\n",
       "      <td>NaN</td>\n",
       "      <td>NaN</td>\n",
       "      <td>NaN</td>\n",
       "      <td>NaN</td>\n",
       "      <td>NaN</td>\n",
       "      <td>0.695459</td>\n",
       "      <td>42.911382</td>\n",
       "      <td>0.695975</td>\n",
       "      <td>42.911263</td>\n",
       "    </tr>\n",
       "    <tr>\n",
       "      <th>1</th>\n",
       "      <td>31D0044E</td>\n",
       "      <td>762</td>\n",
       "      <td>0</td>\n",
       "      <td>31</td>\n",
       "      <td>N</td>\n",
       "      <td>0</td>\n",
       "      <td>0</td>\n",
       "      <td>511367.22</td>\n",
       "      <td>6204210.06</td>\n",
       "      <td>0</td>\n",
       "      <td>...</td>\n",
       "      <td>6203732.4</td>\n",
       "      <td>NaN</td>\n",
       "      <td>NaN</td>\n",
       "      <td>NaN</td>\n",
       "      <td>NaN</td>\n",
       "      <td>NaN</td>\n",
       "      <td>0.691871</td>\n",
       "      <td>42.912490</td>\n",
       "      <td>0.698322</td>\n",
       "      <td>42.908331</td>\n",
       "    </tr>\n",
       "    <tr>\n",
       "      <th>2</th>\n",
       "      <td>69D0301</td>\n",
       "      <td>6055</td>\n",
       "      <td>2</td>\n",
       "      <td>69</td>\n",
       "      <td>N</td>\n",
       "      <td>-981</td>\n",
       "      <td>0</td>\n",
       "      <td>844036.84</td>\n",
       "      <td>6510806.45</td>\n",
       "      <td>7</td>\n",
       "      <td>...</td>\n",
       "      <td>6509342.34</td>\n",
       "      <td>NaN</td>\n",
       "      <td>NaN</td>\n",
       "      <td>NaN</td>\n",
       "      <td>NaN</td>\n",
       "      <td>NaN</td>\n",
       "      <td>4.850575</td>\n",
       "      <td>45.681629</td>\n",
       "      <td>4.918315</td>\n",
       "      <td>45.667307</td>\n",
       "    </tr>\n",
       "    <tr>\n",
       "      <th>3</th>\n",
       "      <td>69D0383</td>\n",
       "      <td>13752</td>\n",
       "      <td>4</td>\n",
       "      <td>69</td>\n",
       "      <td>N</td>\n",
       "      <td>-494</td>\n",
       "      <td>0</td>\n",
       "      <td>846831.3</td>\n",
       "      <td>6522372.16</td>\n",
       "      <td>17</td>\n",
       "      <td>...</td>\n",
       "      <td>6512429.8</td>\n",
       "      <td>NaN</td>\n",
       "      <td>NaN</td>\n",
       "      <td>NaN</td>\n",
       "      <td>NaN</td>\n",
       "      <td>NaN</td>\n",
       "      <td>4.890020</td>\n",
       "      <td>45.785151</td>\n",
       "      <td>4.844653</td>\n",
       "      <td>45.696348</td>\n",
       "    </tr>\n",
       "    <tr>\n",
       "      <th>4</th>\n",
       "      <td>69D0383BPNL</td>\n",
       "      <td>2408</td>\n",
       "      <td>0</td>\n",
       "      <td>69</td>\n",
       "      <td>N</td>\n",
       "      <td>0</td>\n",
       "      <td>0</td>\n",
       "      <td>844982.46</td>\n",
       "      <td>6522772.27</td>\n",
       "      <td>2</td>\n",
       "      <td>...</td>\n",
       "      <td>6522372.16</td>\n",
       "      <td>NaN</td>\n",
       "      <td>NaN</td>\n",
       "      <td>NaN</td>\n",
       "      <td>NaN</td>\n",
       "      <td>NaN</td>\n",
       "      <td>4.866352</td>\n",
       "      <td>45.789149</td>\n",
       "      <td>4.890020</td>\n",
       "      <td>45.785151</td>\n",
       "    </tr>\n",
       "  </tbody>\n",
       "</table>\n",
       "<p>5 rows × 25 columns</p>\n",
       "</div>"
      ],
      "text/plain": [
       "         route longueur  prD  depPrD concessionPrD  absD cumulD         xD  \\\n",
       "0      31D0044       44    0      31             N     0      0  511656.78   \n",
       "1     31D0044E      762    0      31             N     0      0  511367.22   \n",
       "2      69D0301     6055    2      69             N  -981      0  844036.84   \n",
       "3      69D0383    13752    4      69             N  -494      0   846831.3   \n",
       "4  69D0383BPNL     2408    0      69             N     0      0  844982.46   \n",
       "\n",
       "           yD  prF  ...          yF anneeMesureTrafic typeComptageTrafic  \\\n",
       "0  6204078.36    0  ...  6204063.93               NaN                NaN   \n",
       "1  6204210.06    0  ...   6203732.4               NaN                NaN   \n",
       "2  6510806.45    7  ...  6509342.34               NaN                NaN   \n",
       "3  6522372.16   17  ...   6512429.8               NaN                NaN   \n",
       "4  6522772.27    2  ...  6522372.16               NaN                NaN   \n",
       "\n",
       "  typeComptageTrafic_lib TMJA ratio_PL      lonD       latD      lonF  \\\n",
       "0                    NaN  NaN      NaN  0.695459  42.911382  0.695975   \n",
       "1                    NaN  NaN      NaN  0.691871  42.912490  0.698322   \n",
       "2                    NaN  NaN      NaN  4.850575  45.681629  4.918315   \n",
       "3                    NaN  NaN      NaN  4.890020  45.785151  4.844653   \n",
       "4                    NaN  NaN      NaN  4.866352  45.789149  4.890020   \n",
       "\n",
       "        latF  \n",
       "0  42.911263  \n",
       "1  42.908331  \n",
       "2  45.667307  \n",
       "3  45.696348  \n",
       "4  45.785151  \n",
       "\n",
       "[5 rows x 25 columns]"
      ]
     },
     "execution_count": 310,
     "metadata": {},
     "output_type": "execute_result"
    }
   ],
   "source": [
    "df.head()"
   ]
  },
  {
   "attachments": {},
   "cell_type": "markdown",
   "metadata": {},
   "source": [
    "### Clean data"
   ]
  },
  {
   "cell_type": "code",
   "execution_count": 14,
   "metadata": {},
   "outputs": [
    {
     "data": {
      "text/plain": [
       "ratio_PL                  1634\n",
       "TMJA                       954\n",
       "typeComptageTrafic_lib     417\n",
       "typeComptageTrafic         417\n",
       "anneeMesureTrafic          138\n",
       "route                        0\n",
       "dtype: int64"
      ]
     },
     "execution_count": 14,
     "metadata": {},
     "output_type": "execute_result"
    }
   ],
   "source": [
    "missing_values = df.isna().sum().sort_values(ascending=False)\n",
    "missing_values[:6]"
   ]
  },
  {
   "cell_type": "code",
   "execution_count": 11,
   "metadata": {},
   "outputs": [
    {
     "data": {
      "text/plain": [
       "<AxesSubplot:>"
      ]
     },
     "execution_count": 11,
     "metadata": {},
     "output_type": "execute_result"
    }
   ],
   "source": [
    "import missingno as msno\n",
    "\n",
    "# keep only columns with nan values\n",
    "columns_with_nan = missing_values[missing_values.values!=0].index\n",
    "msno.matrix(df[columns_with_nan])"
   ]
  },
  {
   "attachments": {},
   "cell_type": "markdown",
   "metadata": {},
   "source": [
    "### Données stations\n"
   ]
  },
  {
   "cell_type": "code",
   "execution_count": 16,
   "metadata": {},
   "outputs": [],
   "source": [
    "df_stations = pd.read_csv(config.PATH+'I-Données de stations TE_DV.xlsx - export_data_te.csv')"
   ]
  },
  {
   "cell_type": "code",
   "execution_count": 18,
   "metadata": {},
   "outputs": [
    {
     "data": {
      "text/html": [
       "<div>\n",
       "<style scoped>\n",
       "    .dataframe tbody tr th:only-of-type {\n",
       "        vertical-align: middle;\n",
       "    }\n",
       "\n",
       "    .dataframe tbody tr th {\n",
       "        vertical-align: top;\n",
       "    }\n",
       "\n",
       "    .dataframe thead th {\n",
       "        text-align: right;\n",
       "    }\n",
       "</style>\n",
       "<table border=\"1\" class=\"dataframe\">\n",
       "  <thead>\n",
       "    <tr style=\"text-align: right;\">\n",
       "      <th></th>\n",
       "      <th>URL</th>\n",
       "      <th>Station de service</th>\n",
       "      <th>Ville</th>\n",
       "      <th>Adresse</th>\n",
       "      <th>Coordinates</th>\n",
       "      <th>Energies</th>\n",
       "      <th>Lavage</th>\n",
       "      <th>Paiement</th>\n",
       "      <th>Produits &amp; Services</th>\n",
       "      <th>Services</th>\n",
       "      <th>Club TotalEnergies</th>\n",
       "      <th>Truck</th>\n",
       "      <th>H2 Conversion</th>\n",
       "    </tr>\n",
       "  </thead>\n",
       "  <tbody>\n",
       "    <tr>\n",
       "      <th>0</th>\n",
       "      <td>https://store.totalenergies.fr/fr_FR/NF059116</td>\n",
       "      <td>RELAIS SERIGUETTE</td>\n",
       "      <td>AIMARGUES</td>\n",
       "      <td>2 bis. ROUTE DE LA PETITE CAMARGUE  , 30470 AI...</td>\n",
       "      <td>43.6961378,4.2007447</td>\n",
       "      <td>AdBlue Truck, Excellium 98, Excellium Diesel, ...</td>\n",
       "      <td>NaN</td>\n",
       "      <td>Routex, UTA, DKV, Mobility de TotalEnergies, M...</td>\n",
       "      <td>AdBlue Truck,</td>\n",
       "      <td>Café, Justbip, Wifi, AdBlue bidon,</td>\n",
       "      <td>Assistance Club 10 Jours, Jauge Cadeau, Cagnot...</td>\n",
       "      <td>Truck, Truck store,</td>\n",
       "      <td>0.0</td>\n",
       "    </tr>\n",
       "    <tr>\n",
       "      <th>1</th>\n",
       "      <td>https://store.totalenergies.fr/fr_FR/NF080036</td>\n",
       "      <td>RELAIS DEVEZE</td>\n",
       "      <td>BEZIERS</td>\n",
       "      <td>1 AVENUE DE LA DEVEZE  , 34500 BEZIERS, FRANCE</td>\n",
       "      <td>43.33150089999999,3.2474023</td>\n",
       "      <td>AdBlue Truck, Super Ethanol e85, Excellium 98,...</td>\n",
       "      <td>Lavage Haute Pression, Aspirateur, Lavage à Ro...</td>\n",
       "      <td>UTA, Carte Jubileo, MOL, Carte Wash, American ...</td>\n",
       "      <td>AdBlue Truck,</td>\n",
       "      <td>FDJ, Café, Lavage à Rouleaux, Justbip, Gonflag...</td>\n",
       "      <td>Assistance Club 10 Jours, Jauge Cadeau, Cagnot...</td>\n",
       "      <td>Truck, Truck store,</td>\n",
       "      <td>0.0</td>\n",
       "    </tr>\n",
       "    <tr>\n",
       "      <th>2</th>\n",
       "      <td>https://store.totalenergies.fr/fr_FR/NF080198</td>\n",
       "      <td>RELAIS SAINT MATHURIN</td>\n",
       "      <td>ALLONNE</td>\n",
       "      <td>ZAC SAINT MATHURIN - RD 1001  , 60000 ALLONNE,...</td>\n",
       "      <td>49.409445,2.12815</td>\n",
       "      <td>Borne DC175 kW, AdBlue Truck, Excellium 98, Ex...</td>\n",
       "      <td>Aspirateur, Lavage à Rouleaux,</td>\n",
       "      <td>Visa, American Express, Mastercard, Eurotrafic...</td>\n",
       "      <td>AdBlue Truck,</td>\n",
       "      <td>Café, Lavage à Rouleaux, Gonflage, Wifi, Justb...</td>\n",
       "      <td>Assistance Club 10 Jours, Jauge Cadeau, Cagnot...</td>\n",
       "      <td>Truck, Pompes PL,</td>\n",
       "      <td>1.0</td>\n",
       "    </tr>\n",
       "    <tr>\n",
       "      <th>3</th>\n",
       "      <td>https://store.totalenergies.fr/fr_FR/NF080197</td>\n",
       "      <td>REL.LORRAINE LES RAPPES</td>\n",
       "      <td>SANDAUCOURT</td>\n",
       "      <td>AUT.A31-LORRAINE LES RAPPES  , 88170 SANDAUCOU...</td>\n",
       "      <td>48.2659392,5.863884</td>\n",
       "      <td>Borne AC43/DC50 kW, Borne DC175 kW, SP95 e10, ...</td>\n",
       "      <td>NaN</td>\n",
       "      <td>Mobility de TotalEnergies, Carte Jubileo, Cart...</td>\n",
       "      <td>AdBlue Truck,</td>\n",
       "      <td>Défibrillateur, Café, Wifi, Autoroutière, Toil...</td>\n",
       "      <td>Assistance Club 30 Jours, Club Truck, Cagnotte...</td>\n",
       "      <td>Truck, Pompes PL,</td>\n",
       "      <td>0.0</td>\n",
       "    </tr>\n",
       "    <tr>\n",
       "      <th>4</th>\n",
       "      <td>https://store.totalenergies.fr/fr_FR/NF058916</td>\n",
       "      <td>REL.MORAINVILLIERS NORD</td>\n",
       "      <td>MORAINVILLIERS</td>\n",
       "      <td>A13 - AIRE DE MORAINVILLIERS NORD  , 78630 MOR...</td>\n",
       "      <td>48.9411429,1.9543387</td>\n",
       "      <td>Diesel, GPL, SP95 e10, Excellium 98, GNR, Exce...</td>\n",
       "      <td>NaN</td>\n",
       "      <td>Mobility de TotalEnergies, MOL, American Expre...</td>\n",
       "      <td>AdBlue Truck,</td>\n",
       "      <td>Click &amp; Collect Lyf, Toilettes, Défibrillateur...</td>\n",
       "      <td>Assistance Club 30 Jours, Club Truck, Cagnotte...</td>\n",
       "      <td>Truck, Parking PL, Truck store,</td>\n",
       "      <td>0.0</td>\n",
       "    </tr>\n",
       "  </tbody>\n",
       "</table>\n",
       "</div>"
      ],
      "text/plain": [
       "                                             URL       Station de service  \\\n",
       "0  https://store.totalenergies.fr/fr_FR/NF059116        RELAIS SERIGUETTE   \n",
       "1  https://store.totalenergies.fr/fr_FR/NF080036            RELAIS DEVEZE   \n",
       "2  https://store.totalenergies.fr/fr_FR/NF080198    RELAIS SAINT MATHURIN   \n",
       "3  https://store.totalenergies.fr/fr_FR/NF080197  REL.LORRAINE LES RAPPES   \n",
       "4  https://store.totalenergies.fr/fr_FR/NF058916  REL.MORAINVILLIERS NORD   \n",
       "\n",
       "            Ville                                            Adresse  \\\n",
       "0       AIMARGUES  2 bis. ROUTE DE LA PETITE CAMARGUE  , 30470 AI...   \n",
       "1         BEZIERS     1 AVENUE DE LA DEVEZE  , 34500 BEZIERS, FRANCE   \n",
       "2         ALLONNE  ZAC SAINT MATHURIN - RD 1001  , 60000 ALLONNE,...   \n",
       "3     SANDAUCOURT  AUT.A31-LORRAINE LES RAPPES  , 88170 SANDAUCOU...   \n",
       "4  MORAINVILLIERS  A13 - AIRE DE MORAINVILLIERS NORD  , 78630 MOR...   \n",
       "\n",
       "                   Coordinates  \\\n",
       "0         43.6961378,4.2007447   \n",
       "1  43.33150089999999,3.2474023   \n",
       "2            49.409445,2.12815   \n",
       "3          48.2659392,5.863884   \n",
       "4         48.9411429,1.9543387   \n",
       "\n",
       "                                            Energies  \\\n",
       "0  AdBlue Truck, Excellium 98, Excellium Diesel, ...   \n",
       "1  AdBlue Truck, Super Ethanol e85, Excellium 98,...   \n",
       "2  Borne DC175 kW, AdBlue Truck, Excellium 98, Ex...   \n",
       "3  Borne AC43/DC50 kW, Borne DC175 kW, SP95 e10, ...   \n",
       "4  Diesel, GPL, SP95 e10, Excellium 98, GNR, Exce...   \n",
       "\n",
       "                                              Lavage  \\\n",
       "0                                                NaN   \n",
       "1  Lavage Haute Pression, Aspirateur, Lavage à Ro...   \n",
       "2                    Aspirateur, Lavage à Rouleaux,    \n",
       "3                                                NaN   \n",
       "4                                                NaN   \n",
       "\n",
       "                                            Paiement Produits & Services  \\\n",
       "0  Routex, UTA, DKV, Mobility de TotalEnergies, M...      AdBlue Truck,    \n",
       "1  UTA, Carte Jubileo, MOL, Carte Wash, American ...      AdBlue Truck,    \n",
       "2  Visa, American Express, Mastercard, Eurotrafic...      AdBlue Truck,    \n",
       "3  Mobility de TotalEnergies, Carte Jubileo, Cart...      AdBlue Truck,    \n",
       "4  Mobility de TotalEnergies, MOL, American Expre...      AdBlue Truck,    \n",
       "\n",
       "                                            Services  \\\n",
       "0                Café, Justbip, Wifi, AdBlue bidon,    \n",
       "1  FDJ, Café, Lavage à Rouleaux, Justbip, Gonflag...   \n",
       "2  Café, Lavage à Rouleaux, Gonflage, Wifi, Justb...   \n",
       "3  Défibrillateur, Café, Wifi, Autoroutière, Toil...   \n",
       "4  Click & Collect Lyf, Toilettes, Défibrillateur...   \n",
       "\n",
       "                                  Club TotalEnergies  \\\n",
       "0  Assistance Club 10 Jours, Jauge Cadeau, Cagnot...   \n",
       "1  Assistance Club 10 Jours, Jauge Cadeau, Cagnot...   \n",
       "2  Assistance Club 10 Jours, Jauge Cadeau, Cagnot...   \n",
       "3  Assistance Club 30 Jours, Club Truck, Cagnotte...   \n",
       "4  Assistance Club 30 Jours, Club Truck, Cagnotte...   \n",
       "\n",
       "                              Truck  H2 Conversion  \n",
       "0              Truck, Truck store,             0.0  \n",
       "1              Truck, Truck store,             0.0  \n",
       "2                Truck, Pompes PL,             1.0  \n",
       "3                Truck, Pompes PL,             0.0  \n",
       "4  Truck, Parking PL, Truck store,             0.0  "
      ]
     },
     "execution_count": 18,
     "metadata": {},
     "output_type": "execute_result"
    }
   ],
   "source": [
    "df_stations.head()"
   ]
  },
  {
   "cell_type": "code",
   "execution_count": 332,
   "metadata": {},
   "outputs": [],
   "source": [
    "def create_coordinate_columns(\n",
    "        df_stations: pd.DataFrame\n",
    "):\n",
    "    #create Latitude and Longitude coordinates \n",
    "    df_stations['Latitude'] = df_stations['Coordinates'].apply(lambda x: x.split(',')[0].strip())\n",
    "    df_stations['Longitude'] = df_stations['Coordinates'].apply(lambda x: x.split(',')[1].strip())\n",
    "\n",
    "    #filter out the empty coordinates\n",
    "    df_stations = df_stations[(df_stations['Longitude'] != '')&(df_stations['Latitude'] != '')]\n",
    "\n",
    "    return df_stations"
   ]
  },
  {
   "cell_type": "code",
   "execution_count": null,
   "metadata": {},
   "outputs": [],
   "source": [
    "df_stations = create_coordinate_columns(df_stations)"
   ]
  },
  {
   "attachments": {},
   "cell_type": "markdown",
   "metadata": {},
   "source": [
    "### Geopandas\n"
   ]
  },
  {
   "cell_type": "code",
   "execution_count": 327,
   "metadata": {},
   "outputs": [],
   "source": [
    "df_shp = gpd.read_file(config.PATH+'E-tmja2019-shp/TMJA2019.shp')"
   ]
  },
  {
   "cell_type": "code",
   "execution_count": 328,
   "metadata": {},
   "outputs": [],
   "source": [
    "df_shp = df_shp.set_index(['route'])"
   ]
  },
  {
   "cell_type": "code",
   "execution_count": 329,
   "metadata": {},
   "outputs": [],
   "source": [
    "def transform_geometry(\n",
    "        df: pd.DataFrame\n",
    "        )-> pd.DataFrame:\n",
    "    \"\"\"\n",
    "    Transform the geometry column Linestrings currently in Lambert-93 projection\n",
    "    into the corresponding latitude and longitude.\n",
    "\n",
    "    Parameters:\n",
    "    -----------\n",
    "    df : pandas.DataFrame\n",
    "        The dataframe containing the geopandas geometry column\n",
    "\n",
    "    Returns:\n",
    "    --------\n",
    "    pandas.DataFrame\n",
    "        The original dataframe with the new geometry column.\n",
    "    \"\"\"\n",
    "    # Define the input and output projections\n",
    "    in_proj = pyproj.Proj(init='epsg:2154')  # Lambert-93\n",
    "    out_proj = pyproj.Proj(init='epsg:4326')  # WGS84\n",
    "    \n",
    "    df['Coordinate_transform'] = df['Coordinates'].apply(lambda x: pyproj.transform(out_proj, in_proj, float(x.split(',')[0]),float(x.split(',')[1])))\n",
    "    \n",
    "\n",
    "    return df"
   ]
  },
  {
   "cell_type": "code",
   "execution_count": 335,
   "metadata": {},
   "outputs": [],
   "source": [
    "def intersection_road_station(\n",
    "        df_line: pd.DataFrame, \n",
    "        station_coordinates: str, \n",
    "        route_index: int,\n",
    "        ) -> str:\n",
    "    line = df_line['geometry'].iloc[route_index]\n",
    "\n",
    "    point = Point(\n",
    "        round(station_coordinates[0]),\n",
    "        round(station_coordinates[1]))\n",
    "\n",
    "    # Check if the station point is on the route LineString\n",
    "    #is_on_line = line.intersects(point)\n",
    "    EPS = 1\n",
    "    is_on_line = line.buffer(EPS).contains(point)\n",
    "    \n",
    "    if is_on_line:\n",
    "        return df_line.index[route_index]\n",
    "    else:\n",
    "        return ''\n"
   ]
  },
  {
   "cell_type": "code",
   "execution_count": 331,
   "metadata": {},
   "outputs": [
    {
     "name": "stderr",
     "output_type": "stream",
     "text": [
      "/anaconda3/lib/python3.7/site-packages/ipykernel_launcher.py:22: DeprecationWarning: This function is deprecated. See: https://pyproj4.github.io/pyproj/stable/gotchas.html#upgrading-to-pyproj-2-from-pyproj-1\n",
      "/anaconda3/lib/python3.7/site-packages/ipykernel_launcher.py:22: SettingWithCopyWarning: \n",
      "A value is trying to be set on a copy of a slice from a DataFrame.\n",
      "Try using .loc[row_indexer,col_indexer] = value instead\n",
      "\n",
      "See the caveats in the documentation: https://pandas.pydata.org/pandas-docs/stable/user_guide/indexing.html#returning-a-view-versus-a-copy\n"
     ]
    }
   ],
   "source": [
    "# select only routes with LineString geometries\n",
    "df_line = df_shp[df_shp['geometry'].geom_type == 'LineString']\n",
    "\n",
    "# transform the station coordinates in the correct form \n",
    "df_stations_t = transform_geometry(df_stations)"
   ]
  },
  {
   "cell_type": "code",
   "execution_count": 306,
   "metadata": {},
   "outputs": [],
   "source": [
    "#test function for one station\n",
    "station_coord = df_stations_t['Coordinate_transform'][0]\n",
    "results = [intersection_road_station(df_line,station_coord,route_id) for route_id in range(df_line.shape[0])]"
   ]
  },
  {
   "cell_type": "code",
   "execution_count": 342,
   "metadata": {},
   "outputs": [],
   "source": [
    "def create_list_routes(\n",
    "        station_coord: tuple,\n",
    "        df_line: pd.DataFrame\n",
    "):\n",
    "        list_routes =  [intersection_road_station(df_line,station_coord,route) for route in range(df_line.shape[0])]\n",
    "\n",
    "        return list_routes"
   ]
  },
  {
   "cell_type": "code",
   "execution_count": 343,
   "metadata": {},
   "outputs": [],
   "source": [
    "def create_col_routes(\n",
    "        df_stations_t: pd.DataFrame,\n",
    "        df_line: pd.DataFrame\n",
    "):\n",
    "    # Crate the column Routes_on with a list of the route the station is on\n",
    "    df_stations_t['Routes_on'] = df_stations_t['Coordinate_transform'].apply(lambda station_coord: create_list_routes(station_coord,df_line))\n",
    "    # Join the list to check if there are any non-empty routes\n",
    "    df_stations_t['Count_routes_on'] = df_stations_t['Routes_on'].apply(lambda my_list: ''.join(my_list))\n",
    "\n",
    "    return df_stations_t"
   ]
  },
  {
   "cell_type": "code",
   "execution_count": 344,
   "metadata": {},
   "outputs": [
    {
     "name": "stderr",
     "output_type": "stream",
     "text": [
      "/anaconda3/lib/python3.7/site-packages/ipykernel_launcher.py:6: SettingWithCopyWarning: \n",
      "A value is trying to be set on a copy of a slice from a DataFrame.\n",
      "Try using .loc[row_indexer,col_indexer] = value instead\n",
      "\n",
      "See the caveats in the documentation: https://pandas.pydata.org/pandas-docs/stable/user_guide/indexing.html#returning-a-view-versus-a-copy\n",
      "  \n",
      "/anaconda3/lib/python3.7/site-packages/ipykernel_launcher.py:8: SettingWithCopyWarning: \n",
      "A value is trying to be set on a copy of a slice from a DataFrame.\n",
      "Try using .loc[row_indexer,col_indexer] = value instead\n",
      "\n",
      "See the caveats in the documentation: https://pandas.pydata.org/pandas-docs/stable/user_guide/indexing.html#returning-a-view-versus-a-copy\n",
      "  \n"
     ]
    }
   ],
   "source": [
    "df_stations_t = create_col_routes(df_stations_t, df_line)"
   ]
  },
  {
   "cell_type": "code",
   "execution_count": 346,
   "metadata": {},
   "outputs": [
    {
     "data": {
      "text/html": [
       "<div>\n",
       "<style scoped>\n",
       "    .dataframe tbody tr th:only-of-type {\n",
       "        vertical-align: middle;\n",
       "    }\n",
       "\n",
       "    .dataframe tbody tr th {\n",
       "        vertical-align: top;\n",
       "    }\n",
       "\n",
       "    .dataframe thead th {\n",
       "        text-align: right;\n",
       "    }\n",
       "</style>\n",
       "<table border=\"1\" class=\"dataframe\">\n",
       "  <thead>\n",
       "    <tr style=\"text-align: right;\">\n",
       "      <th></th>\n",
       "      <th>URL</th>\n",
       "      <th>Station de service</th>\n",
       "      <th>Ville</th>\n",
       "      <th>Adresse</th>\n",
       "      <th>Coordinates</th>\n",
       "      <th>Energies</th>\n",
       "      <th>Lavage</th>\n",
       "      <th>Paiement</th>\n",
       "      <th>Produits &amp; Services</th>\n",
       "      <th>Services</th>\n",
       "      <th>Club TotalEnergies</th>\n",
       "      <th>Truck</th>\n",
       "      <th>H2 Conversion</th>\n",
       "      <th>Latitude</th>\n",
       "      <th>Longitude</th>\n",
       "      <th>Routes_on</th>\n",
       "      <th>Count_routes_on</th>\n",
       "      <th>Coordinate_transform</th>\n",
       "    </tr>\n",
       "  </thead>\n",
       "  <tbody>\n",
       "  </tbody>\n",
       "</table>\n",
       "</div>"
      ],
      "text/plain": [
       "Empty DataFrame\n",
       "Columns: [URL, Station de service, Ville, Adresse, Coordinates, Energies, Lavage, Paiement, Produits & Services, Services, Club TotalEnergies, Truck, H2 Conversion, Latitude, Longitude, Routes_on, Count_routes_on, Coordinate_transform]\n",
       "Index: []"
      ]
     },
     "execution_count": 346,
     "metadata": {},
     "output_type": "execute_result"
    }
   ],
   "source": [
    "df_stations_t[df_stations_t['Count_routes_on']!='']"
   ]
  },
  {
   "cell_type": "code",
   "execution_count": null,
   "metadata": {},
   "outputs": [],
   "source": []
  }
 ],
 "metadata": {
  "kernelspec": {
   "display_name": "base",
   "language": "python",
   "name": "python3"
  },
  "language_info": {
   "codemirror_mode": {
    "name": "ipython",
    "version": 3
   },
   "file_extension": ".py",
   "mimetype": "text/x-python",
   "name": "python",
   "nbconvert_exporter": "python",
   "pygments_lexer": "ipython3",
   "version": "3.7.1"
  },
  "orig_nbformat": 4,
  "vscode": {
   "interpreter": {
    "hash": "398dc28c06ad810e77de546bbdfa897a6ee0b83e59a5207339dda01a7843e01d"
   }
  }
 },
 "nbformat": 4,
 "nbformat_minor": 2
}
