{
 "cells": [
  {
   "cell_type": "code",
   "execution_count": 3,
   "metadata": {},
   "outputs": [],
   "source": [
    "import pandas as pd\n",
    "import numpy as np\n",
    "import matplotlib.pyplot as plt\n",
    "import seaborn as sns\n",
    "import geopandas as gpd\n",
    "import pyproj \n",
    "\n",
    "from shapely.geometry import Point\n",
    "from shapely.geometry import LineString\n",
    "\n",
    "from sklearn.model_selection import train_test_split\n",
    "from sklearn.ensemble import RandomForestClassifier\n",
    "from sklearn.metrics import confusion_matrix, f1_score, accuracy_score\n",
    "from sklearn.preprocessing import Normalizer\n",
    "from sklearn.ensemble import RandomForestClassifier, ExtraTreesClassifier\n",
    "from sklearn.model_selection import cross_val_score, cross_val_predict, cross_validate, GridSearchCV, StratifiedKFold\n",
    "from sklearn.metrics import accuracy_score, confusion_matrix, make_scorer\n",
    "from sklearn.compose import ColumnTransformer\n",
    "from sklearn.pipeline import Pipeline\n",
    "from sklearn.metrics import precision_score\n",
    "from sklearn.inspection import permutation_importance\n",
    "from sklearn.pipeline import make_pipeline\n",
    "from sklearn.preprocessing import FunctionTransformer, OneHotEncoder, StandardScaler, OrdinalEncoder\n",
    "from sklearn.linear_model import LogisticRegression\n",
    "\n",
    "from tqdm import tqdm\n",
    "\n",
    "#import xgboost as xgb\n",
    "#from xgboost import XGBClassifier\n",
    "#from lightgbm import LGBMClassifier, plot_importance\n",
    "\n",
    "import warnings\n",
    "from warnings import simplefilter\n",
    "warnings.simplefilter(action='ignore', category=FutureWarning)\n",
    "from sklearn.exceptions import ConvergenceWarning\n",
    "simplefilter(\"ignore\", category=ConvergenceWarning)"
   ]
  },
  {
   "cell_type": "code",
   "execution_count": 5,
   "metadata": {},
   "outputs": [],
   "source": [
    "class Config:\n",
    "    PATH = '../../data/'\n",
    "\n",
    "class Params:\n",
    "    PARAM = 0"
   ]
  },
  {
   "cell_type": "code",
   "execution_count": 6,
   "metadata": {},
   "outputs": [],
   "source": [
    "config = Config()\n",
    "p = Params()"
   ]
  },
  {
   "cell_type": "code",
   "execution_count": 5,
   "metadata": {},
   "outputs": [],
   "source": [
    "df = pd.read_csv(config.PATH+'E-tmja-2019-clean.csv')"
   ]
  },
  {
   "cell_type": "code",
   "execution_count": 6,
   "metadata": {},
   "outputs": [],
   "source": [
    "columns_to_drop = ['dateReferentiel','zD','zF']\n",
    "df = df.drop(columns=columns_to_drop)"
   ]
  },
  {
   "cell_type": "code",
   "execution_count": 7,
   "metadata": {},
   "outputs": [],
   "source": [
    "import pyproj\n",
    "\n",
    "def add_lat_lon_columns(df):\n",
    "    \"\"\"\n",
    "    Adds new columns 'lonD', 'latD', 'lonF', 'latF' to the dataframe with\n",
    "    corresponding latitude and longitude values based on the 'xD', 'yD', 'xF',\n",
    "    and 'yF' columns, which are in Lambert-93 projection.\n",
    "\n",
    "    Parameters:\n",
    "    -----------\n",
    "    df : pandas.DataFrame\n",
    "        The dataframe containing the columns 'xD', 'yD', 'xF', and 'yF'.\n",
    "\n",
    "    Returns:\n",
    "    --------\n",
    "    pandas.DataFrame\n",
    "        The original dataframe with the new 'lonD', 'latD', 'lonF', and 'latF'\n",
    "        columns added.\n",
    "    \"\"\"\n",
    "    # Define the input and output projections\n",
    "    in_proj = pyproj.Proj(init='epsg:2154')  # Lambert-93\n",
    "    out_proj = pyproj.Proj(init='epsg:4326')  # WGS84\n",
    "\n",
    "    df['xD'] = df['xD'].str.replace(',', '.')\n",
    "    df['yD'] = df['yD'].str.replace(',', '.')\n",
    "    df['xF'] = df['xF'].str.replace(',', '.')\n",
    "    df['yF'] = df['yF'].str.replace(',', '.')\n",
    "\n",
    "    # Convert start coordinates to lat-long\n",
    "    df['lonD'], df['latD'] = pyproj.transform(in_proj, out_proj, df['xD'], df['yD'])\n",
    "\n",
    "    # Convert end coordinates to lat-long\n",
    "    df['lonF'], df['latF'] = pyproj.transform(in_proj, out_proj, df['xF'], df['yF'])\n",
    "\n",
    "    return df"
   ]
  },
  {
   "cell_type": "code",
   "execution_count": 8,
   "metadata": {},
   "outputs": [
    {
     "name": "stderr",
     "output_type": "stream",
     "text": [
      "/anaconda3/lib/python3.7/site-packages/ipykernel_launcher.py:30: DeprecationWarning: This function is deprecated. See: https://pyproj4.github.io/pyproj/stable/gotchas.html#upgrading-to-pyproj-2-from-pyproj-1\n",
      "/anaconda3/lib/python3.7/site-packages/ipykernel_launcher.py:33: DeprecationWarning: This function is deprecated. See: https://pyproj4.github.io/pyproj/stable/gotchas.html#upgrading-to-pyproj-2-from-pyproj-1\n"
     ]
    }
   ],
   "source": [
    "df = add_lat_lon_columns(df)"
   ]
  },
  {
   "cell_type": "code",
   "execution_count": 310,
   "metadata": {},
   "outputs": [
    {
     "data": {
      "text/html": [
       "<div>\n",
       "<style scoped>\n",
       "    .dataframe tbody tr th:only-of-type {\n",
       "        vertical-align: middle;\n",
       "    }\n",
       "\n",
       "    .dataframe tbody tr th {\n",
       "        vertical-align: top;\n",
       "    }\n",
       "\n",
       "    .dataframe thead th {\n",
       "        text-align: right;\n",
       "    }\n",
       "</style>\n",
       "<table border=\"1\" class=\"dataframe\">\n",
       "  <thead>\n",
       "    <tr style=\"text-align: right;\">\n",
       "      <th></th>\n",
       "      <th>route</th>\n",
       "      <th>longueur</th>\n",
       "      <th>prD</th>\n",
       "      <th>depPrD</th>\n",
       "      <th>concessionPrD</th>\n",
       "      <th>absD</th>\n",
       "      <th>cumulD</th>\n",
       "      <th>xD</th>\n",
       "      <th>yD</th>\n",
       "      <th>prF</th>\n",
       "      <th>...</th>\n",
       "      <th>yF</th>\n",
       "      <th>anneeMesureTrafic</th>\n",
       "      <th>typeComptageTrafic</th>\n",
       "      <th>typeComptageTrafic_lib</th>\n",
       "      <th>TMJA</th>\n",
       "      <th>ratio_PL</th>\n",
       "      <th>lonD</th>\n",
       "      <th>latD</th>\n",
       "      <th>lonF</th>\n",
       "      <th>latF</th>\n",
       "    </tr>\n",
       "  </thead>\n",
       "  <tbody>\n",
       "    <tr>\n",
       "      <th>0</th>\n",
       "      <td>31D0044</td>\n",
       "      <td>44</td>\n",
       "      <td>0</td>\n",
       "      <td>31</td>\n",
       "      <td>N</td>\n",
       "      <td>0</td>\n",
       "      <td>0</td>\n",
       "      <td>511656.78</td>\n",
       "      <td>6204078.36</td>\n",
       "      <td>0</td>\n",
       "      <td>...</td>\n",
       "      <td>6204063.93</td>\n",
       "      <td>NaN</td>\n",
       "      <td>NaN</td>\n",
       "      <td>NaN</td>\n",
       "      <td>NaN</td>\n",
       "      <td>NaN</td>\n",
       "      <td>0.695459</td>\n",
       "      <td>42.911382</td>\n",
       "      <td>0.695975</td>\n",
       "      <td>42.911263</td>\n",
       "    </tr>\n",
       "    <tr>\n",
       "      <th>1</th>\n",
       "      <td>31D0044E</td>\n",
       "      <td>762</td>\n",
       "      <td>0</td>\n",
       "      <td>31</td>\n",
       "      <td>N</td>\n",
       "      <td>0</td>\n",
       "      <td>0</td>\n",
       "      <td>511367.22</td>\n",
       "      <td>6204210.06</td>\n",
       "      <td>0</td>\n",
       "      <td>...</td>\n",
       "      <td>6203732.4</td>\n",
       "      <td>NaN</td>\n",
       "      <td>NaN</td>\n",
       "      <td>NaN</td>\n",
       "      <td>NaN</td>\n",
       "      <td>NaN</td>\n",
       "      <td>0.691871</td>\n",
       "      <td>42.912490</td>\n",
       "      <td>0.698322</td>\n",
       "      <td>42.908331</td>\n",
       "    </tr>\n",
       "    <tr>\n",
       "      <th>2</th>\n",
       "      <td>69D0301</td>\n",
       "      <td>6055</td>\n",
       "      <td>2</td>\n",
       "      <td>69</td>\n",
       "      <td>N</td>\n",
       "      <td>-981</td>\n",
       "      <td>0</td>\n",
       "      <td>844036.84</td>\n",
       "      <td>6510806.45</td>\n",
       "      <td>7</td>\n",
       "      <td>...</td>\n",
       "      <td>6509342.34</td>\n",
       "      <td>NaN</td>\n",
       "      <td>NaN</td>\n",
       "      <td>NaN</td>\n",
       "      <td>NaN</td>\n",
       "      <td>NaN</td>\n",
       "      <td>4.850575</td>\n",
       "      <td>45.681629</td>\n",
       "      <td>4.918315</td>\n",
       "      <td>45.667307</td>\n",
       "    </tr>\n",
       "    <tr>\n",
       "      <th>3</th>\n",
       "      <td>69D0383</td>\n",
       "      <td>13752</td>\n",
       "      <td>4</td>\n",
       "      <td>69</td>\n",
       "      <td>N</td>\n",
       "      <td>-494</td>\n",
       "      <td>0</td>\n",
       "      <td>846831.3</td>\n",
       "      <td>6522372.16</td>\n",
       "      <td>17</td>\n",
       "      <td>...</td>\n",
       "      <td>6512429.8</td>\n",
       "      <td>NaN</td>\n",
       "      <td>NaN</td>\n",
       "      <td>NaN</td>\n",
       "      <td>NaN</td>\n",
       "      <td>NaN</td>\n",
       "      <td>4.890020</td>\n",
       "      <td>45.785151</td>\n",
       "      <td>4.844653</td>\n",
       "      <td>45.696348</td>\n",
       "    </tr>\n",
       "    <tr>\n",
       "      <th>4</th>\n",
       "      <td>69D0383BPNL</td>\n",
       "      <td>2408</td>\n",
       "      <td>0</td>\n",
       "      <td>69</td>\n",
       "      <td>N</td>\n",
       "      <td>0</td>\n",
       "      <td>0</td>\n",
       "      <td>844982.46</td>\n",
       "      <td>6522772.27</td>\n",
       "      <td>2</td>\n",
       "      <td>...</td>\n",
       "      <td>6522372.16</td>\n",
       "      <td>NaN</td>\n",
       "      <td>NaN</td>\n",
       "      <td>NaN</td>\n",
       "      <td>NaN</td>\n",
       "      <td>NaN</td>\n",
       "      <td>4.866352</td>\n",
       "      <td>45.789149</td>\n",
       "      <td>4.890020</td>\n",
       "      <td>45.785151</td>\n",
       "    </tr>\n",
       "  </tbody>\n",
       "</table>\n",
       "<p>5 rows × 25 columns</p>\n",
       "</div>"
      ],
      "text/plain": [
       "         route longueur  prD  depPrD concessionPrD  absD cumulD         xD  \\\n",
       "0      31D0044       44    0      31             N     0      0  511656.78   \n",
       "1     31D0044E      762    0      31             N     0      0  511367.22   \n",
       "2      69D0301     6055    2      69             N  -981      0  844036.84   \n",
       "3      69D0383    13752    4      69             N  -494      0   846831.3   \n",
       "4  69D0383BPNL     2408    0      69             N     0      0  844982.46   \n",
       "\n",
       "           yD  prF  ...          yF anneeMesureTrafic typeComptageTrafic  \\\n",
       "0  6204078.36    0  ...  6204063.93               NaN                NaN   \n",
       "1  6204210.06    0  ...   6203732.4               NaN                NaN   \n",
       "2  6510806.45    7  ...  6509342.34               NaN                NaN   \n",
       "3  6522372.16   17  ...   6512429.8               NaN                NaN   \n",
       "4  6522772.27    2  ...  6522372.16               NaN                NaN   \n",
       "\n",
       "  typeComptageTrafic_lib TMJA ratio_PL      lonD       latD      lonF  \\\n",
       "0                    NaN  NaN      NaN  0.695459  42.911382  0.695975   \n",
       "1                    NaN  NaN      NaN  0.691871  42.912490  0.698322   \n",
       "2                    NaN  NaN      NaN  4.850575  45.681629  4.918315   \n",
       "3                    NaN  NaN      NaN  4.890020  45.785151  4.844653   \n",
       "4                    NaN  NaN      NaN  4.866352  45.789149  4.890020   \n",
       "\n",
       "        latF  \n",
       "0  42.911263  \n",
       "1  42.908331  \n",
       "2  45.667307  \n",
       "3  45.696348  \n",
       "4  45.785151  \n",
       "\n",
       "[5 rows x 25 columns]"
      ]
     },
     "execution_count": 310,
     "metadata": {},
     "output_type": "execute_result"
    }
   ],
   "source": [
    "df.head()"
   ]
  },
  {
   "attachments": {},
   "cell_type": "markdown",
   "metadata": {},
   "source": [
    "### Clean data"
   ]
  },
  {
   "cell_type": "code",
   "execution_count": 14,
   "metadata": {},
   "outputs": [
    {
     "data": {
      "text/plain": [
       "ratio_PL                  1634\n",
       "TMJA                       954\n",
       "typeComptageTrafic_lib     417\n",
       "typeComptageTrafic         417\n",
       "anneeMesureTrafic          138\n",
       "route                        0\n",
       "dtype: int64"
      ]
     },
     "execution_count": 14,
     "metadata": {},
     "output_type": "execute_result"
    }
   ],
   "source": [
    "missing_values = df.isna().sum().sort_values(ascending=False)\n",
    "missing_values[:6]"
   ]
  },
  {
   "cell_type": "code",
   "execution_count": 11,
   "metadata": {},
   "outputs": [
    {
     "data": {
      "text/plain": [
       "<AxesSubplot:>"
      ]
     },
     "execution_count": 11,
     "metadata": {},
     "output_type": "execute_result"
    }
   ],
   "source": [
    "import missingno as msno\n",
    "\n",
    "# keep only columns with nan values\n",
    "columns_with_nan = missing_values[missing_values.values!=0].index\n",
    "msno.matrix(df[columns_with_nan])"
   ]
  },
  {
   "attachments": {},
   "cell_type": "markdown",
   "metadata": {},
   "source": [
    "### Données stations\n"
   ]
  },
  {
   "cell_type": "code",
   "execution_count": 13,
   "metadata": {},
   "outputs": [],
   "source": [
    "df_stations = pd.read_csv(config.PATH+'I-Données de stations TE_DV.xlsx - export_data_te.csv')"
   ]
  },
  {
   "cell_type": "code",
   "execution_count": 6,
   "metadata": {},
   "outputs": [
    {
     "data": {
      "text/html": [
       "<div>\n",
       "<style scoped>\n",
       "    .dataframe tbody tr th:only-of-type {\n",
       "        vertical-align: middle;\n",
       "    }\n",
       "\n",
       "    .dataframe tbody tr th {\n",
       "        vertical-align: top;\n",
       "    }\n",
       "\n",
       "    .dataframe thead th {\n",
       "        text-align: right;\n",
       "    }\n",
       "</style>\n",
       "<table border=\"1\" class=\"dataframe\">\n",
       "  <thead>\n",
       "    <tr style=\"text-align: right;\">\n",
       "      <th></th>\n",
       "      <th>URL</th>\n",
       "      <th>Station de service</th>\n",
       "      <th>Ville</th>\n",
       "      <th>Adresse</th>\n",
       "      <th>Coordinates</th>\n",
       "      <th>Energies</th>\n",
       "      <th>Lavage</th>\n",
       "      <th>Paiement</th>\n",
       "      <th>Produits &amp; Services</th>\n",
       "      <th>Services</th>\n",
       "      <th>Club TotalEnergies</th>\n",
       "      <th>Truck</th>\n",
       "      <th>H2 Conversion</th>\n",
       "    </tr>\n",
       "  </thead>\n",
       "  <tbody>\n",
       "    <tr>\n",
       "      <th>0</th>\n",
       "      <td>https://store.totalenergies.fr/fr_FR/NF059116</td>\n",
       "      <td>RELAIS SERIGUETTE</td>\n",
       "      <td>AIMARGUES</td>\n",
       "      <td>2 bis. ROUTE DE LA PETITE CAMARGUE  , 30470 AI...</td>\n",
       "      <td>43.6961378,4.2007447</td>\n",
       "      <td>AdBlue Truck, Excellium 98, Excellium Diesel, ...</td>\n",
       "      <td>NaN</td>\n",
       "      <td>Routex, UTA, DKV, Mobility de TotalEnergies, M...</td>\n",
       "      <td>AdBlue Truck,</td>\n",
       "      <td>Café, Justbip, Wifi, AdBlue bidon,</td>\n",
       "      <td>Assistance Club 10 Jours, Jauge Cadeau, Cagnot...</td>\n",
       "      <td>Truck, Truck store,</td>\n",
       "      <td>0.0</td>\n",
       "    </tr>\n",
       "    <tr>\n",
       "      <th>1</th>\n",
       "      <td>https://store.totalenergies.fr/fr_FR/NF080036</td>\n",
       "      <td>RELAIS DEVEZE</td>\n",
       "      <td>BEZIERS</td>\n",
       "      <td>1 AVENUE DE LA DEVEZE  , 34500 BEZIERS, FRANCE</td>\n",
       "      <td>43.33150089999999,3.2474023</td>\n",
       "      <td>AdBlue Truck, Super Ethanol e85, Excellium 98,...</td>\n",
       "      <td>Lavage Haute Pression, Aspirateur, Lavage à Ro...</td>\n",
       "      <td>UTA, Carte Jubileo, MOL, Carte Wash, American ...</td>\n",
       "      <td>AdBlue Truck,</td>\n",
       "      <td>FDJ, Café, Lavage à Rouleaux, Justbip, Gonflag...</td>\n",
       "      <td>Assistance Club 10 Jours, Jauge Cadeau, Cagnot...</td>\n",
       "      <td>Truck, Truck store,</td>\n",
       "      <td>0.0</td>\n",
       "    </tr>\n",
       "    <tr>\n",
       "      <th>2</th>\n",
       "      <td>https://store.totalenergies.fr/fr_FR/NF080198</td>\n",
       "      <td>RELAIS SAINT MATHURIN</td>\n",
       "      <td>ALLONNE</td>\n",
       "      <td>ZAC SAINT MATHURIN - RD 1001  , 60000 ALLONNE,...</td>\n",
       "      <td>49.409445,2.12815</td>\n",
       "      <td>Borne DC175 kW, AdBlue Truck, Excellium 98, Ex...</td>\n",
       "      <td>Aspirateur, Lavage à Rouleaux,</td>\n",
       "      <td>Visa, American Express, Mastercard, Eurotrafic...</td>\n",
       "      <td>AdBlue Truck,</td>\n",
       "      <td>Café, Lavage à Rouleaux, Gonflage, Wifi, Justb...</td>\n",
       "      <td>Assistance Club 10 Jours, Jauge Cadeau, Cagnot...</td>\n",
       "      <td>Truck, Pompes PL,</td>\n",
       "      <td>1.0</td>\n",
       "    </tr>\n",
       "    <tr>\n",
       "      <th>3</th>\n",
       "      <td>https://store.totalenergies.fr/fr_FR/NF080197</td>\n",
       "      <td>REL.LORRAINE LES RAPPES</td>\n",
       "      <td>SANDAUCOURT</td>\n",
       "      <td>AUT.A31-LORRAINE LES RAPPES  , 88170 SANDAUCOU...</td>\n",
       "      <td>48.2659392,5.863884</td>\n",
       "      <td>Borne AC43/DC50 kW, Borne DC175 kW, SP95 e10, ...</td>\n",
       "      <td>NaN</td>\n",
       "      <td>Mobility de TotalEnergies, Carte Jubileo, Cart...</td>\n",
       "      <td>AdBlue Truck,</td>\n",
       "      <td>Défibrillateur, Café, Wifi, Autoroutière, Toil...</td>\n",
       "      <td>Assistance Club 30 Jours, Club Truck, Cagnotte...</td>\n",
       "      <td>Truck, Pompes PL,</td>\n",
       "      <td>0.0</td>\n",
       "    </tr>\n",
       "    <tr>\n",
       "      <th>4</th>\n",
       "      <td>https://store.totalenergies.fr/fr_FR/NF058916</td>\n",
       "      <td>REL.MORAINVILLIERS NORD</td>\n",
       "      <td>MORAINVILLIERS</td>\n",
       "      <td>A13 - AIRE DE MORAINVILLIERS NORD  , 78630 MOR...</td>\n",
       "      <td>48.9411429,1.9543387</td>\n",
       "      <td>Diesel, GPL, SP95 e10, Excellium 98, GNR, Exce...</td>\n",
       "      <td>NaN</td>\n",
       "      <td>Mobility de TotalEnergies, MOL, American Expre...</td>\n",
       "      <td>AdBlue Truck,</td>\n",
       "      <td>Click &amp; Collect Lyf, Toilettes, Défibrillateur...</td>\n",
       "      <td>Assistance Club 30 Jours, Club Truck, Cagnotte...</td>\n",
       "      <td>Truck, Parking PL, Truck store,</td>\n",
       "      <td>0.0</td>\n",
       "    </tr>\n",
       "  </tbody>\n",
       "</table>\n",
       "</div>"
      ],
      "text/plain": [
       "                                             URL       Station de service  \\\n",
       "0  https://store.totalenergies.fr/fr_FR/NF059116        RELAIS SERIGUETTE   \n",
       "1  https://store.totalenergies.fr/fr_FR/NF080036            RELAIS DEVEZE   \n",
       "2  https://store.totalenergies.fr/fr_FR/NF080198    RELAIS SAINT MATHURIN   \n",
       "3  https://store.totalenergies.fr/fr_FR/NF080197  REL.LORRAINE LES RAPPES   \n",
       "4  https://store.totalenergies.fr/fr_FR/NF058916  REL.MORAINVILLIERS NORD   \n",
       "\n",
       "            Ville                                            Adresse  \\\n",
       "0       AIMARGUES  2 bis. ROUTE DE LA PETITE CAMARGUE  , 30470 AI...   \n",
       "1         BEZIERS     1 AVENUE DE LA DEVEZE  , 34500 BEZIERS, FRANCE   \n",
       "2         ALLONNE  ZAC SAINT MATHURIN - RD 1001  , 60000 ALLONNE,...   \n",
       "3     SANDAUCOURT  AUT.A31-LORRAINE LES RAPPES  , 88170 SANDAUCOU...   \n",
       "4  MORAINVILLIERS  A13 - AIRE DE MORAINVILLIERS NORD  , 78630 MOR...   \n",
       "\n",
       "                   Coordinates  \\\n",
       "0         43.6961378,4.2007447   \n",
       "1  43.33150089999999,3.2474023   \n",
       "2            49.409445,2.12815   \n",
       "3          48.2659392,5.863884   \n",
       "4         48.9411429,1.9543387   \n",
       "\n",
       "                                            Energies  \\\n",
       "0  AdBlue Truck, Excellium 98, Excellium Diesel, ...   \n",
       "1  AdBlue Truck, Super Ethanol e85, Excellium 98,...   \n",
       "2  Borne DC175 kW, AdBlue Truck, Excellium 98, Ex...   \n",
       "3  Borne AC43/DC50 kW, Borne DC175 kW, SP95 e10, ...   \n",
       "4  Diesel, GPL, SP95 e10, Excellium 98, GNR, Exce...   \n",
       "\n",
       "                                              Lavage  \\\n",
       "0                                                NaN   \n",
       "1  Lavage Haute Pression, Aspirateur, Lavage à Ro...   \n",
       "2                    Aspirateur, Lavage à Rouleaux,    \n",
       "3                                                NaN   \n",
       "4                                                NaN   \n",
       "\n",
       "                                            Paiement Produits & Services  \\\n",
       "0  Routex, UTA, DKV, Mobility de TotalEnergies, M...      AdBlue Truck,    \n",
       "1  UTA, Carte Jubileo, MOL, Carte Wash, American ...      AdBlue Truck,    \n",
       "2  Visa, American Express, Mastercard, Eurotrafic...      AdBlue Truck,    \n",
       "3  Mobility de TotalEnergies, Carte Jubileo, Cart...      AdBlue Truck,    \n",
       "4  Mobility de TotalEnergies, MOL, American Expre...      AdBlue Truck,    \n",
       "\n",
       "                                            Services  \\\n",
       "0                Café, Justbip, Wifi, AdBlue bidon,    \n",
       "1  FDJ, Café, Lavage à Rouleaux, Justbip, Gonflag...   \n",
       "2  Café, Lavage à Rouleaux, Gonflage, Wifi, Justb...   \n",
       "3  Défibrillateur, Café, Wifi, Autoroutière, Toil...   \n",
       "4  Click & Collect Lyf, Toilettes, Défibrillateur...   \n",
       "\n",
       "                                  Club TotalEnergies  \\\n",
       "0  Assistance Club 10 Jours, Jauge Cadeau, Cagnot...   \n",
       "1  Assistance Club 10 Jours, Jauge Cadeau, Cagnot...   \n",
       "2  Assistance Club 10 Jours, Jauge Cadeau, Cagnot...   \n",
       "3  Assistance Club 30 Jours, Club Truck, Cagnotte...   \n",
       "4  Assistance Club 30 Jours, Club Truck, Cagnotte...   \n",
       "\n",
       "                              Truck  H2 Conversion  \n",
       "0              Truck, Truck store,             0.0  \n",
       "1              Truck, Truck store,             0.0  \n",
       "2                Truck, Pompes PL,             1.0  \n",
       "3                Truck, Pompes PL,             0.0  \n",
       "4  Truck, Parking PL, Truck store,             0.0  "
      ]
     },
     "execution_count": 6,
     "metadata": {},
     "output_type": "execute_result"
    }
   ],
   "source": [
    "df_stations.head()"
   ]
  },
  {
   "cell_type": "code",
   "execution_count": 26,
   "metadata": {},
   "outputs": [],
   "source": [
    "def create_coordinate_columns(\n",
    "        df_stations: pd.DataFrame\n",
    "):\n",
    "    #create Latitude and Longitude coordinates \n",
    "    df_stations['Latitude'] = df_stations['Coordinates'].apply(lambda x: x.split(',')[0].strip())\n",
    "    df_stations['Longitude'] = df_stations['Coordinates'].apply(lambda x: x.split(',')[1].strip())\n",
    "\n",
    "    #filter out the empty coordinates\n",
    "    df_stations = df_stations[(df_stations['Longitude'] != '')&(df_stations['Latitude'] != '')]\n",
    "\n",
    "    return df_stations"
   ]
  },
  {
   "cell_type": "code",
   "execution_count": 27,
   "metadata": {},
   "outputs": [],
   "source": [
    "df_stations = create_coordinate_columns(df_stations)"
   ]
  },
  {
   "attachments": {},
   "cell_type": "markdown",
   "metadata": {},
   "source": [
    "### Geopandas\n"
   ]
  },
  {
   "cell_type": "code",
   "execution_count": 7,
   "metadata": {},
   "outputs": [],
   "source": [
    "df_shp = gpd.read_file(config.PATH+'E-tmja2019-shp/TMJA2019.shp')"
   ]
  },
  {
   "cell_type": "code",
   "execution_count": 8,
   "metadata": {},
   "outputs": [
    {
     "data": {
      "text/plain": [
       "4695"
      ]
     },
     "execution_count": 8,
     "metadata": {},
     "output_type": "execute_result"
    }
   ],
   "source": [
    "df_shp.shape[0]"
   ]
  },
  {
   "cell_type": "code",
   "execution_count": 9,
   "metadata": {},
   "outputs": [
    {
     "data": {
      "text/plain": [
       "4629"
      ]
     },
     "execution_count": 9,
     "metadata": {},
     "output_type": "execute_result"
    }
   ],
   "source": [
    "df_shp[df_shp['geometry'].geom_type == 'LineString'].shape[0]"
   ]
  },
  {
   "attachments": {},
   "cell_type": "markdown",
   "metadata": {},
   "source": [
    "There are 66 multistring."
   ]
  },
  {
   "cell_type": "code",
   "execution_count": 11,
   "metadata": {},
   "outputs": [],
   "source": [
    "df_shp = df_shp.set_index(['route'])"
   ]
  },
  {
   "cell_type": "code",
   "execution_count": 33,
   "metadata": {},
   "outputs": [],
   "source": [
    "def transform_station_coordinates(\n",
    "        df: pd.DataFrame\n",
    "        )-> pd.DataFrame:\n",
    "    \"\"\"\n",
    "    Transform the geometry column Linestrings currently in Lambert-93 projection\n",
    "    into the corresponding latitude and longitude.\n",
    "\n",
    "    Parameters:\n",
    "    -----------\n",
    "    df : pandas.DataFrame\n",
    "        The dataframe containing the geopandas geometry column\n",
    "\n",
    "    Returns:\n",
    "    --------\n",
    "    pandas.DataFrame\n",
    "        The original dataframe with the new geometry column.\n",
    "    \"\"\"\n",
    "    # Define the input and output projections\n",
    "    in_proj = pyproj.Proj(init='epsg:2154')  # Lambert-93\n",
    "    out_proj = pyproj.Proj(init='epsg:4326')  # WGS84\n",
    "\n",
    "    transform_coord = lambda x: pyproj.transform(out_proj, in_proj, float(x.split(',')[0]),float(x.split(',')[1]))\n",
    "\n",
    "    coord_transform = []\n",
    "    for x in df['Coordinates'].values:\n",
    "        coord_transform.append(transform_coord(x))\n",
    "    \n",
    "    df['Coordinate_transform'] = coord_transform \n",
    "\n",
    "    return df"
   ]
  },
  {
   "cell_type": "code",
   "execution_count": null,
   "metadata": {},
   "outputs": [],
   "source": [
    "df_stations_h2 = df_stations[df_stations['H2 Conversion']==1]"
   ]
  },
  {
   "cell_type": "code",
   "execution_count": 34,
   "metadata": {},
   "outputs": [
    {
     "name": "stderr",
     "output_type": "stream",
     "text": [
      "/anaconda3/lib/python3.7/site-packages/ipykernel_launcher.py:22: DeprecationWarning: This function is deprecated. See: https://pyproj4.github.io/pyproj/stable/gotchas.html#upgrading-to-pyproj-2-from-pyproj-1\n"
     ]
    },
    {
     "ename": "KeyboardInterrupt",
     "evalue": "",
     "output_type": "error",
     "traceback": [
      "\u001b[0;31m---------------------------------------------------------------------------\u001b[0m",
      "\u001b[0;31mKeyboardInterrupt\u001b[0m                         Traceback (most recent call last)",
      "\u001b[0;32m<ipython-input-34-82c64f533308>\u001b[0m in \u001b[0;36m<module>\u001b[0;34m\u001b[0m\n\u001b[1;32m      1\u001b[0m \u001b[0;31m# transform the station coordinates in the correct form\u001b[0m\u001b[0;34m\u001b[0m\u001b[0;34m\u001b[0m\u001b[0;34m\u001b[0m\u001b[0m\n\u001b[0;32m----> 2\u001b[0;31m \u001b[0mdf_stations_trans\u001b[0m \u001b[0;34m=\u001b[0m \u001b[0mtransform_station_coordinates\u001b[0m\u001b[0;34m(\u001b[0m\u001b[0mdf_stations\u001b[0m\u001b[0;34m)\u001b[0m\u001b[0;34m\u001b[0m\u001b[0;34m\u001b[0m\u001b[0m\n\u001b[0m",
      "\u001b[0;32m<ipython-input-33-59f935fbc2e4>\u001b[0m in \u001b[0;36mtransform_station_coordinates\u001b[0;34m(df)\u001b[0m\n\u001b[1;32m     24\u001b[0m     \u001b[0mcoord_transform\u001b[0m \u001b[0;34m=\u001b[0m \u001b[0;34m[\u001b[0m\u001b[0;34m]\u001b[0m\u001b[0;34m\u001b[0m\u001b[0;34m\u001b[0m\u001b[0m\n\u001b[1;32m     25\u001b[0m     \u001b[0;32mfor\u001b[0m \u001b[0mx\u001b[0m \u001b[0;32min\u001b[0m \u001b[0mdf\u001b[0m\u001b[0;34m[\u001b[0m\u001b[0;34m'Coordinates'\u001b[0m\u001b[0;34m]\u001b[0m\u001b[0;34m.\u001b[0m\u001b[0mvalues\u001b[0m\u001b[0;34m:\u001b[0m\u001b[0;34m\u001b[0m\u001b[0;34m\u001b[0m\u001b[0m\n\u001b[0;32m---> 26\u001b[0;31m         \u001b[0mcoord_transform\u001b[0m\u001b[0;34m.\u001b[0m\u001b[0mappend\u001b[0m\u001b[0;34m(\u001b[0m\u001b[0mtransform_coord\u001b[0m\u001b[0;34m(\u001b[0m\u001b[0mx\u001b[0m\u001b[0;34m)\u001b[0m\u001b[0;34m)\u001b[0m\u001b[0;34m\u001b[0m\u001b[0;34m\u001b[0m\u001b[0m\n\u001b[0m\u001b[1;32m     27\u001b[0m \u001b[0;34m\u001b[0m\u001b[0m\n\u001b[1;32m     28\u001b[0m     \u001b[0mdf\u001b[0m\u001b[0;34m[\u001b[0m\u001b[0;34m'Coordinate_transform'\u001b[0m\u001b[0;34m]\u001b[0m \u001b[0;34m=\u001b[0m \u001b[0mcoord_transform\u001b[0m\u001b[0;34m\u001b[0m\u001b[0;34m\u001b[0m\u001b[0m\n",
      "\u001b[0;32m<ipython-input-33-59f935fbc2e4>\u001b[0m in \u001b[0;36m<lambda>\u001b[0;34m(x)\u001b[0m\n\u001b[1;32m     20\u001b[0m     \u001b[0mout_proj\u001b[0m \u001b[0;34m=\u001b[0m \u001b[0mpyproj\u001b[0m\u001b[0;34m.\u001b[0m\u001b[0mProj\u001b[0m\u001b[0;34m(\u001b[0m\u001b[0minit\u001b[0m\u001b[0;34m=\u001b[0m\u001b[0;34m'epsg:4326'\u001b[0m\u001b[0;34m)\u001b[0m  \u001b[0;31m# WGS84\u001b[0m\u001b[0;34m\u001b[0m\u001b[0;34m\u001b[0m\u001b[0m\n\u001b[1;32m     21\u001b[0m \u001b[0;34m\u001b[0m\u001b[0m\n\u001b[0;32m---> 22\u001b[0;31m     \u001b[0mtransform_coord\u001b[0m \u001b[0;34m=\u001b[0m \u001b[0;32mlambda\u001b[0m \u001b[0mx\u001b[0m\u001b[0;34m:\u001b[0m \u001b[0mpyproj\u001b[0m\u001b[0;34m.\u001b[0m\u001b[0mtransform\u001b[0m\u001b[0;34m(\u001b[0m\u001b[0mout_proj\u001b[0m\u001b[0;34m,\u001b[0m \u001b[0min_proj\u001b[0m\u001b[0;34m,\u001b[0m \u001b[0mfloat\u001b[0m\u001b[0;34m(\u001b[0m\u001b[0mx\u001b[0m\u001b[0;34m.\u001b[0m\u001b[0msplit\u001b[0m\u001b[0;34m(\u001b[0m\u001b[0;34m','\u001b[0m\u001b[0;34m)\u001b[0m\u001b[0;34m[\u001b[0m\u001b[0;36m0\u001b[0m\u001b[0;34m]\u001b[0m\u001b[0;34m)\u001b[0m\u001b[0;34m,\u001b[0m\u001b[0mfloat\u001b[0m\u001b[0;34m(\u001b[0m\u001b[0mx\u001b[0m\u001b[0;34m.\u001b[0m\u001b[0msplit\u001b[0m\u001b[0;34m(\u001b[0m\u001b[0;34m','\u001b[0m\u001b[0;34m)\u001b[0m\u001b[0;34m[\u001b[0m\u001b[0;36m1\u001b[0m\u001b[0;34m]\u001b[0m\u001b[0;34m)\u001b[0m\u001b[0;34m)\u001b[0m\u001b[0;34m\u001b[0m\u001b[0;34m\u001b[0m\u001b[0m\n\u001b[0m\u001b[1;32m     23\u001b[0m \u001b[0;34m\u001b[0m\u001b[0m\n\u001b[1;32m     24\u001b[0m     \u001b[0mcoord_transform\u001b[0m \u001b[0;34m=\u001b[0m \u001b[0;34m[\u001b[0m\u001b[0;34m]\u001b[0m\u001b[0;34m\u001b[0m\u001b[0;34m\u001b[0m\u001b[0m\n",
      "\u001b[0;32m/anaconda3/lib/python3.7/site-packages/pyproj/transformer.py\u001b[0m in \u001b[0;36mtransform\u001b[0;34m(p1, p2, x, y, z, tt, radians, errcheck, skip_equivalent, always_xy)\u001b[0m\n\u001b[1;32m   1158\u001b[0m     )\n\u001b[1;32m   1159\u001b[0m     return Transformer.from_proj(\n\u001b[0;32m-> 1160\u001b[0;31m         \u001b[0mp1\u001b[0m\u001b[0;34m,\u001b[0m \u001b[0mp2\u001b[0m\u001b[0;34m,\u001b[0m \u001b[0mskip_equivalent\u001b[0m\u001b[0;34m=\u001b[0m\u001b[0mskip_equivalent\u001b[0m\u001b[0;34m,\u001b[0m \u001b[0malways_xy\u001b[0m\u001b[0;34m=\u001b[0m\u001b[0malways_xy\u001b[0m\u001b[0;34m\u001b[0m\u001b[0;34m\u001b[0m\u001b[0m\n\u001b[0m\u001b[1;32m   1161\u001b[0m     ).transform(xx=x, yy=y, zz=z, tt=tt, radians=radians, errcheck=errcheck)\n\u001b[1;32m   1162\u001b[0m \u001b[0;34m\u001b[0m\u001b[0m\n",
      "\u001b[0;32m/anaconda3/lib/python3.7/site-packages/pyproj/transformer.py\u001b[0m in \u001b[0;36mfrom_proj\u001b[0;34m(proj_from, proj_to, skip_equivalent, always_xy, area_of_interest)\u001b[0m\n\u001b[1;32m    466\u001b[0m             \u001b[0mskip_equivalent\u001b[0m\u001b[0;34m=\u001b[0m\u001b[0mskip_equivalent\u001b[0m\u001b[0;34m,\u001b[0m\u001b[0;34m\u001b[0m\u001b[0;34m\u001b[0m\u001b[0m\n\u001b[1;32m    467\u001b[0m             \u001b[0malways_xy\u001b[0m\u001b[0;34m=\u001b[0m\u001b[0malways_xy\u001b[0m\u001b[0;34m,\u001b[0m\u001b[0;34m\u001b[0m\u001b[0;34m\u001b[0m\u001b[0m\n\u001b[0;32m--> 468\u001b[0;31m             \u001b[0marea_of_interest\u001b[0m\u001b[0;34m=\u001b[0m\u001b[0marea_of_interest\u001b[0m\u001b[0;34m,\u001b[0m\u001b[0;34m\u001b[0m\u001b[0;34m\u001b[0m\u001b[0m\n\u001b[0m\u001b[1;32m    469\u001b[0m         )\n\u001b[1;32m    470\u001b[0m \u001b[0;34m\u001b[0m\u001b[0m\n",
      "\u001b[0;32m/anaconda3/lib/python3.7/site-packages/pyproj/transformer.py\u001b[0m in \u001b[0;36mfrom_crs\u001b[0;34m(crs_from, crs_to, skip_equivalent, always_xy, area_of_interest, authority, accuracy, allow_ballpark)\u001b[0m\n\u001b[1;32m    540\u001b[0m                 \u001b[0mauthority\u001b[0m\u001b[0;34m=\u001b[0m\u001b[0mauthority\u001b[0m\u001b[0;34m,\u001b[0m\u001b[0;34m\u001b[0m\u001b[0;34m\u001b[0m\u001b[0m\n\u001b[1;32m    541\u001b[0m                 \u001b[0maccuracy\u001b[0m\u001b[0;34m=\u001b[0m\u001b[0maccuracy\u001b[0m \u001b[0;32mif\u001b[0m \u001b[0maccuracy\u001b[0m \u001b[0;32mis\u001b[0m \u001b[0;32mNone\u001b[0m \u001b[0;32melse\u001b[0m \u001b[0mstr\u001b[0m\u001b[0;34m(\u001b[0m\u001b[0maccuracy\u001b[0m\u001b[0;34m)\u001b[0m\u001b[0;34m,\u001b[0m\u001b[0;34m\u001b[0m\u001b[0;34m\u001b[0m\u001b[0m\n\u001b[0;32m--> 542\u001b[0;31m                 \u001b[0mallow_ballpark\u001b[0m\u001b[0;34m=\u001b[0m\u001b[0mallow_ballpark\u001b[0m\u001b[0;34m,\u001b[0m\u001b[0;34m\u001b[0m\u001b[0;34m\u001b[0m\u001b[0m\n\u001b[0m\u001b[1;32m    543\u001b[0m             )\n\u001b[1;32m    544\u001b[0m         )\n",
      "\u001b[0;32m/anaconda3/lib/python3.7/site-packages/pyproj/transformer.py\u001b[0m in \u001b[0;36m__init__\u001b[0;34m(self, transformer_maker)\u001b[0m\n\u001b[1;32m    308\u001b[0m \u001b[0;34m\u001b[0m\u001b[0m\n\u001b[1;32m    309\u001b[0m         \u001b[0mself\u001b[0m\u001b[0;34m.\u001b[0m\u001b[0m_local\u001b[0m \u001b[0;34m=\u001b[0m \u001b[0mTransformerLocal\u001b[0m\u001b[0;34m(\u001b[0m\u001b[0;34m)\u001b[0m\u001b[0;34m\u001b[0m\u001b[0;34m\u001b[0m\u001b[0m\n\u001b[0;32m--> 310\u001b[0;31m         \u001b[0mself\u001b[0m\u001b[0;34m.\u001b[0m\u001b[0m_local\u001b[0m\u001b[0;34m.\u001b[0m\u001b[0mtransformer\u001b[0m \u001b[0;34m=\u001b[0m \u001b[0mtransformer_maker\u001b[0m\u001b[0;34m(\u001b[0m\u001b[0;34m)\u001b[0m\u001b[0;34m\u001b[0m\u001b[0;34m\u001b[0m\u001b[0m\n\u001b[0m\u001b[1;32m    311\u001b[0m         \u001b[0mself\u001b[0m\u001b[0;34m.\u001b[0m\u001b[0m_transformer_maker\u001b[0m \u001b[0;34m=\u001b[0m \u001b[0mtransformer_maker\u001b[0m\u001b[0;34m\u001b[0m\u001b[0;34m\u001b[0m\u001b[0m\n\u001b[1;32m    312\u001b[0m \u001b[0;34m\u001b[0m\u001b[0m\n",
      "\u001b[0;32m/anaconda3/lib/python3.7/site-packages/pyproj/transformer.py\u001b[0m in \u001b[0;36m__call__\u001b[0;34m(self)\u001b[0m\n\u001b[1;32m    102\u001b[0m             \u001b[0mauthority\u001b[0m\u001b[0;34m=\u001b[0m\u001b[0mself\u001b[0m\u001b[0;34m.\u001b[0m\u001b[0mauthority\u001b[0m\u001b[0;34m,\u001b[0m\u001b[0;34m\u001b[0m\u001b[0;34m\u001b[0m\u001b[0m\n\u001b[1;32m    103\u001b[0m             \u001b[0maccuracy\u001b[0m\u001b[0;34m=\u001b[0m\u001b[0mself\u001b[0m\u001b[0;34m.\u001b[0m\u001b[0maccuracy\u001b[0m\u001b[0;34m,\u001b[0m\u001b[0;34m\u001b[0m\u001b[0;34m\u001b[0m\u001b[0m\n\u001b[0;32m--> 104\u001b[0;31m             \u001b[0mallow_ballpark\u001b[0m\u001b[0;34m=\u001b[0m\u001b[0mself\u001b[0m\u001b[0;34m.\u001b[0m\u001b[0mallow_ballpark\u001b[0m\u001b[0;34m,\u001b[0m\u001b[0;34m\u001b[0m\u001b[0;34m\u001b[0m\u001b[0m\n\u001b[0m\u001b[1;32m    105\u001b[0m         )\n\u001b[1;32m    106\u001b[0m \u001b[0;34m\u001b[0m\u001b[0m\n",
      "\u001b[0;32mpyproj/_transformer.pyx\u001b[0m in \u001b[0;36mpyproj._transformer._Transformer.from_crs\u001b[0;34m()\u001b[0m\n",
      "\u001b[0;32mpyproj/_transformer.pyx\u001b[0m in \u001b[0;36mpyproj._transformer._Transformer._init_from_crs\u001b[0;34m()\u001b[0m\n",
      "\u001b[0;32mpyproj/_transformer.pyx\u001b[0m in \u001b[0;36mpyproj._transformer._Transformer._initialize_from_projobj\u001b[0;34m()\u001b[0m\n",
      "\u001b[0;32m/anaconda3/lib/python3.7/site-packages/pyproj/exceptions.py\u001b[0m in \u001b[0;36mclear\u001b[0;34m()\u001b[0m\n\u001b[1;32m     17\u001b[0m         \u001b[0msuper\u001b[0m\u001b[0;34m(\u001b[0m\u001b[0;34m)\u001b[0m\u001b[0;34m.\u001b[0m\u001b[0m__init__\u001b[0m\u001b[0;34m(\u001b[0m\u001b[0merror_message\u001b[0m\u001b[0;34m)\u001b[0m\u001b[0;34m\u001b[0m\u001b[0;34m\u001b[0m\u001b[0m\n\u001b[1;32m     18\u001b[0m \u001b[0;34m\u001b[0m\u001b[0m\n\u001b[0;32m---> 19\u001b[0;31m     \u001b[0;34m@\u001b[0m\u001b[0mstaticmethod\u001b[0m\u001b[0;34m\u001b[0m\u001b[0;34m\u001b[0m\u001b[0m\n\u001b[0m\u001b[1;32m     20\u001b[0m     \u001b[0;32mdef\u001b[0m \u001b[0mclear\u001b[0m\u001b[0;34m(\u001b[0m\u001b[0;34m)\u001b[0m \u001b[0;34m->\u001b[0m \u001b[0;32mNone\u001b[0m\u001b[0;34m:\u001b[0m\u001b[0;34m\u001b[0m\u001b[0;34m\u001b[0m\u001b[0m\n\u001b[1;32m     21\u001b[0m         \"\"\"\n",
      "\u001b[0;31mKeyboardInterrupt\u001b[0m: "
     ]
    }
   ],
   "source": [
    "# transform the station coordinates in the correct form \n",
    "df_stations_trans = transform_station_coordinates(df_stations)"
   ]
  },
  {
   "cell_type": "code",
   "execution_count": null,
   "metadata": {},
   "outputs": [
    {
     "data": {
      "text/html": [
       "<div>\n",
       "<style scoped>\n",
       "    .dataframe tbody tr th:only-of-type {\n",
       "        vertical-align: middle;\n",
       "    }\n",
       "\n",
       "    .dataframe tbody tr th {\n",
       "        vertical-align: top;\n",
       "    }\n",
       "\n",
       "    .dataframe thead th {\n",
       "        text-align: right;\n",
       "    }\n",
       "</style>\n",
       "<table border=\"1\" class=\"dataframe\">\n",
       "  <thead>\n",
       "    <tr style=\"text-align: right;\">\n",
       "      <th></th>\n",
       "      <th>URL</th>\n",
       "      <th>Station de service</th>\n",
       "      <th>Ville</th>\n",
       "      <th>Adresse</th>\n",
       "      <th>Coordinates</th>\n",
       "      <th>Energies</th>\n",
       "      <th>Lavage</th>\n",
       "      <th>Paiement</th>\n",
       "      <th>Produits &amp; Services</th>\n",
       "      <th>Services</th>\n",
       "      <th>Club TotalEnergies</th>\n",
       "      <th>Truck</th>\n",
       "      <th>H2 Conversion</th>\n",
       "      <th>Latitude</th>\n",
       "      <th>Longitude</th>\n",
       "      <th>Coordinate_transform</th>\n",
       "    </tr>\n",
       "  </thead>\n",
       "  <tbody>\n",
       "    <tr>\n",
       "      <th>2</th>\n",
       "      <td>https://store.totalenergies.fr/fr_FR/NF080198</td>\n",
       "      <td>RELAIS SAINT MATHURIN</td>\n",
       "      <td>ALLONNE</td>\n",
       "      <td>ZAC SAINT MATHURIN - RD 1001  , 60000 ALLONNE,...</td>\n",
       "      <td>49.409445,2.12815</td>\n",
       "      <td>Borne DC175 kW, AdBlue Truck, Excellium 98, Ex...</td>\n",
       "      <td>Aspirateur, Lavage à Rouleaux,</td>\n",
       "      <td>Visa, American Express, Mastercard, Eurotrafic...</td>\n",
       "      <td>AdBlue Truck,</td>\n",
       "      <td>Café, Lavage à Rouleaux, Gonflage, Wifi, Justb...</td>\n",
       "      <td>Assistance Club 10 Jours, Jauge Cadeau, Cagnot...</td>\n",
       "      <td>Truck, Pompes PL,</td>\n",
       "      <td>1.0</td>\n",
       "      <td>49.409445</td>\n",
       "      <td>2.12815</td>\n",
       "      <td>(7045319.394544157, 3132226.9412886)</td>\n",
       "    </tr>\n",
       "    <tr>\n",
       "      <th>6</th>\n",
       "      <td>https://store.totalenergies.fr/fr_FR/NF080155</td>\n",
       "      <td>REL.LIMOURS JANVRY</td>\n",
       "      <td>JANVRY</td>\n",
       "      <td>A10 AIRE DE LIMOURS JANVRY  , 91640 JANVRY, FR...</td>\n",
       "      <td>48.6371317,2.1488045</td>\n",
       "      <td>Borne DC175 kW, AdBlue Truck, Excellium 98, Ex...</td>\n",
       "      <td>Aspirateur, Lavage à Rouleaux,</td>\n",
       "      <td>American Express, DKV, Mastercard, UTA, Visa, ...</td>\n",
       "      <td>AdBlue Truck,</td>\n",
       "      <td>Défibrillateur, Autoroutière, Lavage à Rouleau...</td>\n",
       "      <td>Assistance Club 30 Jours, Club Truck, Cagnotte...</td>\n",
       "      <td>Truck, Parking PL, Truck store,</td>\n",
       "      <td>1.0</td>\n",
       "      <td>48.6371317</td>\n",
       "      <td>2.1488045</td>\n",
       "      <td>(6950246.0744015165, 3073113.203610874)</td>\n",
       "    </tr>\n",
       "    <tr>\n",
       "      <th>11</th>\n",
       "      <td>https://store.totalenergies.fr/fr_FR/NF030340</td>\n",
       "      <td>POREZ AUTO LOCA STATION</td>\n",
       "      <td>ST QUENTIN</td>\n",
       "      <td>98 RUE ALEXANDRE DUMAS  , 02100 ST QUENTIN, FR...</td>\n",
       "      <td>49.8486264,3.2713774</td>\n",
       "      <td>Excellium Grand Froid, AdBlue Truck, Excellium...</td>\n",
       "      <td>NaN</td>\n",
       "      <td>Routex, Mobility de TotalEnergies, American Ex...</td>\n",
       "      <td>AdBlue Truck,</td>\n",
       "      <td>Baie de maintenance, Boutique, Wifi,</td>\n",
       "      <td>Assistance Club 10 Jours, Jauge Cadeau, Cagnot...</td>\n",
       "      <td>Truck,</td>\n",
       "      <td>1.0</td>\n",
       "      <td>49.8486264</td>\n",
       "      <td>3.2713774</td>\n",
       "      <td>(7006730.337569671, 3303291.312808282)</td>\n",
       "    </tr>\n",
       "    <tr>\n",
       "      <th>14</th>\n",
       "      <td>https://store.totalenergies.fr/fr_FR/NF040392</td>\n",
       "      <td>STATION SERVICE MEDINE</td>\n",
       "      <td>VALLETOT</td>\n",
       "      <td>33 RTE DE MEDINE - CD.89  , 27350 VALLETOT, FR...</td>\n",
       "      <td>49.3722338,0.6275373</td>\n",
       "      <td>AdBlue Truck, Excellium 98, Excellium Diesel, ...</td>\n",
       "      <td>NaN</td>\n",
       "      <td>American Express, Mastercard, Eurotrafic, Visa...</td>\n",
       "      <td>AdBlue Truck,</td>\n",
       "      <td>Boutique, Wifi, AdBlue bidon,</td>\n",
       "      <td>Assistance Club 30 Jours, Club Truck, Cagnotte...</td>\n",
       "      <td>Truck,</td>\n",
       "      <td>1.0</td>\n",
       "      <td>49.3722338</td>\n",
       "      <td>0.6275373</td>\n",
       "      <td>(7161702.210099935, 2947642.230104704)</td>\n",
       "    </tr>\n",
       "    <tr>\n",
       "      <th>16</th>\n",
       "      <td>https://store.totalenergies.fr/fr_FR/NF078008</td>\n",
       "      <td>RELAIS GRAND PRE</td>\n",
       "      <td>GOUSSAINVILLE</td>\n",
       "      <td>32/38 AV DE LA GARE  , 95190 GOUSSAINVILLE, FR...</td>\n",
       "      <td>49.0155943,2.4703296</td>\n",
       "      <td>Excellium 98, Excellium Diesel, Diesel, Super ...</td>\n",
       "      <td>Aspirateur, Lavage à Rouleaux,</td>\n",
       "      <td>DKV, UTA, MOL, Visa, Carte Jubileo, Carte Club...</td>\n",
       "      <td>NaN</td>\n",
       "      <td>Wifi, Boutique, Baie de maintenance, Lavage à ...</td>\n",
       "      <td>Assistance Club 30 Jours, Club Truck, Cagnotte...</td>\n",
       "      <td>Truck,</td>\n",
       "      <td>1.0</td>\n",
       "      <td>49.0155943</td>\n",
       "      <td>2.4703296</td>\n",
       "      <td>(6970667.674578585, 3141769.8504718314)</td>\n",
       "    </tr>\n",
       "  </tbody>\n",
       "</table>\n",
       "</div>"
      ],
      "text/plain": [
       "                                              URL       Station de service  \\\n",
       "2   https://store.totalenergies.fr/fr_FR/NF080198    RELAIS SAINT MATHURIN   \n",
       "6   https://store.totalenergies.fr/fr_FR/NF080155       REL.LIMOURS JANVRY   \n",
       "11  https://store.totalenergies.fr/fr_FR/NF030340  POREZ AUTO LOCA STATION   \n",
       "14  https://store.totalenergies.fr/fr_FR/NF040392   STATION SERVICE MEDINE   \n",
       "16  https://store.totalenergies.fr/fr_FR/NF078008         RELAIS GRAND PRE   \n",
       "\n",
       "            Ville                                            Adresse  \\\n",
       "2         ALLONNE  ZAC SAINT MATHURIN - RD 1001  , 60000 ALLONNE,...   \n",
       "6          JANVRY  A10 AIRE DE LIMOURS JANVRY  , 91640 JANVRY, FR...   \n",
       "11     ST QUENTIN  98 RUE ALEXANDRE DUMAS  , 02100 ST QUENTIN, FR...   \n",
       "14       VALLETOT  33 RTE DE MEDINE - CD.89  , 27350 VALLETOT, FR...   \n",
       "16  GOUSSAINVILLE  32/38 AV DE LA GARE  , 95190 GOUSSAINVILLE, FR...   \n",
       "\n",
       "             Coordinates                                           Energies  \\\n",
       "2      49.409445,2.12815  Borne DC175 kW, AdBlue Truck, Excellium 98, Ex...   \n",
       "6   48.6371317,2.1488045  Borne DC175 kW, AdBlue Truck, Excellium 98, Ex...   \n",
       "11  49.8486264,3.2713774  Excellium Grand Froid, AdBlue Truck, Excellium...   \n",
       "14  49.3722338,0.6275373  AdBlue Truck, Excellium 98, Excellium Diesel, ...   \n",
       "16  49.0155943,2.4703296  Excellium 98, Excellium Diesel, Diesel, Super ...   \n",
       "\n",
       "                             Lavage  \\\n",
       "2   Aspirateur, Lavage à Rouleaux,    \n",
       "6   Aspirateur, Lavage à Rouleaux,    \n",
       "11                              NaN   \n",
       "14                              NaN   \n",
       "16  Aspirateur, Lavage à Rouleaux,    \n",
       "\n",
       "                                             Paiement Produits & Services  \\\n",
       "2   Visa, American Express, Mastercard, Eurotrafic...      AdBlue Truck,    \n",
       "6   American Express, DKV, Mastercard, UTA, Visa, ...      AdBlue Truck,    \n",
       "11  Routex, Mobility de TotalEnergies, American Ex...      AdBlue Truck,    \n",
       "14  American Express, Mastercard, Eurotrafic, Visa...      AdBlue Truck,    \n",
       "16  DKV, UTA, MOL, Visa, Carte Jubileo, Carte Club...                 NaN   \n",
       "\n",
       "                                             Services  \\\n",
       "2   Café, Lavage à Rouleaux, Gonflage, Wifi, Justb...   \n",
       "6   Défibrillateur, Autoroutière, Lavage à Rouleau...   \n",
       "11              Baie de maintenance, Boutique, Wifi,    \n",
       "14                     Boutique, Wifi, AdBlue bidon,    \n",
       "16  Wifi, Boutique, Baie de maintenance, Lavage à ...   \n",
       "\n",
       "                                   Club TotalEnergies  \\\n",
       "2   Assistance Club 10 Jours, Jauge Cadeau, Cagnot...   \n",
       "6   Assistance Club 30 Jours, Club Truck, Cagnotte...   \n",
       "11  Assistance Club 10 Jours, Jauge Cadeau, Cagnot...   \n",
       "14  Assistance Club 30 Jours, Club Truck, Cagnotte...   \n",
       "16  Assistance Club 30 Jours, Club Truck, Cagnotte...   \n",
       "\n",
       "                               Truck  H2 Conversion    Latitude  Longitude  \\\n",
       "2                 Truck, Pompes PL,             1.0   49.409445    2.12815   \n",
       "6   Truck, Parking PL, Truck store,             1.0  48.6371317  2.1488045   \n",
       "11                           Truck,             1.0  49.8486264  3.2713774   \n",
       "14                           Truck,             1.0  49.3722338  0.6275373   \n",
       "16                           Truck,             1.0  49.0155943  2.4703296   \n",
       "\n",
       "                       Coordinate_transform  \n",
       "2      (7045319.394544157, 3132226.9412886)  \n",
       "6   (6950246.0744015165, 3073113.203610874)  \n",
       "11   (7006730.337569671, 3303291.312808282)  \n",
       "14   (7161702.210099935, 2947642.230104704)  \n",
       "16  (6970667.674578585, 3141769.8504718314)  "
      ]
     },
     "execution_count": 44,
     "metadata": {},
     "output_type": "execute_result"
    }
   ],
   "source": [
    "df_stations_trans.head()"
   ]
  },
  {
   "cell_type": "code",
   "execution_count": 45,
   "metadata": {},
   "outputs": [],
   "source": [
    "def transform_coordinates(df_shp:pd.DataFrame,\n",
    "                     nb_decimal: int = 1):\n",
    "    \n",
    "    # select only routes with LineString geometries\n",
    "    df_line = df_shp[df_shp['geometry'].geom_type == 'LineString']\n",
    "\n",
    "    in_proj = pyproj.Proj(init='epsg:2154')  # Lambert-93\n",
    "    out_proj = pyproj.Proj(init='epsg:4326')  # WGS84\n",
    "    transform_coords = lambda x: pyproj.transform(in_proj, out_proj, float(x[0]),float(x[1]))\n",
    "\n",
    "    list_geo = []\n",
    "    for x in tqdm(df_line[\"geometry\"]):\n",
    "        list_geo.append([(round(transform_coords(c)[1],3),round(transform_coords(c)[0],3)) for c in x.coords[:]])\n",
    "\n",
    "    # apply the lambda function to the geometry column of the Geodataframe\n",
    "    df_line[\"geometry_lat_long\"] = list_geo\n",
    "\n",
    "    return df_line"
   ]
  },
  {
   "cell_type": "code",
   "execution_count": 78,
   "metadata": {},
   "outputs": [
    {
     "name": "stderr",
     "output_type": "stream",
     "text": [
      "  0%|          | 0/4629 [00:00<?, ?it/s]/anaconda3/lib/python3.7/site-packages/ipykernel_launcher.py:9: DeprecationWarning: This function is deprecated. See: https://pyproj4.github.io/pyproj/stable/gotchas.html#upgrading-to-pyproj-2-from-pyproj-1\n",
      "  if __name__ == '__main__':\n",
      " 26%|██▌       | 1193/4629 [4:59:03<21:43:48, 22.77s/it]   "
     ]
    }
   ],
   "source": [
    "df_line_trans = transform_coordinates(df_shp)"
   ]
  },
  {
   "cell_type": "code",
   "execution_count": 46,
   "metadata": {},
   "outputs": [],
   "source": [
    "def round_coordinates(df_shp:pd.DataFrame,\n",
    "                     nb_decimal: int = 1):\n",
    "    \n",
    "    # select only routes with LineString geometries\n",
    "    df_line = df_shp[df_shp['geometry'].geom_type == 'LineString']\n",
    "\n",
    "    list_geo = []\n",
    "    for x in tqdm(df_line[\"geometry\"]):\n",
    "        list_geo.append([(round(float(c[0])/100), round(float(c[1])/100)) for c in x.coords[:]])\n",
    "\n",
    "    # apply the lambda function to the geometry column of the Geodataframe\n",
    "    df_line[\"geometry_round\"] = list_geo\n",
    "\n",
    "    return df_line"
   ]
  },
  {
   "cell_type": "code",
   "execution_count": 47,
   "metadata": {},
   "outputs": [
    {
     "name": "stderr",
     "output_type": "stream",
     "text": [
      "100%|██████████| 4629/4629 [00:02<00:00, 1571.21it/s]\n",
      "/anaconda3/lib/python3.7/site-packages/geopandas/geodataframe.py:1351: SettingWithCopyWarning: \n",
      "A value is trying to be set on a copy of a slice from a DataFrame.\n",
      "Try using .loc[row_indexer,col_indexer] = value instead\n",
      "\n",
      "See the caveats in the documentation: https://pandas.pydata.org/pandas-docs/stable/user_guide/indexing.html#returning-a-view-versus-a-copy\n",
      "  super().__setitem__(key, value)\n"
     ]
    }
   ],
   "source": [
    "df_line = round_coordinates(df_shp)"
   ]
  },
  {
   "cell_type": "code",
   "execution_count": 58,
   "metadata": {},
   "outputs": [
    {
     "data": {
      "text/html": [
       "<div>\n",
       "<style scoped>\n",
       "    .dataframe tbody tr th:only-of-type {\n",
       "        vertical-align: middle;\n",
       "    }\n",
       "\n",
       "    .dataframe tbody tr th {\n",
       "        vertical-align: top;\n",
       "    }\n",
       "\n",
       "    .dataframe thead th {\n",
       "        text-align: right;\n",
       "    }\n",
       "</style>\n",
       "<table border=\"1\" class=\"dataframe\">\n",
       "  <thead>\n",
       "    <tr style=\"text-align: right;\">\n",
       "      <th></th>\n",
       "      <th>dateRefere</th>\n",
       "      <th>longueur</th>\n",
       "      <th>prD</th>\n",
       "      <th>depPrD</th>\n",
       "      <th>concession</th>\n",
       "      <th>absD</th>\n",
       "      <th>cumulD</th>\n",
       "      <th>xD</th>\n",
       "      <th>yD</th>\n",
       "      <th>zD</th>\n",
       "      <th>...</th>\n",
       "      <th>xF</th>\n",
       "      <th>yF</th>\n",
       "      <th>zF</th>\n",
       "      <th>anneeMesur</th>\n",
       "      <th>typeCompta</th>\n",
       "      <th>typeComp_1</th>\n",
       "      <th>TMJA</th>\n",
       "      <th>ratio_PL</th>\n",
       "      <th>geometry</th>\n",
       "      <th>geometry_round</th>\n",
       "    </tr>\n",
       "    <tr>\n",
       "      <th>route</th>\n",
       "      <th></th>\n",
       "      <th></th>\n",
       "      <th></th>\n",
       "      <th></th>\n",
       "      <th></th>\n",
       "      <th></th>\n",
       "      <th></th>\n",
       "      <th></th>\n",
       "      <th></th>\n",
       "      <th></th>\n",
       "      <th></th>\n",
       "      <th></th>\n",
       "      <th></th>\n",
       "      <th></th>\n",
       "      <th></th>\n",
       "      <th></th>\n",
       "      <th></th>\n",
       "      <th></th>\n",
       "      <th></th>\n",
       "      <th></th>\n",
       "      <th></th>\n",
       "    </tr>\n",
       "  </thead>\n",
       "  <tbody>\n",
       "    <tr>\n",
       "      <th>31D0044</th>\n",
       "      <td>2019-01-01</td>\n",
       "      <td>44.0</td>\n",
       "      <td>0</td>\n",
       "      <td>31</td>\n",
       "      <td>N</td>\n",
       "      <td>0.0</td>\n",
       "      <td>0.0</td>\n",
       "      <td>511656.78</td>\n",
       "      <td>6204078.36</td>\n",
       "      <td>0.0</td>\n",
       "      <td>...</td>\n",
       "      <td>511698.51</td>\n",
       "      <td>6204063.93</td>\n",
       "      <td>0.0</td>\n",
       "      <td>0</td>\n",
       "      <td>None</td>\n",
       "      <td>None</td>\n",
       "      <td>0</td>\n",
       "      <td>0.0</td>\n",
       "      <td>LINESTRING (511656.785 6204078.361, 511672.731...</td>\n",
       "      <td>[(5117, 62041), (5117, 62041), (5117, 62041), ...</td>\n",
       "    </tr>\n",
       "    <tr>\n",
       "      <th>69D0301</th>\n",
       "      <td>2019-01-01</td>\n",
       "      <td>6055.0</td>\n",
       "      <td>2</td>\n",
       "      <td>69</td>\n",
       "      <td>N</td>\n",
       "      <td>-981.0</td>\n",
       "      <td>0.0</td>\n",
       "      <td>844036.84</td>\n",
       "      <td>6510806.45</td>\n",
       "      <td>0.0</td>\n",
       "      <td>...</td>\n",
       "      <td>849346.89</td>\n",
       "      <td>6509342.34</td>\n",
       "      <td>0.0</td>\n",
       "      <td>0</td>\n",
       "      <td>None</td>\n",
       "      <td>None</td>\n",
       "      <td>0</td>\n",
       "      <td>0.0</td>\n",
       "      <td>LINESTRING (844036.841 6510806.450, 844044.447...</td>\n",
       "      <td>[(8440, 65108), (8440, 65108), (8440, 65108), ...</td>\n",
       "    </tr>\n",
       "    <tr>\n",
       "      <th>69D0383</th>\n",
       "      <td>2019-01-01</td>\n",
       "      <td>13752.0</td>\n",
       "      <td>4</td>\n",
       "      <td>69</td>\n",
       "      <td>N</td>\n",
       "      <td>-494.0</td>\n",
       "      <td>0.0</td>\n",
       "      <td>846831.30</td>\n",
       "      <td>6522372.16</td>\n",
       "      <td>0.0</td>\n",
       "      <td>...</td>\n",
       "      <td>843537.87</td>\n",
       "      <td>6512429.80</td>\n",
       "      <td>0.0</td>\n",
       "      <td>0</td>\n",
       "      <td>None</td>\n",
       "      <td>None</td>\n",
       "      <td>0</td>\n",
       "      <td>0.0</td>\n",
       "      <td>LINESTRING (846831.303 6522372.160, 846865.124...</td>\n",
       "      <td>[(8468, 65224), (8469, 65223), (8469, 65223), ...</td>\n",
       "    </tr>\n",
       "    <tr>\n",
       "      <th>69D0383BPNL</th>\n",
       "      <td>2019-01-01</td>\n",
       "      <td>2408.0</td>\n",
       "      <td>0</td>\n",
       "      <td>69</td>\n",
       "      <td>N</td>\n",
       "      <td>0.0</td>\n",
       "      <td>0.0</td>\n",
       "      <td>844982.46</td>\n",
       "      <td>6522772.27</td>\n",
       "      <td>0.0</td>\n",
       "      <td>...</td>\n",
       "      <td>846831.30</td>\n",
       "      <td>6522372.16</td>\n",
       "      <td>0.0</td>\n",
       "      <td>0</td>\n",
       "      <td>None</td>\n",
       "      <td>None</td>\n",
       "      <td>0</td>\n",
       "      <td>0.0</td>\n",
       "      <td>LINESTRING (844982.456 6522772.273, 844995.417...</td>\n",
       "      <td>[(8450, 65228), (8450, 65228), (8450, 65228), ...</td>\n",
       "    </tr>\n",
       "    <tr>\n",
       "      <th>75000C01</th>\n",
       "      <td>2019-01-01</td>\n",
       "      <td>35040.0</td>\n",
       "      <td>0</td>\n",
       "      <td>75</td>\n",
       "      <td>N</td>\n",
       "      <td>0.0</td>\n",
       "      <td>0.0</td>\n",
       "      <td>655221.44</td>\n",
       "      <td>6858722.80</td>\n",
       "      <td>0.0</td>\n",
       "      <td>...</td>\n",
       "      <td>655221.44</td>\n",
       "      <td>6858722.80</td>\n",
       "      <td>0.0</td>\n",
       "      <td>0</td>\n",
       "      <td>None</td>\n",
       "      <td>None</td>\n",
       "      <td>0</td>\n",
       "      <td>0.0</td>\n",
       "      <td>LINESTRING (647256.052 6864493.521, 647272.326...</td>\n",
       "      <td>[(6473, 68645), (6473, 68645), (6473, 68646), ...</td>\n",
       "    </tr>\n",
       "  </tbody>\n",
       "</table>\n",
       "<p>5 rows × 25 columns</p>\n",
       "</div>"
      ],
      "text/plain": [
       "             dateRefere  longueur prD depPrD concession   absD  cumulD  \\\n",
       "route                                                                    \n",
       "31D0044      2019-01-01      44.0   0     31          N    0.0     0.0   \n",
       "69D0301      2019-01-01    6055.0   2     69          N -981.0     0.0   \n",
       "69D0383      2019-01-01   13752.0   4     69          N -494.0     0.0   \n",
       "69D0383BPNL  2019-01-01    2408.0   0     69          N    0.0     0.0   \n",
       "75000C01     2019-01-01   35040.0   0     75          N    0.0     0.0   \n",
       "\n",
       "                    xD          yD   zD  ...         xF          yF   zF  \\\n",
       "route                                    ...                               \n",
       "31D0044      511656.78  6204078.36  0.0  ...  511698.51  6204063.93  0.0   \n",
       "69D0301      844036.84  6510806.45  0.0  ...  849346.89  6509342.34  0.0   \n",
       "69D0383      846831.30  6522372.16  0.0  ...  843537.87  6512429.80  0.0   \n",
       "69D0383BPNL  844982.46  6522772.27  0.0  ...  846831.30  6522372.16  0.0   \n",
       "75000C01     655221.44  6858722.80  0.0  ...  655221.44  6858722.80  0.0   \n",
       "\n",
       "             anneeMesur  typeCompta  typeComp_1  TMJA  ratio_PL  \\\n",
       "route                                                             \n",
       "31D0044               0        None        None     0       0.0   \n",
       "69D0301               0        None        None     0       0.0   \n",
       "69D0383               0        None        None     0       0.0   \n",
       "69D0383BPNL           0        None        None     0       0.0   \n",
       "75000C01              0        None        None     0       0.0   \n",
       "\n",
       "                                                      geometry  \\\n",
       "route                                                            \n",
       "31D0044      LINESTRING (511656.785 6204078.361, 511672.731...   \n",
       "69D0301      LINESTRING (844036.841 6510806.450, 844044.447...   \n",
       "69D0383      LINESTRING (846831.303 6522372.160, 846865.124...   \n",
       "69D0383BPNL  LINESTRING (844982.456 6522772.273, 844995.417...   \n",
       "75000C01     LINESTRING (647256.052 6864493.521, 647272.326...   \n",
       "\n",
       "                                                geometry_round  \n",
       "route                                                           \n",
       "31D0044      [(5117, 62041), (5117, 62041), (5117, 62041), ...  \n",
       "69D0301      [(8440, 65108), (8440, 65108), (8440, 65108), ...  \n",
       "69D0383      [(8468, 65224), (8469, 65223), (8469, 65223), ...  \n",
       "69D0383BPNL  [(8450, 65228), (8450, 65228), (8450, 65228), ...  \n",
       "75000C01     [(6473, 68645), (6473, 68645), (6473, 68646), ...  \n",
       "\n",
       "[5 rows x 25 columns]"
      ]
     },
     "execution_count": 58,
     "metadata": {},
     "output_type": "execute_result"
    }
   ],
   "source": [
    "df_line.head()"
   ]
  },
  {
   "cell_type": "code",
   "execution_count": 49,
   "metadata": {},
   "outputs": [],
   "source": [
    "df_line.to_csv(config.PATH+'routes_round_coord.csv')"
   ]
  },
  {
   "cell_type": "code",
   "execution_count": 74,
   "metadata": {},
   "outputs": [],
   "source": [
    "def intersection_road_station(\n",
    "        df_line: pd.DataFrame, \n",
    "        station_coordinates: str, \n",
    "        route_index: int,\n",
    "        nb_decimal: int = 1\n",
    "        ) -> str:\n",
    "    '''\n",
    "    Round the coordinates and return the name of the route if the station is contained in the route\n",
    "    '''\n",
    "\n",
    "    # round the station points \n",
    "    #point = Point(\n",
    "    point = (\n",
    "        round(station_coordinates[0]/100),\n",
    "        round(station_coordinates[1]/100))\n",
    "    #point = (\n",
    "        #round(float(station_coordinates.split(',')[0]),nb_decimal),\n",
    "       # round(float(station_coordinates.split(',')[1]),nb_decimal))\n",
    "\n",
    "    line = df_line['geometry_round'].iloc[route_index]\n",
    "\n",
    "    # Check if the station point is on the route LineString\n",
    "    #is_on_line = line.intersects(point)\n",
    "    #EPS = 1\n",
    "    #is_on_line = line.buffer(EPS).contains(point)\n",
    "    is_on_line = point in line\n",
    "    \n",
    "    if is_on_line:\n",
    "        return df_line.index[route_index]\n",
    "    else:\n",
    "        return ''"
   ]
  },
  {
   "cell_type": "code",
   "execution_count": 75,
   "metadata": {},
   "outputs": [],
   "source": [
    "def create_list_routes(\n",
    "        station_coord: tuple,\n",
    "        df_line: pd.DataFrame\n",
    "):\n",
    "        list_routes =  [intersection_road_station(df_line,station_coord,route) for route in range(df_line.shape[0])]\n",
    "        return list_routes"
   ]
  },
  {
   "cell_type": "code",
   "execution_count": 76,
   "metadata": {},
   "outputs": [],
   "source": [
    "#test function for one station\n",
    "station_coord = df_stations_h2_trans['Coordinate_transform'].iloc[0]\n",
    "results = create_list_routes(station_coord,df_line)"
   ]
  },
  {
   "cell_type": "code",
   "execution_count": 77,
   "metadata": {},
   "outputs": [
    {
     "data": {
      "text/plain": [
       "''"
      ]
     },
     "execution_count": 77,
     "metadata": {},
     "output_type": "execute_result"
    }
   ],
   "source": [
    "''.join(results)"
   ]
  },
  {
   "cell_type": "code",
   "execution_count": 69,
   "metadata": {},
   "outputs": [
    {
     "name": "stderr",
     "output_type": "stream",
     "text": [
      "/anaconda3/lib/python3.7/site-packages/ipykernel_launcher.py:1: SettingWithCopyWarning: \n",
      "A value is trying to be set on a copy of a slice from a DataFrame.\n",
      "Try using .loc[row_indexer,col_indexer] = value instead\n",
      "\n",
      "See the caveats in the documentation: https://pandas.pydata.org/pandas-docs/stable/user_guide/indexing.html#returning-a-view-versus-a-copy\n",
      "  \"\"\"Entry point for launching an IPython kernel.\n"
     ]
    }
   ],
   "source": [
    "df_stations_h2_trans['Coordinate_transform_round'] = df_stations_h2_trans['Coordinate_transform'].apply(lambda x: (round(x[0]/10),round(x[1]/100)))"
   ]
  },
  {
   "cell_type": "code",
   "execution_count": 64,
   "metadata": {},
   "outputs": [
    {
     "data": {
      "text/plain": [
       "2     (70453, 31322)\n",
       "6     (69502, 30731)\n",
       "11    (70067, 33033)\n",
       "14    (71617, 29476)\n",
       "16    (69707, 31418)\n",
       "17    (68824, 24682)\n",
       "18    (61999, 29903)\n",
       "20    (69090, 31293)\n",
       "28    (65443, 32661)\n",
       "29    (64055, 29952)\n",
       "Name: Coordinate_transform_round, dtype: object"
      ]
     },
     "execution_count": 64,
     "metadata": {},
     "output_type": "execute_result"
    }
   ],
   "source": [
    "df_stations_h2_trans['Coordinate_transform_round'].iloc[:10]"
   ]
  },
  {
   "cell_type": "code",
   "execution_count": 70,
   "metadata": {},
   "outputs": [
    {
     "data": {
      "text/plain": [
       "False"
      ]
     },
     "execution_count": 70,
     "metadata": {},
     "output_type": "execute_result"
    }
   ],
   "source": [
    "(7045, 31322) in df_line['geometry_round']"
   ]
  },
  {
   "cell_type": "code",
   "execution_count": 63,
   "metadata": {},
   "outputs": [
    {
     "data": {
      "text/plain": [
       "route\n",
       "31D0044        [(5117, 62041), (5117, 62041), (5117, 62041), ...\n",
       "69D0301        [(8440, 65108), (8440, 65108), (8440, 65108), ...\n",
       "69D0383        [(8468, 65224), (8469, 65223), (8469, 65223), ...\n",
       "69D0383BPNL    [(8450, 65228), (8450, 65228), (8450, 65228), ...\n",
       "75000C01       [(6473, 68645), (6473, 68645), (6473, 68646), ...\n",
       "                                     ...                        \n",
       "N1338          [(5601, 69279), (5601, 69279), (5601, 69279), ...\n",
       "P0224          [(5560, 62889), (5560, 62889), (5560, 62889), ...\n",
       "P0524          [(4403, 63611), (4403, 63610), (4403, 63610), ...\n",
       "P0524          [(4588, 63259), (4588, 63259), (4588, 63259), ...\n",
       "P0542          [(5487, 62837), (5487, 62837), (5487, 62837), ...\n",
       "Name: geometry_round, Length: 4629, dtype: object"
      ]
     },
     "execution_count": 63,
     "metadata": {},
     "output_type": "execute_result"
    }
   ],
   "source": [
    "df_line['geometry_round']"
   ]
  },
  {
   "cell_type": "code",
   "execution_count": 56,
   "metadata": {},
   "outputs": [
    {
     "data": {
      "text/plain": [
       "''"
      ]
     },
     "execution_count": 56,
     "metadata": {},
     "output_type": "execute_result"
    }
   ],
   "source": [
    "''.join(results)"
   ]
  },
  {
   "cell_type": "code",
   "execution_count": 392,
   "metadata": {},
   "outputs": [],
   "source": [
    "def create_col_routes(\n",
    "        df_stations_t: pd.DataFrame,\n",
    "        df_line: pd.DataFrame\n",
    "):\n",
    "    '''\n",
    "    Function creates the column Routes_on with a list of \n",
    "    '''\n",
    "    # Crate the column Routes_on with a list of the route the station is on\n",
    "    df_stations_t['Routes_on'] = df_stations_t['Coordinate_transform'].apply(lambda station_coord: create_list_routes(station_coord,df_line))\n",
    "    # Join the list to check if there are any non-empty routes\n",
    "    df_stations_t['Count_routes_on'] = df_stations_t['Routes_on'].apply(lambda my_list: ''.join(my_list))\n",
    "\n",
    "    return df_stations_t"
   ]
  },
  {
   "cell_type": "code",
   "execution_count": 393,
   "metadata": {},
   "outputs": [
    {
     "name": "stderr",
     "output_type": "stream",
     "text": [
      "/anaconda3/lib/python3.7/site-packages/ipykernel_launcher.py:9: SettingWithCopyWarning: \n",
      "A value is trying to be set on a copy of a slice from a DataFrame.\n",
      "Try using .loc[row_indexer,col_indexer] = value instead\n",
      "\n",
      "See the caveats in the documentation: https://pandas.pydata.org/pandas-docs/stable/user_guide/indexing.html#returning-a-view-versus-a-copy\n",
      "  if __name__ == '__main__':\n",
      "/anaconda3/lib/python3.7/site-packages/ipykernel_launcher.py:11: SettingWithCopyWarning: \n",
      "A value is trying to be set on a copy of a slice from a DataFrame.\n",
      "Try using .loc[row_indexer,col_indexer] = value instead\n",
      "\n",
      "See the caveats in the documentation: https://pandas.pydata.org/pandas-docs/stable/user_guide/indexing.html#returning-a-view-versus-a-copy\n",
      "  # This is added back by InteractiveShellApp.init_path()\n"
     ]
    }
   ],
   "source": [
    "df_stations_routes = create_col_routes(df_stations_t[:10], df_line)"
   ]
  },
  {
   "cell_type": "code",
   "execution_count": 394,
   "metadata": {},
   "outputs": [
    {
     "data": {
      "text/html": [
       "<div>\n",
       "<style scoped>\n",
       "    .dataframe tbody tr th:only-of-type {\n",
       "        vertical-align: middle;\n",
       "    }\n",
       "\n",
       "    .dataframe tbody tr th {\n",
       "        vertical-align: top;\n",
       "    }\n",
       "\n",
       "    .dataframe thead th {\n",
       "        text-align: right;\n",
       "    }\n",
       "</style>\n",
       "<table border=\"1\" class=\"dataframe\">\n",
       "  <thead>\n",
       "    <tr style=\"text-align: right;\">\n",
       "      <th></th>\n",
       "      <th>URL</th>\n",
       "      <th>Station de service</th>\n",
       "      <th>Ville</th>\n",
       "      <th>Adresse</th>\n",
       "      <th>Coordinates</th>\n",
       "      <th>Energies</th>\n",
       "      <th>Lavage</th>\n",
       "      <th>Paiement</th>\n",
       "      <th>Produits &amp; Services</th>\n",
       "      <th>Services</th>\n",
       "      <th>Club TotalEnergies</th>\n",
       "      <th>Truck</th>\n",
       "      <th>H2 Conversion</th>\n",
       "      <th>Latitude</th>\n",
       "      <th>Longitude</th>\n",
       "      <th>Routes_on</th>\n",
       "      <th>Count_routes_on</th>\n",
       "      <th>Coordinate_transform</th>\n",
       "    </tr>\n",
       "  </thead>\n",
       "  <tbody>\n",
       "  </tbody>\n",
       "</table>\n",
       "</div>"
      ],
      "text/plain": [
       "Empty DataFrame\n",
       "Columns: [URL, Station de service, Ville, Adresse, Coordinates, Energies, Lavage, Paiement, Produits & Services, Services, Club TotalEnergies, Truck, H2 Conversion, Latitude, Longitude, Routes_on, Count_routes_on, Coordinate_transform]\n",
       "Index: []"
      ]
     },
     "execution_count": 394,
     "metadata": {},
     "output_type": "execute_result"
    }
   ],
   "source": [
    "df_stations_routes[df_stations_routes['Count_routes_on']!='']"
   ]
  },
  {
   "cell_type": "code",
   "execution_count": 348,
   "metadata": {},
   "outputs": [],
   "source": [
    "#df_stations_t.to_csv(config.PATH+'stations_transformed_coordinates.csv')"
   ]
  },
  {
   "cell_type": "code",
   "execution_count": null,
   "metadata": {},
   "outputs": [],
   "source": []
  },
  {
   "attachments": {},
   "cell_type": "markdown",
   "metadata": {},
   "source": [
    "### Donnees hub"
   ]
  },
  {
   "cell_type": "code",
   "execution_count": null,
   "metadata": {},
   "outputs": [],
   "source": [
    "df_hub = gpd.read_file(config.PATH+'Aires_logistiques_denses.shp')"
   ]
  },
  {
   "cell_type": "code",
   "execution_count": null,
   "metadata": {},
   "outputs": [],
   "source": [
    "df_hub"
   ]
  },
  {
   "cell_type": "code",
   "execution_count": null,
   "metadata": {},
   "outputs": [],
   "source": [
    "df_hub_large = gpd.read_file(config.PATH+'Aires_logistiques_denses.shp')\n",
    "df_hub_large"
   ]
  }
 ],
 "metadata": {
  "kernelspec": {
   "display_name": "base",
   "language": "python",
   "name": "python3"
  },
  "language_info": {
   "codemirror_mode": {
    "name": "ipython",
    "version": 3
   },
   "file_extension": ".py",
   "mimetype": "text/x-python",
   "name": "python",
   "nbconvert_exporter": "python",
   "pygments_lexer": "ipython3",
   "version": "3.7.1 (default, Dec 14 2018, 13:28:58) \n[Clang 4.0.1 (tags/RELEASE_401/final)]"
  },
  "orig_nbformat": 4,
  "vscode": {
   "interpreter": {
    "hash": "398dc28c06ad810e77de546bbdfa897a6ee0b83e59a5207339dda01a7843e01d"
   }
  }
 },
 "nbformat": 4,
 "nbformat_minor": 2
}
