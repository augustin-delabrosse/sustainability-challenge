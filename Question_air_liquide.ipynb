{
 "cells": [
  {
   "attachments": {},
   "cell_type": "markdown",
   "metadata": {},
   "source": [
    "### Requirements"
   ]
  },
  {
   "cell_type": "code",
   "execution_count": 1,
   "metadata": {},
   "outputs": [],
   "source": [
    "from functions.helping_functions import *\n",
    "from functions.Financials import *\n",
    "from functions.deployment_functions import *"
   ]
  },
  {
   "cell_type": "code",
   "execution_count": 2,
   "metadata": {},
   "outputs": [],
   "source": [
    "from shapely.geometry import Point\n",
    "import os\n",
    "import csv\n",
    "import pyproj\n",
    "import geopy\n",
    "from pathlib import Path\n",
    "import pandas as pd\n",
    "import numpy as np\n",
    "import matplotlib.pyplot as plt\n",
    "import re\n",
    "import folium\n",
    "import geopandas as gpd\n",
    "from sklearn.inspection import permutation_importance\n",
    "import seaborn as sns\n",
    "from sklearn.pipeline import make_pipeline\n",
    "from shapely.geometry import shape\n",
    "import geocoder\n",
    "import math\n",
    "import datetime"
   ]
  },
  {
   "cell_type": "code",
   "execution_count": 3,
   "metadata": {},
   "outputs": [],
   "source": [
    "\n",
    "import warnings\n",
    "warnings.simplefilter(action='ignore', category=FutureWarning)"
   ]
  },
  {
   "attachments": {},
   "cell_type": "markdown",
   "metadata": {},
   "source": [
    "### Import Data"
   ]
  },
  {
   "cell_type": "code",
   "execution_count": 9,
   "metadata": {},
   "outputs": [],
   "source": [
    "df_routes = pd.read_csv(r\"C:\\Users\\cesar\\Dropbox\\My PC (LAPTOP-GU3S2J8B)\\Downloads\\HEC_air_liquide\\data\\D-routes-2022.csv\", on_bad_lines='skip', sep=';')\n",
    "df_tmja = pd.read_csv(r\"C:\\Users\\cesar\\Dropbox\\My PC (LAPTOP-GU3S2J8B)\\Downloads\\HEC_air_liquide\\data\\E-tmja-2019.csv\", on_bad_lines='skip', sep=';')\n",
    "df_station = pd.read_csv(r\"C:\\Users\\cesar\\Dropbox\\My PC (LAPTOP-GU3S2J8B)\\Downloads\\HEC_air_liquide\\data\\I-Donne╠ües de stations TE_DV.xlsx - export_data_te.csv\")"
   ]
  },
  {
   "cell_type": "code",
   "execution_count": 10,
   "metadata": {},
   "outputs": [],
   "source": [
    "df_routes = pd.DataFrame(df_routes)\n",
    "df_tmja = pd.DataFrame(df_tmja)"
   ]
  },
  {
   "attachments": {},
   "cell_type": "markdown",
   "metadata": {},
   "source": [
    "#### TMJA"
   ]
  },
  {
   "cell_type": "code",
   "execution_count": 11,
   "metadata": {},
   "outputs": [],
   "source": [
    "def add_lat_lon_columns(df):\n",
    "    \"\"\"\n",
    "    Adds new columns 'lonD', 'latD', 'lonF', 'latF' to the dataframe with\n",
    "    corresponding latitude and longitude values based on the 'xD', 'yD', 'xF',\n",
    "    and 'yF' columns, which are in Lambert-93 projection.\n",
    "\n",
    "    Parameters:\n",
    "    -----------\n",
    "    df : pandas.DataFrame\n",
    "        The dataframe containing the columns 'xD', 'yD', 'xF', and 'yF'.\n",
    "\n",
    "    Returns:\n",
    "    --------\n",
    "    pandas.DataFrame\n",
    "        The original dataframe with the new 'lonD', 'latD', 'lonF', and 'latF'\n",
    "        columns added.\n",
    "    \"\"\"\n",
    "    # Define the input and output projections\n",
    "    in_proj = pyproj.Proj(init='epsg:2154')  # Lambert-93\n",
    "    out_proj = pyproj.Proj(init='epsg:4326')  # WGS84\n",
    "\n",
    "    df['xD'] = df['xD'].str.replace(',', '.')\n",
    "    df['yD'] = df['yD'].str.replace(',', '.')\n",
    "    df['xF'] = df['xF'].str.replace(',', '.')\n",
    "    df['yF'] = df['yF'].str.replace(',', '.')\n",
    "\n",
    "    # Convert start coordinates to lat-long\n",
    "    df['lonD'], df['latD'] = pyproj.transform(in_proj, out_proj, df['xD'], df['yD'])\n",
    "\n",
    "    # Convert end coordinates to lat-long\n",
    "    df['lonF'], df['latF'] = pyproj.transform(in_proj, out_proj, df['xF'], df['yF'])\n",
    "\n",
    "    return df"
   ]
  },
  {
   "attachments": {},
   "cell_type": "markdown",
   "metadata": {},
   "source": [
    "### Stations Analysis"
   ]
  },
  {
   "cell_type": "code",
   "execution_count": 12,
   "metadata": {},
   "outputs": [],
   "source": [
    "def remove_dom_tom(df:pd.DataFrame)-> pd.DataFrame:\n",
    "    '''\n",
    "    Removes idenfied Dom Tom data from our database\n",
    "    '''\n",
    "    mask = df[\"Adresse\"].str.contains(\"GUYANNE|REUNION|MARTINIQUE|GUADELOUPE|FORT DE FRANCE| LA SALLE LES ALPES\")\n",
    "    df = df[~mask]\n",
    "    return df"
   ]
  },
  {
   "cell_type": "code",
   "execution_count": 13,
   "metadata": {},
   "outputs": [],
   "source": [
    "df_station = remove_dom_tom(df_station)"
   ]
  },
  {
   "cell_type": "code",
   "execution_count": 14,
   "metadata": {},
   "outputs": [],
   "source": [
    "# Remove DOM TOM``\n",
    "mask = df_station[\"Adresse\"].str.contains(\"GUYANNE|REUNION|MARTINIQUE|GUADELOUPE|FORT DE FRANCE| LA SALLE LES ALPES\")\n",
    "df_station = df_station[~mask]"
   ]
  },
  {
   "cell_type": "code",
   "execution_count": 15,
   "metadata": {},
   "outputs": [
    {
     "name": "stdout",
     "output_type": "stream",
     "text": [
      "0\n",
      "0\n"
     ]
    }
   ],
   "source": [
    "print(df_station['Adresse'].str.contains(\"Guyane\").sum())\n",
    "print(df_station['Adresse'].str.contains(\"Reunion\").sum())"
   ]
  },
  {
   "cell_type": "code",
   "execution_count": 16,
   "metadata": {},
   "outputs": [],
   "source": [
    "df_station['Coordinates'] = df_station['Coordinates'].apply(lambda x: x.replace(',,', ','))"
   ]
  },
  {
   "cell_type": "code",
   "execution_count": 17,
   "metadata": {},
   "outputs": [
    {
     "data": {
      "text/plain": [
       "' -0.08951268605788969'"
      ]
     },
     "execution_count": 17,
     "metadata": {},
     "output_type": "execute_result"
    }
   ],
   "source": [
    "df_station['Coordinates'].apply(lambda x: x.split(',')[1]).min()"
   ]
  },
  {
   "cell_type": "code",
   "execution_count": 18,
   "metadata": {},
   "outputs": [],
   "source": [
    "def add_lat_long(df:pd.DataFrame)-> pd.DataFrame:\n",
    "    '''\n",
    "    Add Longitude and Latitude columns based on Coordiantes columnb\n",
    "    '''\n",
    "    df_station['latitude'] = df_station['Coordinates'].apply(lambda x: x.split(',')[0]).astype(float)\n",
    "    df_station['longitude'] =df_station['Coordinates'].apply(lambda x: x.split(',')[1]).astype(float)\n",
    "    return df_station"
   ]
  },
  {
   "cell_type": "code",
   "execution_count": 19,
   "metadata": {},
   "outputs": [],
   "source": [
    "df_station = add_lat_long(df_station)"
   ]
  },
  {
   "attachments": {},
   "cell_type": "markdown",
   "metadata": {},
   "source": [
    "### Logistic Hubs"
   ]
  },
  {
   "cell_type": "code",
   "execution_count": 20,
   "metadata": {},
   "outputs": [],
   "source": [
    "# import data\n",
    "df_Logistic = pd.read_csv(r\"C:\\Users\\cesar\\Dropbox\\My PC (LAPTOP-GU3S2J8B)\\Downloads\\HEC_air_liquide\\data\\Donne_Logistique\\Donnee_Logistique.csv\")\n",
    "df_Logistic_regional = pd.read_csv(r\"C:\\Users\\cesar\\Dropbox\\My PC (LAPTOP-GU3S2J8B)\\Downloads\\HEC_air_liquide\\data\\Donne_Logistique\\Donnee_regionale.csv\")\n",
    "Logistic_shape = gpd.read_file(r\"C:\\Users\\cesar\\Dropbox\\My PC (LAPTOP-GU3S2J8B)\\Downloads\\HEC_air_liquide\\data\\F-aire-logistiques-donnees-detaillees\\Aires_logistiques_denses.shp\")"
   ]
  },
  {
   "cell_type": "code",
   "execution_count": 21,
   "metadata": {},
   "outputs": [
    {
     "data": {
      "text/plain": [
       "387"
      ]
     },
     "execution_count": 21,
     "metadata": {},
     "output_type": "execute_result"
    }
   ],
   "source": [
    "df_Logistic = df_Logistic.rename(columns ={'Identifiant aire logistique dense (e1)':'e1'})\n",
    "df_Logistic['e1'].nunique()"
   ]
  },
  {
   "cell_type": "code",
   "execution_count": 22,
   "metadata": {},
   "outputs": [
    {
     "data": {
      "text/html": [
       "<div>\n",
       "<style scoped>\n",
       "    .dataframe tbody tr th:only-of-type {\n",
       "        vertical-align: middle;\n",
       "    }\n",
       "\n",
       "    .dataframe tbody tr th {\n",
       "        vertical-align: top;\n",
       "    }\n",
       "\n",
       "    .dataframe thead th {\n",
       "        text-align: right;\n",
       "    }\n",
       "</style>\n",
       "<table border=\"1\" class=\"dataframe\">\n",
       "  <thead>\n",
       "    <tr style=\"text-align: right;\">\n",
       "      <th></th>\n",
       "      <th>e1</th>\n",
       "      <th>Région d'implantation</th>\n",
       "      <th>Numéro aires dans région</th>\n",
       "      <th>Communes concernées par l'aire logistique</th>\n",
       "      <th>Nombre d'EPL de plus de  5 000 m2</th>\n",
       "      <th>Surface totale</th>\n",
       "      <th>P_Transport_et_entreposage</th>\n",
       "      <th>P_commerce</th>\n",
       "      <th>P_industrie</th>\n",
       "      <th>P_autres</th>\n",
       "      <th>Eff_com_entreposage</th>\n",
       "      <th>EFF_EPL_5000</th>\n",
       "      <th>Poids de l'entreposage</th>\n",
       "      <th>Chargement</th>\n",
       "      <th>Déchargement</th>\n",
       "      <th>geometry</th>\n",
       "    </tr>\n",
       "  </thead>\n",
       "  <tbody>\n",
       "    <tr>\n",
       "      <th>0</th>\n",
       "      <td>1</td>\n",
       "      <td>52</td>\n",
       "      <td>3</td>\n",
       "      <td>Saint-Nazaire, Montoir-de-Bretagne, Trignac</td>\n",
       "      <td>Oct-19</td>\n",
       "      <td>155000</td>\n",
       "      <td>0.600000</td>\n",
       "      <td>0.100000</td>\n",
       "      <td>0.300000</td>\n",
       "      <td>0.000000</td>\n",
       "      <td>1800</td>\n",
       "      <td>300</td>\n",
       "      <td>0.045252971</td>\n",
       "      <td>30</td>\n",
       "      <td>30</td>\n",
       "      <td>POLYGON ((306902.300 6698606.120, 306928.370 6...</td>\n",
       "    </tr>\n",
       "    <tr>\n",
       "      <th>1</th>\n",
       "      <td>11</td>\n",
       "      <td>52</td>\n",
       "      <td>19</td>\n",
       "      <td>Saint-Sylvain-d'Anjou</td>\n",
       "      <td>03-Sep</td>\n",
       "      <td>50000</td>\n",
       "      <td>0.333333</td>\n",
       "      <td>0.666667</td>\n",
       "      <td>0.000000</td>\n",
       "      <td>0.000000</td>\n",
       "      <td>NC</td>\n",
       "      <td>NC</td>\n",
       "      <td>NC</td>\n",
       "      <td>NC</td>\n",
       "      <td>NC</td>\n",
       "      <td>POLYGON ((438799.329 6718105.186, 437358.871 6...</td>\n",
       "    </tr>\n",
       "    <tr>\n",
       "      <th>2</th>\n",
       "      <td>12</td>\n",
       "      <td>24</td>\n",
       "      <td>4</td>\n",
       "      <td>Parçay-Meslay, Tours</td>\n",
       "      <td>03-Sep</td>\n",
       "      <td>142000</td>\n",
       "      <td>0.444444</td>\n",
       "      <td>0.333333</td>\n",
       "      <td>0.222222</td>\n",
       "      <td>0.000000</td>\n",
       "      <td>NC</td>\n",
       "      <td>NC</td>\n",
       "      <td>NC</td>\n",
       "      <td>NC</td>\n",
       "      <td>NC</td>\n",
       "      <td>POLYGON ((526362.570 6705773.465, 526295.674 6...</td>\n",
       "    </tr>\n",
       "    <tr>\n",
       "      <th>3</th>\n",
       "      <td>16</td>\n",
       "      <td>52</td>\n",
       "      <td>20</td>\n",
       "      <td>Seiches-sur-le-Loir</td>\n",
       "      <td>03-Sep</td>\n",
       "      <td>36000</td>\n",
       "      <td>0.000000</td>\n",
       "      <td>0.333333</td>\n",
       "      <td>0.333333</td>\n",
       "      <td>0.333333</td>\n",
       "      <td>NC</td>\n",
       "      <td>NC</td>\n",
       "      <td>NC</td>\n",
       "      <td>NC</td>\n",
       "      <td>NC</td>\n",
       "      <td>POLYGON ((447653.710 6724311.330, 448966.997 6...</td>\n",
       "    </tr>\n",
       "    <tr>\n",
       "      <th>4</th>\n",
       "      <td>20</td>\n",
       "      <td>52</td>\n",
       "      <td>2</td>\n",
       "      <td>Saint-Barthélemy-d'Anjou, Angers, Écouflant</td>\n",
       "      <td>Oct-19</td>\n",
       "      <td>247000</td>\n",
       "      <td>0.529412</td>\n",
       "      <td>0.352941</td>\n",
       "      <td>0.058824</td>\n",
       "      <td>0.058824</td>\n",
       "      <td>1900</td>\n",
       "      <td>300</td>\n",
       "      <td>0.022601958</td>\n",
       "      <td>30</td>\n",
       "      <td>30</td>\n",
       "      <td>POLYGON ((434053.600 6713607.200, 434053.600 6...</td>\n",
       "    </tr>\n",
       "    <tr>\n",
       "      <th>...</th>\n",
       "      <td>...</td>\n",
       "      <td>...</td>\n",
       "      <td>...</td>\n",
       "      <td>...</td>\n",
       "      <td>...</td>\n",
       "      <td>...</td>\n",
       "      <td>...</td>\n",
       "      <td>...</td>\n",
       "      <td>...</td>\n",
       "      <td>...</td>\n",
       "      <td>...</td>\n",
       "      <td>...</td>\n",
       "      <td>...</td>\n",
       "      <td>...</td>\n",
       "      <td>...</td>\n",
       "      <td>...</td>\n",
       "    </tr>\n",
       "    <tr>\n",
       "      <th>377</th>\n",
       "      <td>7615</td>\n",
       "      <td>53</td>\n",
       "      <td>25</td>\n",
       "      <td>Quimper</td>\n",
       "      <td>03-Sep</td>\n",
       "      <td>23000</td>\n",
       "      <td>0.000000</td>\n",
       "      <td>1.000000</td>\n",
       "      <td>0.000000</td>\n",
       "      <td>0.000000</td>\n",
       "      <td>NC</td>\n",
       "      <td>NC</td>\n",
       "      <td>NC</td>\n",
       "      <td>NC</td>\n",
       "      <td>NC</td>\n",
       "      <td>POLYGON ((172430.500 6789897.180, 172504.930 6...</td>\n",
       "    </tr>\n",
       "    <tr>\n",
       "      <th>378</th>\n",
       "      <td>7883</td>\n",
       "      <td>84</td>\n",
       "      <td>33</td>\n",
       "      <td>Pusignan</td>\n",
       "      <td>03-Sep</td>\n",
       "      <td>52000</td>\n",
       "      <td>0.500000</td>\n",
       "      <td>0.250000</td>\n",
       "      <td>0.000000</td>\n",
       "      <td>0.250000</td>\n",
       "      <td>NC</td>\n",
       "      <td>NC</td>\n",
       "      <td>NC</td>\n",
       "      <td>NC</td>\n",
       "      <td>NC</td>\n",
       "      <td>POLYGON ((860697.140 6518129.670, 860759.800 6...</td>\n",
       "    </tr>\n",
       "    <tr>\n",
       "      <th>379</th>\n",
       "      <td>8251</td>\n",
       "      <td>24</td>\n",
       "      <td>30</td>\n",
       "      <td>Chécy</td>\n",
       "      <td>03-Sep</td>\n",
       "      <td>50000</td>\n",
       "      <td>0.333333</td>\n",
       "      <td>0.333333</td>\n",
       "      <td>0.000000</td>\n",
       "      <td>0.333333</td>\n",
       "      <td>NC</td>\n",
       "      <td>NC</td>\n",
       "      <td>NC</td>\n",
       "      <td>NC</td>\n",
       "      <td>NC</td>\n",
       "      <td>POLYGON ((628243.590 6755956.120, 628045.360 6...</td>\n",
       "    </tr>\n",
       "    <tr>\n",
       "      <th>380</th>\n",
       "      <td>9337</td>\n",
       "      <td>11</td>\n",
       "      <td>31</td>\n",
       "      <td>Chanteloup-en-Brie, Chessy, Jossigny, Montévrain</td>\n",
       "      <td>03-Sep</td>\n",
       "      <td>61000</td>\n",
       "      <td>0.250000</td>\n",
       "      <td>0.250000</td>\n",
       "      <td>0.000000</td>\n",
       "      <td>0.500000</td>\n",
       "      <td>NC</td>\n",
       "      <td>NC</td>\n",
       "      <td>NC</td>\n",
       "      <td>NC</td>\n",
       "      <td>NC</td>\n",
       "      <td>POLYGON ((682949.150 6861042.150, 681716.102 6...</td>\n",
       "    </tr>\n",
       "    <tr>\n",
       "      <th>381</th>\n",
       "      <td>11267</td>\n",
       "      <td>76</td>\n",
       "      <td>19</td>\n",
       "      <td>Narbonne</td>\n",
       "      <td>03-Sep</td>\n",
       "      <td>22000</td>\n",
       "      <td>0.000000</td>\n",
       "      <td>0.666667</td>\n",
       "      <td>0.333333</td>\n",
       "      <td>0.000000</td>\n",
       "      <td>NC</td>\n",
       "      <td>NC</td>\n",
       "      <td>NC</td>\n",
       "      <td>NC</td>\n",
       "      <td>NC</td>\n",
       "      <td>POLYGON ((698866.800 6230297.990, 699037.100 6...</td>\n",
       "    </tr>\n",
       "  </tbody>\n",
       "</table>\n",
       "<p>382 rows × 16 columns</p>\n",
       "</div>"
      ],
      "text/plain": [
       "        e1  Région d'implantation  Numéro aires dans région  \\\n",
       "0        1                     52                         3   \n",
       "1       11                     52                        19   \n",
       "2       12                     24                         4   \n",
       "3       16                     52                        20   \n",
       "4       20                     52                         2   \n",
       "..     ...                    ...                       ...   \n",
       "377   7615                     53                        25   \n",
       "378   7883                     84                        33   \n",
       "379   8251                     24                        30   \n",
       "380   9337                     11                        31   \n",
       "381  11267                     76                        19   \n",
       "\n",
       "            Communes concernées par l'aire logistique  \\\n",
       "0         Saint-Nazaire, Montoir-de-Bretagne, Trignac   \n",
       "1                               Saint-Sylvain-d'Anjou   \n",
       "2                                Parçay-Meslay, Tours   \n",
       "3                                 Seiches-sur-le-Loir   \n",
       "4         Saint-Barthélemy-d'Anjou, Angers, Écouflant   \n",
       "..                                                ...   \n",
       "377                                           Quimper   \n",
       "378                                          Pusignan   \n",
       "379                                             Chécy   \n",
       "380  Chanteloup-en-Brie, Chessy, Jossigny, Montévrain   \n",
       "381                                          Narbonne   \n",
       "\n",
       "    Nombre d'EPL de plus de  5 000 m2  Surface totale  \\\n",
       "0                              Oct-19          155000   \n",
       "1                              03-Sep           50000   \n",
       "2                              03-Sep          142000   \n",
       "3                              03-Sep           36000   \n",
       "4                              Oct-19          247000   \n",
       "..                                ...             ...   \n",
       "377                            03-Sep           23000   \n",
       "378                            03-Sep           52000   \n",
       "379                            03-Sep           50000   \n",
       "380                            03-Sep           61000   \n",
       "381                            03-Sep           22000   \n",
       "\n",
       "     P_Transport_et_entreposage  P_commerce  P_industrie  P_autres  \\\n",
       "0                      0.600000    0.100000     0.300000  0.000000   \n",
       "1                      0.333333    0.666667     0.000000  0.000000   \n",
       "2                      0.444444    0.333333     0.222222  0.000000   \n",
       "3                      0.000000    0.333333     0.333333  0.333333   \n",
       "4                      0.529412    0.352941     0.058824  0.058824   \n",
       "..                          ...         ...          ...       ...   \n",
       "377                    0.000000    1.000000     0.000000  0.000000   \n",
       "378                    0.500000    0.250000     0.000000  0.250000   \n",
       "379                    0.333333    0.333333     0.000000  0.333333   \n",
       "380                    0.250000    0.250000     0.000000  0.500000   \n",
       "381                    0.000000    0.666667     0.333333  0.000000   \n",
       "\n",
       "    Eff_com_entreposage EFF_EPL_5000 Poids de l'entreposage Chargement  \\\n",
       "0                  1800          300            0.045252971         30   \n",
       "1                    NC           NC                     NC         NC   \n",
       "2                    NC           NC                     NC         NC   \n",
       "3                    NC           NC                     NC         NC   \n",
       "4                  1900          300            0.022601958         30   \n",
       "..                  ...          ...                    ...        ...   \n",
       "377                  NC           NC                     NC         NC   \n",
       "378                  NC           NC                     NC         NC   \n",
       "379                  NC           NC                     NC         NC   \n",
       "380                  NC           NC                     NC         NC   \n",
       "381                  NC           NC                     NC         NC   \n",
       "\n",
       "    Déchargement                                           geometry  \n",
       "0             30  POLYGON ((306902.300 6698606.120, 306928.370 6...  \n",
       "1             NC  POLYGON ((438799.329 6718105.186, 437358.871 6...  \n",
       "2             NC  POLYGON ((526362.570 6705773.465, 526295.674 6...  \n",
       "3             NC  POLYGON ((447653.710 6724311.330, 448966.997 6...  \n",
       "4             30  POLYGON ((434053.600 6713607.200, 434053.600 6...  \n",
       "..           ...                                                ...  \n",
       "377           NC  POLYGON ((172430.500 6789897.180, 172504.930 6...  \n",
       "378           NC  POLYGON ((860697.140 6518129.670, 860759.800 6...  \n",
       "379           NC  POLYGON ((628243.590 6755956.120, 628045.360 6...  \n",
       "380           NC  POLYGON ((682949.150 6861042.150, 681716.102 6...  \n",
       "381           NC  POLYGON ((698866.800 6230297.990, 699037.100 6...  \n",
       "\n",
       "[382 rows x 16 columns]"
      ]
     },
     "execution_count": 22,
     "metadata": {},
     "output_type": "execute_result"
    }
   ],
   "source": [
    "df_Logistic = df_Logistic.merge(Logistic_shape,on='e1')\n",
    "df_Logistic"
   ]
  },
  {
   "cell_type": "code",
   "execution_count": null,
   "metadata": {},
   "outputs": [],
   "source": []
  },
  {
   "cell_type": "code",
   "execution_count": 23,
   "metadata": {},
   "outputs": [
    {
     "ename": "ValueError",
     "evalue": "time data '03-Sep' does not match format '%b-%y'",
     "output_type": "error",
     "traceback": [
      "\u001b[1;31m---------------------------------------------------------------------------\u001b[0m",
      "\u001b[1;31mValueError\u001b[0m                                Traceback (most recent call last)",
      "\u001b[1;32m<ipython-input-23-f98102599eb2>\u001b[0m in \u001b[0;36m<module>\u001b[1;34m\u001b[0m\n\u001b[1;32m----> 1\u001b[1;33m \u001b[0mdf_Logistic\u001b[0m\u001b[1;33m.\u001b[0m\u001b[0miloc\u001b[0m\u001b[1;33m[\u001b[0m\u001b[1;33m:\u001b[0m\u001b[1;33m,\u001b[0m\u001b[1;36m4\u001b[0m\u001b[1;33m]\u001b[0m\u001b[1;33m.\u001b[0m\u001b[0mapply\u001b[0m\u001b[1;33m(\u001b[0m\u001b[1;32mlambda\u001b[0m \u001b[0mx\u001b[0m\u001b[1;33m:\u001b[0m \u001b[0mdatetime\u001b[0m\u001b[1;33m.\u001b[0m\u001b[0mdatetime\u001b[0m\u001b[1;33m.\u001b[0m\u001b[0mstrptime\u001b[0m\u001b[1;33m(\u001b[0m\u001b[0mx\u001b[0m\u001b[1;33m,\u001b[0m \u001b[1;34m'%b-%y'\u001b[0m\u001b[1;33m)\u001b[0m\u001b[1;33m.\u001b[0m\u001b[0mstrftime\u001b[0m\u001b[1;33m(\u001b[0m\u001b[1;34m'%m-%y'\u001b[0m\u001b[1;33m)\u001b[0m\u001b[1;33m)\u001b[0m\u001b[1;33m\u001b[0m\u001b[1;33m\u001b[0m\u001b[0m\n\u001b[0m",
      "\u001b[1;32mc:\\Users\\cesar\\anaconda3\\lib\\site-packages\\pandas\\core\\series.py\u001b[0m in \u001b[0;36mapply\u001b[1;34m(self, func, convert_dtype, args, **kwargs)\u001b[0m\n\u001b[0;32m   4769\u001b[0m         \u001b[0mdtype\u001b[0m\u001b[1;33m:\u001b[0m \u001b[0mfloat64\u001b[0m\u001b[1;33m\u001b[0m\u001b[1;33m\u001b[0m\u001b[0m\n\u001b[0;32m   4770\u001b[0m         \"\"\"\n\u001b[1;32m-> 4771\u001b[1;33m         \u001b[1;32mreturn\u001b[0m \u001b[0mSeriesApply\u001b[0m\u001b[1;33m(\u001b[0m\u001b[0mself\u001b[0m\u001b[1;33m,\u001b[0m \u001b[0mfunc\u001b[0m\u001b[1;33m,\u001b[0m \u001b[0mconvert_dtype\u001b[0m\u001b[1;33m,\u001b[0m \u001b[0margs\u001b[0m\u001b[1;33m,\u001b[0m \u001b[0mkwargs\u001b[0m\u001b[1;33m)\u001b[0m\u001b[1;33m.\u001b[0m\u001b[0mapply\u001b[0m\u001b[1;33m(\u001b[0m\u001b[1;33m)\u001b[0m\u001b[1;33m\u001b[0m\u001b[1;33m\u001b[0m\u001b[0m\n\u001b[0m\u001b[0;32m   4772\u001b[0m \u001b[1;33m\u001b[0m\u001b[0m\n\u001b[0;32m   4773\u001b[0m     def _reduce(\n",
      "\u001b[1;32mc:\\Users\\cesar\\anaconda3\\lib\\site-packages\\pandas\\core\\apply.py\u001b[0m in \u001b[0;36mapply\u001b[1;34m(self)\u001b[0m\n\u001b[0;32m   1121\u001b[0m \u001b[1;33m\u001b[0m\u001b[0m\n\u001b[0;32m   1122\u001b[0m         \u001b[1;31m# self.f is Callable\u001b[0m\u001b[1;33m\u001b[0m\u001b[1;33m\u001b[0m\u001b[1;33m\u001b[0m\u001b[0m\n\u001b[1;32m-> 1123\u001b[1;33m         \u001b[1;32mreturn\u001b[0m \u001b[0mself\u001b[0m\u001b[1;33m.\u001b[0m\u001b[0mapply_standard\u001b[0m\u001b[1;33m(\u001b[0m\u001b[1;33m)\u001b[0m\u001b[1;33m\u001b[0m\u001b[1;33m\u001b[0m\u001b[0m\n\u001b[0m\u001b[0;32m   1124\u001b[0m \u001b[1;33m\u001b[0m\u001b[0m\n\u001b[0;32m   1125\u001b[0m     \u001b[1;32mdef\u001b[0m \u001b[0magg\u001b[0m\u001b[1;33m(\u001b[0m\u001b[0mself\u001b[0m\u001b[1;33m)\u001b[0m\u001b[1;33m:\u001b[0m\u001b[1;33m\u001b[0m\u001b[1;33m\u001b[0m\u001b[0m\n",
      "\u001b[1;32mc:\\Users\\cesar\\anaconda3\\lib\\site-packages\\pandas\\core\\apply.py\u001b[0m in \u001b[0;36mapply_standard\u001b[1;34m(self)\u001b[0m\n\u001b[0;32m   1172\u001b[0m             \u001b[1;32melse\u001b[0m\u001b[1;33m:\u001b[0m\u001b[1;33m\u001b[0m\u001b[1;33m\u001b[0m\u001b[0m\n\u001b[0;32m   1173\u001b[0m                 \u001b[0mvalues\u001b[0m \u001b[1;33m=\u001b[0m \u001b[0mobj\u001b[0m\u001b[1;33m.\u001b[0m\u001b[0mastype\u001b[0m\u001b[1;33m(\u001b[0m\u001b[0mobject\u001b[0m\u001b[1;33m)\u001b[0m\u001b[1;33m.\u001b[0m\u001b[0m_values\u001b[0m\u001b[1;33m\u001b[0m\u001b[1;33m\u001b[0m\u001b[0m\n\u001b[1;32m-> 1174\u001b[1;33m                 mapped = lib.map_infer(\n\u001b[0m\u001b[0;32m   1175\u001b[0m                     \u001b[0mvalues\u001b[0m\u001b[1;33m,\u001b[0m\u001b[1;33m\u001b[0m\u001b[1;33m\u001b[0m\u001b[0m\n\u001b[0;32m   1176\u001b[0m                     \u001b[0mf\u001b[0m\u001b[1;33m,\u001b[0m\u001b[1;33m\u001b[0m\u001b[1;33m\u001b[0m\u001b[0m\n",
      "\u001b[1;32mc:\\Users\\cesar\\anaconda3\\lib\\site-packages\\pandas\\_libs\\lib.pyx\u001b[0m in \u001b[0;36mpandas._libs.lib.map_infer\u001b[1;34m()\u001b[0m\n",
      "\u001b[1;32m<ipython-input-23-f98102599eb2>\u001b[0m in \u001b[0;36m<lambda>\u001b[1;34m(x)\u001b[0m\n\u001b[1;32m----> 1\u001b[1;33m \u001b[0mdf_Logistic\u001b[0m\u001b[1;33m.\u001b[0m\u001b[0miloc\u001b[0m\u001b[1;33m[\u001b[0m\u001b[1;33m:\u001b[0m\u001b[1;33m,\u001b[0m\u001b[1;36m4\u001b[0m\u001b[1;33m]\u001b[0m\u001b[1;33m.\u001b[0m\u001b[0mapply\u001b[0m\u001b[1;33m(\u001b[0m\u001b[1;32mlambda\u001b[0m \u001b[0mx\u001b[0m\u001b[1;33m:\u001b[0m \u001b[0mdatetime\u001b[0m\u001b[1;33m.\u001b[0m\u001b[0mdatetime\u001b[0m\u001b[1;33m.\u001b[0m\u001b[0mstrptime\u001b[0m\u001b[1;33m(\u001b[0m\u001b[0mx\u001b[0m\u001b[1;33m,\u001b[0m \u001b[1;34m'%b-%y'\u001b[0m\u001b[1;33m)\u001b[0m\u001b[1;33m.\u001b[0m\u001b[0mstrftime\u001b[0m\u001b[1;33m(\u001b[0m\u001b[1;34m'%m-%y'\u001b[0m\u001b[1;33m)\u001b[0m\u001b[1;33m)\u001b[0m\u001b[1;33m\u001b[0m\u001b[1;33m\u001b[0m\u001b[0m\n\u001b[0m",
      "\u001b[1;32mc:\\Users\\cesar\\anaconda3\\lib\\_strptime.py\u001b[0m in \u001b[0;36m_strptime_datetime\u001b[1;34m(cls, data_string, format)\u001b[0m\n\u001b[0;32m    566\u001b[0m     \"\"\"Return a class cls instance based on the input string and the\n\u001b[0;32m    567\u001b[0m     format string.\"\"\"\n\u001b[1;32m--> 568\u001b[1;33m     \u001b[0mtt\u001b[0m\u001b[1;33m,\u001b[0m \u001b[0mfraction\u001b[0m\u001b[1;33m,\u001b[0m \u001b[0mgmtoff_fraction\u001b[0m \u001b[1;33m=\u001b[0m \u001b[0m_strptime\u001b[0m\u001b[1;33m(\u001b[0m\u001b[0mdata_string\u001b[0m\u001b[1;33m,\u001b[0m \u001b[0mformat\u001b[0m\u001b[1;33m)\u001b[0m\u001b[1;33m\u001b[0m\u001b[1;33m\u001b[0m\u001b[0m\n\u001b[0m\u001b[0;32m    569\u001b[0m     \u001b[0mtzname\u001b[0m\u001b[1;33m,\u001b[0m \u001b[0mgmtoff\u001b[0m \u001b[1;33m=\u001b[0m \u001b[0mtt\u001b[0m\u001b[1;33m[\u001b[0m\u001b[1;33m-\u001b[0m\u001b[1;36m2\u001b[0m\u001b[1;33m:\u001b[0m\u001b[1;33m]\u001b[0m\u001b[1;33m\u001b[0m\u001b[1;33m\u001b[0m\u001b[0m\n\u001b[0;32m    570\u001b[0m     \u001b[0margs\u001b[0m \u001b[1;33m=\u001b[0m \u001b[0mtt\u001b[0m\u001b[1;33m[\u001b[0m\u001b[1;33m:\u001b[0m\u001b[1;36m6\u001b[0m\u001b[1;33m]\u001b[0m \u001b[1;33m+\u001b[0m \u001b[1;33m(\u001b[0m\u001b[0mfraction\u001b[0m\u001b[1;33m,\u001b[0m\u001b[1;33m)\u001b[0m\u001b[1;33m\u001b[0m\u001b[1;33m\u001b[0m\u001b[0m\n",
      "\u001b[1;32mc:\\Users\\cesar\\anaconda3\\lib\\_strptime.py\u001b[0m in \u001b[0;36m_strptime\u001b[1;34m(data_string, format)\u001b[0m\n\u001b[0;32m    347\u001b[0m     \u001b[0mfound\u001b[0m \u001b[1;33m=\u001b[0m \u001b[0mformat_regex\u001b[0m\u001b[1;33m.\u001b[0m\u001b[0mmatch\u001b[0m\u001b[1;33m(\u001b[0m\u001b[0mdata_string\u001b[0m\u001b[1;33m)\u001b[0m\u001b[1;33m\u001b[0m\u001b[1;33m\u001b[0m\u001b[0m\n\u001b[0;32m    348\u001b[0m     \u001b[1;32mif\u001b[0m \u001b[1;32mnot\u001b[0m \u001b[0mfound\u001b[0m\u001b[1;33m:\u001b[0m\u001b[1;33m\u001b[0m\u001b[1;33m\u001b[0m\u001b[0m\n\u001b[1;32m--> 349\u001b[1;33m         raise ValueError(\"time data %r does not match format %r\" %\n\u001b[0m\u001b[0;32m    350\u001b[0m                          (data_string, format))\n\u001b[0;32m    351\u001b[0m     \u001b[1;32mif\u001b[0m \u001b[0mlen\u001b[0m\u001b[1;33m(\u001b[0m\u001b[0mdata_string\u001b[0m\u001b[1;33m)\u001b[0m \u001b[1;33m!=\u001b[0m \u001b[0mfound\u001b[0m\u001b[1;33m.\u001b[0m\u001b[0mend\u001b[0m\u001b[1;33m(\u001b[0m\u001b[1;33m)\u001b[0m\u001b[1;33m:\u001b[0m\u001b[1;33m\u001b[0m\u001b[1;33m\u001b[0m\u001b[0m\n",
      "\u001b[1;31mValueError\u001b[0m: time data '03-Sep' does not match format '%b-%y'"
     ]
    }
   ],
   "source": [
    "df_Logistic.iloc[:,4].apply(lambda x: datetime.datetime.strptime(x, '%b-%y').strftime('%m-%y'))"
   ]
  },
  {
   "cell_type": "code",
   "execution_count": null,
   "metadata": {},
   "outputs": [],
   "source": [
    "#df_Logistic.head()"
   ]
  },
  {
   "cell_type": "code",
   "execution_count": null,
   "metadata": {},
   "outputs": [],
   "source": [
    "address = df_Logistic['Communes concernées par l\\'aire logistique'][0]\n",
    "g = geocoder.arcgis(address,country = 'France')\n",
    "lat, lng = g.latlng\n",
    "print(\"Latitude: \", lat)\n",
    "print(\"Longitude:\", lng)"
   ]
  },
  {
   "cell_type": "code",
   "execution_count": null,
   "metadata": {},
   "outputs": [],
   "source": []
  },
  {
   "cell_type": "code",
   "execution_count": null,
   "metadata": {},
   "outputs": [],
   "source": [
    "Logistic_shape"
   ]
  },
  {
   "cell_type": "code",
   "execution_count": null,
   "metadata": {},
   "outputs": [],
   "source": [
    "# Too many towns make the geolocalization algorithm crash\n",
    "df_Logistic['Communes concernées par l\\'aire logistique'][290] = 'Genneviliers'\n",
    "df_Logistic['Communes concernées par l\\'aire logistique'][290]"
   ]
  },
  {
   "attachments": {},
   "cell_type": "markdown",
   "metadata": {},
   "source": [
    "Strategy :\n",
    "Limit the model to 3 region\n",
    "Create scoring system based on multiple criterias. Scoring system is an f(x,y) function with x lat, y long. Constraints are not yet to be defined but include distance to logistic hub, traffic on road, pop dens,..\n",
    "\n",
    "\n"
   ]
  },
  {
   "attachments": {},
   "cell_type": "markdown",
   "metadata": {},
   "source": [
    "### Financials"
   ]
  },
  {
   "cell_type": "code",
   "execution_count": 52,
   "metadata": {},
   "outputs": [],
   "source": [
    "results = pd.read_csv(r\"C:\\Users\\cesar\\Dropbox\\My PC (LAPTOP-GU3S2J8B)\\Downloads\\results_stations_2030_part_3_1.csv\")"
   ]
  },
  {
   "cell_type": "code",
   "execution_count": 33,
   "metadata": {},
   "outputs": [
    {
     "data": {
      "text/plain": [
       "(365, 26)"
      ]
     },
     "execution_count": 33,
     "metadata": {},
     "output_type": "execute_result"
    }
   ],
   "source": [
    "results.shape"
   ]
  },
  {
   "cell_type": "code",
   "execution_count": 21,
   "metadata": {},
   "outputs": [],
   "source": [
    "results = sales(results,2030)"
   ]
  },
  {
   "cell_type": "code",
   "execution_count": null,
   "metadata": {},
   "outputs": [
    {
     "data": {
      "text/html": [
       "<div>\n",
       "<style scoped>\n",
       "    .dataframe tbody tr th:only-of-type {\n",
       "        vertical-align: middle;\n",
       "    }\n",
       "\n",
       "    .dataframe tbody tr th {\n",
       "        vertical-align: top;\n",
       "    }\n",
       "\n",
       "    .dataframe thead th {\n",
       "        text-align: right;\n",
       "    }\n",
       "</style>\n",
       "<table border=\"1\" class=\"dataframe\">\n",
       "  <thead>\n",
       "    <tr style=\"text-align: right;\">\n",
       "      <th></th>\n",
       "      <th>station_type</th>\n",
       "      <th>capex</th>\n",
       "      <th>depreciation</th>\n",
       "      <th>opex</th>\n",
       "      <th>storage</th>\n",
       "      <th>construction_time</th>\n",
       "      <th>footprint</th>\n",
       "      <th>prof_threshold</th>\n",
       "      <th>threshold</th>\n",
       "    </tr>\n",
       "  </thead>\n",
       "  <tbody>\n",
       "    <tr>\n",
       "      <th>0</th>\n",
       "      <td>small</td>\n",
       "      <td>3</td>\n",
       "      <td>0.15</td>\n",
       "      <td>0.30</td>\n",
       "      <td>2</td>\n",
       "      <td>1</td>\n",
       "      <td>650</td>\n",
       "      <td>0.9</td>\n",
       "      <td>1.8</td>\n",
       "    </tr>\n",
       "    <tr>\n",
       "      <th>1</th>\n",
       "      <td>medium</td>\n",
       "      <td>5</td>\n",
       "      <td>0.15</td>\n",
       "      <td>0.40</td>\n",
       "      <td>3</td>\n",
       "      <td>1</td>\n",
       "      <td>900</td>\n",
       "      <td>0.8</td>\n",
       "      <td>2.4</td>\n",
       "    </tr>\n",
       "    <tr>\n",
       "      <th>2</th>\n",
       "      <td>large</td>\n",
       "      <td>8</td>\n",
       "      <td>0.15</td>\n",
       "      <td>0.56</td>\n",
       "      <td>4</td>\n",
       "      <td>1</td>\n",
       "      <td>1200</td>\n",
       "      <td>0.6</td>\n",
       "      <td>2.4</td>\n",
       "    </tr>\n",
       "  </tbody>\n",
       "</table>\n",
       "</div>"
      ],
      "text/plain": [
       "  station_type  capex  depreciation  opex  storage  construction_time  \\\n",
       "0        small      3          0.15  0.30        2                  1   \n",
       "1       medium      5          0.15  0.40        3                  1   \n",
       "2        large      8          0.15  0.56        4                  1   \n",
       "\n",
       "   footprint  prof_threshold  threshold  \n",
       "0        650             0.9        1.8  \n",
       "1        900             0.8        2.4  \n",
       "2       1200             0.6        2.4  "
      ]
     },
     "execution_count": 8,
     "metadata": {},
     "output_type": "execute_result"
    }
   ],
   "source": [
    "threshold()"
   ]
  },
  {
   "cell_type": "code",
   "execution_count": 15,
   "metadata": {},
   "outputs": [],
   "source": [
    "results = sales(results,2030)"
   ]
  },
  {
   "cell_type": "code",
   "execution_count": 54,
   "metadata": {},
   "outputs": [
    {
     "data": {
      "text/plain": [
       "<Axes: >"
      ]
     },
     "execution_count": 54,
     "metadata": {},
     "output_type": "execute_result"
    },
    {
     "data": {
      "image/png": "[encoded data removed]",
      "text/plain": [
       "<Figure size 432x288 with 1 Axes>"
      ]
     },
     "metadata": {
      "needs_background": "light"
     },
     "output_type": "display_data"
    }
   ],
   "source": [
    "results['Quantity_sold_per_year(in kg)'].hist()"
   ]
  },
  {
   "cell_type": "code",
   "execution_count": 55,
   "metadata": {},
   "outputs": [
    {
     "data": {
      "text/plain": [
       "<Axes: >"
      ]
     },
     "execution_count": 55,
     "metadata": {},
     "output_type": "execute_result"
    },
    {
     "data": {
      "image/png": "[encoded data removed]",
      "text/plain": [
       "<Figure size 432x288 with 1 Axes>"
      ]
     },
     "metadata": {
      "needs_background": "light"
     },
     "output_type": "display_data"
    }
   ],
   "source": [
    "results['TMJA_PL'].hist()"
   ]
  },
  {
   "cell_type": "code",
   "execution_count": 73,
   "metadata": {},
   "outputs": [],
   "source": [
    "def sales(df_station:pd.DataFrame, year: float)-> pd.DataFrame:\n",
    "    '''\n",
    "    This functions calculates the amount sold at each new stations in kg/day.\n",
    "    '''\n",
    "    h2_price_dict = {2023: 10, 2030: 7, 2040: 4}\n",
    "    total_demands = {2030: 1110000, 2040: 1110000}\n",
    "    total_demand = total_demands[year]\n",
    "\n",
    "    if year not in h2_price_dict:\n",
    "        raise ValueError('Year can only be 2023, 2030 or 2040')\n",
    "    \n",
    "    \n",
    "    df_station['percentage_traffic'] = df_station['TMJA_PL'] / df_station['TMJA_PL'].sum()\n",
    "    \n",
    "    df_station['Quantity_sold_per_day(in kg)'] = total_demand * df_station['percentage_traffic'] \n",
    "    df_station['Revenues_day'] = df_station['Quantity_sold_per_day(in kg)']  * h2_price_dict[year]\n",
    "    return df_station"
   ]
  },
  {
   "cell_type": "code",
   "execution_count": 74,
   "metadata": {},
   "outputs": [
    {
     "name": "stdout",
     "output_type": "stream",
     "text": [
      "1.0\n"
     ]
    }
   ],
   "source": [
    "results = sales(results,2030)"
   ]
  },
  {
   "cell_type": "code",
   "execution_count": 81,
   "metadata": {},
   "outputs": [
    {
     "data": {
      "text/plain": [
       "<Axes: >"
      ]
     },
     "execution_count": 81,
     "metadata": {},
     "output_type": "execute_result"
    },
    {
     "data": {
      "image/png": "[encoded data removed]",
      "text/plain": [
       "<Figure size 432x288 with 1 Axes>"
      ]
     },
     "metadata": {
      "needs_background": "light"
     },
     "output_type": "display_data"
    }
   ],
   "source": [
    "results['Quantity_sold_per_day(in kg)'].hist()"
   ]
  },
  {
   "cell_type": "code",
   "execution_count": 76,
   "metadata": {},
   "outputs": [
    {
     "data": {
      "text/html": [
       "<div>\n",
       "<style scoped>\n",
       "    .dataframe tbody tr th:only-of-type {\n",
       "        vertical-align: middle;\n",
       "    }\n",
       "\n",
       "    .dataframe tbody tr th {\n",
       "        vertical-align: top;\n",
       "    }\n",
       "\n",
       "    .dataframe thead th {\n",
       "        text-align: right;\n",
       "    }\n",
       "</style>\n",
       "<table border=\"1\" class=\"dataframe\">\n",
       "  <thead>\n",
       "    <tr style=\"text-align: right;\">\n",
       "      <th></th>\n",
       "      <th>Unnamed: 0</th>\n",
       "      <th>index</th>\n",
       "      <th>easting</th>\n",
       "      <th>northing</th>\n",
       "      <th>route</th>\n",
       "      <th>geometry</th>\n",
       "      <th>closest_dense_hub</th>\n",
       "      <th>distance_to_closest_dense_hub</th>\n",
       "      <th>closest_elargie_hub</th>\n",
       "      <th>distance_to_closest_large_hub</th>\n",
       "      <th>...</th>\n",
       "      <th>percentage_traffic</th>\n",
       "      <th>Region</th>\n",
       "      <th>Quantity_sold_per_day(in kg)</th>\n",
       "      <th>Revenues_day</th>\n",
       "      <th>Quantity_sold_per_year(in kg)</th>\n",
       "      <th>not_prof</th>\n",
       "      <th>small_station</th>\n",
       "      <th>medium_station</th>\n",
       "      <th>large_station</th>\n",
       "      <th>station_type</th>\n",
       "    </tr>\n",
       "  </thead>\n",
       "  <tbody>\n",
       "    <tr>\n",
       "      <th>50</th>\n",
       "      <td>2032</td>\n",
       "      <td>2032</td>\n",
       "      <td>638001.098217</td>\n",
       "      <td>6.879399e+06</td>\n",
       "      <td>A0015</td>\n",
       "      <td>POINT (638001.098217033 6879398.613767712)</td>\n",
       "      <td>1.0</td>\n",
       "      <td>0    1100.626099\\ndtype: float64</td>\n",
       "      <td>5.0</td>\n",
       "      <td>0    0.0\\ndtype: float64</td>\n",
       "      <td>...</td>\n",
       "      <td>0.00118</td>\n",
       "      <td>Hauts-de-France</td>\n",
       "      <td>1309.512017</td>\n",
       "      <td>9166.584119</td>\n",
       "      <td>238985.943101</td>\n",
       "      <td>1</td>\n",
       "      <td>0</td>\n",
       "      <td>0</td>\n",
       "      <td>0</td>\n",
       "      <td>not profitable</td>\n",
       "    </tr>\n",
       "    <tr>\n",
       "      <th>59</th>\n",
       "      <td>2039</td>\n",
       "      <td>2039</td>\n",
       "      <td>634829.291971</td>\n",
       "      <td>6.881812e+06</td>\n",
       "      <td>A0015</td>\n",
       "      <td>POINT (634829.2919714977 6881811.606493512)</td>\n",
       "      <td>1.0</td>\n",
       "      <td>0    99.838607\\ndtype: float64</td>\n",
       "      <td>5.0</td>\n",
       "      <td>0    0.0\\ndtype: float64</td>\n",
       "      <td>...</td>\n",
       "      <td>0.00118</td>\n",
       "      <td>Hauts-de-France</td>\n",
       "      <td>1309.512017</td>\n",
       "      <td>9166.584119</td>\n",
       "      <td>238985.943101</td>\n",
       "      <td>1</td>\n",
       "      <td>0</td>\n",
       "      <td>0</td>\n",
       "      <td>0</td>\n",
       "      <td>not profitable</td>\n",
       "    </tr>\n",
       "  </tbody>\n",
       "</table>\n",
       "<p>2 rows × 21 columns</p>\n",
       "</div>"
      ],
      "text/plain": [
       "    Unnamed: 0  index        easting      northing  route  \\\n",
       "50        2032   2032  638001.098217  6.879399e+06  A0015   \n",
       "59        2039   2039  634829.291971  6.881812e+06  A0015   \n",
       "\n",
       "                                       geometry  closest_dense_hub  \\\n",
       "50   POINT (638001.098217033 6879398.613767712)                1.0   \n",
       "59  POINT (634829.2919714977 6881811.606493512)                1.0   \n",
       "\n",
       "       distance_to_closest_dense_hub  closest_elargie_hub  \\\n",
       "50  0    1100.626099\\ndtype: float64                  5.0   \n",
       "59    0    99.838607\\ndtype: float64                  5.0   \n",
       "\n",
       "   distance_to_closest_large_hub  ...  percentage_traffic           Region  \\\n",
       "50      0    0.0\\ndtype: float64  ...             0.00118  Hauts-de-France   \n",
       "59      0    0.0\\ndtype: float64  ...             0.00118  Hauts-de-France   \n",
       "\n",
       "   Quantity_sold_per_day(in kg)  Revenues_day  Quantity_sold_per_year(in kg)  \\\n",
       "50                  1309.512017   9166.584119                  238985.943101   \n",
       "59                  1309.512017   9166.584119                  238985.943101   \n",
       "\n",
       "    not_prof  small_station  medium_station  large_station    station_type  \n",
       "50         1              0               0              0  not profitable  \n",
       "59         1              0               0              0  not profitable  \n",
       "\n",
       "[2 rows x 21 columns]"
      ]
     },
     "execution_count": 76,
     "metadata": {},
     "output_type": "execute_result"
    }
   ],
   "source": [
    "c[c['Quantity_sold_per_year(in kg)']==c['Quantity_sold_per_year(in kg)'].max()]"
   ]
  },
  {
   "cell_type": "code",
   "execution_count": 77,
   "metadata": {},
   "outputs": [],
   "source": [
    "def station_type(df_station:pd.DataFrame, df_station_info: pd.DataFrame = df_station_info)-> pd.DataFrame:\n",
    "    '''\n",
    "    This function derives the station size depending on quantity sold and the profitability thresholds\n",
    "    '''\n",
    "    info = threshold()\n",
    "    small_prof_threshold, medium_prof_threshold, large_prof_threshold = info['threshold']*365\n",
    "    print(small_prof_threshold, medium_prof_threshold, large_prof_threshold )\n",
    "    df_station['Quantity_sold_per_year(in kg)']= df_station['Quantity_sold_per_day(in kg)']*365\n",
    "\n",
    "    df_station['not_prof'] = (df_station['Quantity_sold_per_year(in kg)']/1000< small_prof_threshold).astype(int)\n",
    "\n",
    "    df_station['small_station'] = ((df_station['Quantity_sold_per_year(in kg)']/1000 >= small_prof_threshold) &\n",
    "                                   (df_station['Quantity_sold_per_year(in kg)']/1000 < medium_prof_threshold)).astype(int)\n",
    "    \n",
    "    df_station['medium_station'] = ((df_station['Quantity_sold_per_year(in kg)']/1000 >= medium_prof_threshold) &\n",
    "                                    (df_station['Quantity_sold_per_year(in kg)']/1000 < large_prof_threshold)).astype(int)\n",
    "    \n",
    "    df_station['large_station'] = (df_station['Quantity_sold_per_year(in kg)']/1000 >= large_prof_threshold).astype(int)\n",
    "    \n",
    "    df_station['station_type'] = df_station.apply(lambda row: \n",
    "    'not profitable' if row['not_prof'] == 1 \n",
    "    else 'small' if row['small_station'] == 1 \n",
    "    else 'medium' if row['medium_station'] == 1 \n",
    "    else 'large' if row['large_station'] == 1 \n",
    "    else 'unknown', axis=1)\n",
    "    df_station.loc[df_station['station_type'] == 'not profitable', 'station_type'] = 'small'\n",
    "    return df_station"
   ]
  },
  {
   "cell_type": "code",
   "execution_count": 78,
   "metadata": {},
   "outputs": [
    {
     "name": "stdout",
     "output_type": "stream",
     "text": [
      "657.0 876.0000000000001 876.0\n"
     ]
    },
    {
     "data": {
      "text/plain": [
       "large             236\n",
       "not profitable    125\n",
       "small               4\n",
       "Name: station_type, dtype: int64"
      ]
     },
     "execution_count": 78,
     "metadata": {},
     "output_type": "execute_result"
    }
   ],
   "source": [
    "c = station_type(results,df_factory_info)\n",
    "c['station_type'].value_counts()"
   ]
  },
  {
   "cell_type": "code",
   "execution_count": 82,
   "metadata": {},
   "outputs": [],
   "source": [
    "c.loc[c['station_type'] == 'not profitable', 'station_type'] = 'small'"
   ]
  },
  {
   "cell_type": "code",
   "execution_count": 83,
   "metadata": {},
   "outputs": [
    {
     "data": {
      "text/plain": [
       "large    236\n",
       "small    129\n",
       "Name: station_type, dtype: int64"
      ]
     },
     "execution_count": 83,
     "metadata": {},
     "output_type": "execute_result"
    }
   ],
   "source": [
    "c['station_type'].value_counts()"
   ]
  },
  {
   "cell_type": "code",
   "execution_count": 34,
   "metadata": {},
   "outputs": [
    {
     "data": {
      "text/plain": [
       "0      False\n",
       "1      False\n",
       "2      False\n",
       "3      False\n",
       "4      False\n",
       "       ...  \n",
       "360    False\n",
       "361    False\n",
       "362    False\n",
       "363    False\n",
       "364    False\n",
       "Name: Quantity_sold_per_year(in kg), Length: 365, dtype: bool"
      ]
     },
     "execution_count": 34,
     "metadata": {},
     "output_type": "execute_result"
    }
   ],
   "source": [
    "small_prof_threshold = 600\n",
    "(results['Quantity_sold_per_year(in kg)']/1000> small_prof_threshold)"
   ]
  },
  {
   "cell_type": "code",
   "execution_count": 18,
   "metadata": {},
   "outputs": [
    {
     "data": {
      "text/plain": [
       "1.0"
      ]
     },
     "execution_count": 18,
     "metadata": {},
     "output_type": "execute_result"
    }
   ],
   "source": [
    "c['percentage_traffic'].sum()"
   ]
  },
  {
   "cell_type": "code",
   "execution_count": 23,
   "metadata": {},
   "outputs": [
    {
     "data": {
      "text/plain": [
       "not profitable    326\n",
       "large              30\n",
       "small               9\n",
       "Name: station_type, dtype: int64"
      ]
     },
     "execution_count": 23,
     "metadata": {},
     "output_type": "execute_result"
    }
   ],
   "source": [
    "b = financials(results,2030,df_station_info)\n",
    "b['station_type'].value_counts()"
   ]
  },
  {
   "cell_type": "code",
   "execution_count": 19,
   "metadata": {},
   "outputs": [
    {
     "data": {
      "text/plain": [
       "2836050000.0"
      ]
     },
     "execution_count": 19,
     "metadata": {},
     "output_type": "execute_result"
    }
   ],
   "source": [
    "b['Revenues'].sum()"
   ]
  },
  {
   "cell_type": "code",
   "execution_count": 7,
   "metadata": {},
   "outputs": [
    {
     "data": {
      "text/html": [
       "<div>\n",
       "<style scoped>\n",
       "    .dataframe tbody tr th:only-of-type {\n",
       "        vertical-align: middle;\n",
       "    }\n",
       "\n",
       "    .dataframe tbody tr th {\n",
       "        vertical-align: top;\n",
       "    }\n",
       "\n",
       "    .dataframe thead th {\n",
       "        text-align: right;\n",
       "    }\n",
       "</style>\n",
       "<table border=\"1\" class=\"dataframe\">\n",
       "  <thead>\n",
       "    <tr style=\"text-align: right;\">\n",
       "      <th>station_type</th>\n",
       "      <th>large</th>\n",
       "      <th>not profitable</th>\n",
       "      <th>small</th>\n",
       "    </tr>\n",
       "  </thead>\n",
       "  <tbody>\n",
       "    <tr>\n",
       "      <th>CAPEX</th>\n",
       "      <td>2.744361e+08</td>\n",
       "      <td>0.000000e+00</td>\n",
       "      <td>1.103878e+08</td>\n",
       "    </tr>\n",
       "    <tr>\n",
       "      <th>EBIT</th>\n",
       "      <td>1.971716e+09</td>\n",
       "      <td>0.000000e+00</td>\n",
       "      <td>2.183878e+08</td>\n",
       "    </tr>\n",
       "    <tr>\n",
       "      <th>EBITDA</th>\n",
       "      <td>2.298116e+09</td>\n",
       "      <td>0.000000e+00</td>\n",
       "      <td>2.399878e+08</td>\n",
       "    </tr>\n",
       "    <tr>\n",
       "      <th>Opex</th>\n",
       "      <td>1.523200e+08</td>\n",
       "      <td>0.000000e+00</td>\n",
       "      <td>1.440000e+07</td>\n",
       "    </tr>\n",
       "    <tr>\n",
       "      <th>Revenues</th>\n",
       "      <td>2.450436e+09</td>\n",
       "      <td>1.312262e+08</td>\n",
       "      <td>2.543878e+08</td>\n",
       "    </tr>\n",
       "    <tr>\n",
       "      <th>depreciation</th>\n",
       "      <td>-3.264000e+08</td>\n",
       "      <td>0.000000e+00</td>\n",
       "      <td>-2.160000e+07</td>\n",
       "    </tr>\n",
       "  </tbody>\n",
       "</table>\n",
       "</div>"
      ],
      "text/plain": [
       "station_type         large  not profitable         small\n",
       "CAPEX         2.744361e+08    0.000000e+00  1.103878e+08\n",
       "EBIT          1.971716e+09    0.000000e+00  2.183878e+08\n",
       "EBITDA        2.298116e+09    0.000000e+00  2.399878e+08\n",
       "Opex          1.523200e+08    0.000000e+00  1.440000e+07\n",
       "Revenues      2.450436e+09    1.312262e+08  2.543878e+08\n",
       "depreciation -3.264000e+08    0.000000e+00 -2.160000e+07"
      ]
     },
     "execution_count": 7,
     "metadata": {},
     "output_type": "execute_result"
    }
   ],
   "source": [
    "financial_summary(results,2030)"
   ]
  },
  {
   "cell_type": "code",
   "execution_count": 36,
   "metadata": {},
   "outputs": [],
   "source": [
    "def sales(df_station:pd.DataFrame, year: float)-> pd.DataFrame:\n",
    "    '''\n",
    "    This functions calculates the amount sold at each new stations in kg/day.\n",
    "    '''\n",
    "    h2_price_dict = {2023: 10, 2030: 7, 2040: 4}\n",
    "    total_demands = {2030: 1110000, 2040: 6*1110000}\n",
    "    total_demand = total_demands[year]\n",
    "\n",
    "    if year not in h2_price_dict:\n",
    "        raise ValueError('Year can only be 2023, 2030 or 2040')\n",
    "    \n",
    "    df_station['percentage_traffic'] = df_station['percentage_traffic'] *  (1 / df_station.groupby('route')['route'].transform('count'))\n",
    "    df_station['percentage_traffic'] = df_station['percentage_traffic'] / df_station['percentage_traffic'].sum()\n",
    "    \n",
    "    df_station['Quantity_sold_per_day(in kg)'] = total_demand * df_station['percentage_traffic']\n",
    "    df_station['Revenues_day'] = df_station['Quantity_sold_per_day(in kg)']  * h2_price_dict[year]\n",
    "    return df_station"
   ]
  },
  {
   "cell_type": "code",
   "execution_count": 31,
   "metadata": {},
   "outputs": [],
   "source": [
    "def financials(df_station:pd.DataFrame,year: float, df_station_info: pd.DataFrame)-> pd.DataFrame:\n",
    "    '''\n",
    "    This function provides an overview of the P&L for each station\n",
    "    '''\n",
    "    df_station = sales(df_station,year)\n",
    "    df_station = station_type(df_station, df_station_info)\n",
    "    \n",
    "    df_station['Revenues'] = df_station['Revenues_day'] * 365\n",
    "    df_station['EBITDA'] = df_station['Revenues']- df_station['station_type'].map(df_station_info.set_index('station_type')['opex']*1000000)\n",
    "    df_station['Opex'] = df_station['Revenues'] - df_station['EBITDA']\n",
    "\n",
    "    df_station_info['yearly_depreciation'] = df_station_info['capex'] * df_station_info['depreciation']*1000000 \n",
    "    df_station['EBIT'] = df_station['EBITDA']- df_station['station_type'].map(df_station_info.set_index('station_type')['yearly_depreciation'])\n",
    "    df_station['depreciation'] =  df_station['EBIT']  - df_station['EBITDA'] \n",
    "\n",
    "    fin = ['Revenues','EBITDA','EBIT','depreciation','Opex']\n",
    "    df_station[fin] = df_station[fin].fillna(0)\n",
    "    \n",
    "    return df_station"
   ]
  },
  {
   "cell_type": "code",
   "execution_count": null,
   "metadata": {},
   "outputs": [
    {
     "data": {
      "text/plain": [
       "1110000"
      ]
     },
     "execution_count": 18,
     "metadata": {},
     "output_type": "execute_result"
    }
   ],
   "source": [
    "total_demands = {2030: 1110000, 2040: 6*1110000}\n",
    "total_demands[2030]"
   ]
  },
  {
   "cell_type": "code",
   "execution_count": 35,
   "metadata": {},
   "outputs": [
    {
     "data": {
      "text/plain": [
       "not profitable    304\n",
       "large              41\n",
       "small              31\n",
       "Name: station_type, dtype: int64"
      ]
     },
     "execution_count": 35,
     "metadata": {},
     "output_type": "execute_result"
    }
   ],
   "source": [
    "results = financials(results,2030, df_factory_info)\n",
    "results['station_type'].value_counts()"
   ]
  },
  {
   "cell_type": "code",
   "execution_count": 38,
   "metadata": {},
   "outputs": [
    {
     "data": {
      "text/plain": [
       "1604943090.3932784"
      ]
     },
     "execution_count": 38,
     "metadata": {},
     "output_type": "execute_result"
    }
   ],
   "source": [
    "format(results['EBIT'].sum(),''"
   ]
  },
  {
   "cell_type": "code",
   "execution_count": 37,
   "metadata": {},
   "outputs": [
    {
     "data": {
      "text/html": [
       "<div>\n",
       "<style scoped>\n",
       "    .dataframe tbody tr th:only-of-type {\n",
       "        vertical-align: middle;\n",
       "    }\n",
       "\n",
       "    .dataframe tbody tr th {\n",
       "        vertical-align: top;\n",
       "    }\n",
       "\n",
       "    .dataframe thead th {\n",
       "        text-align: right;\n",
       "    }\n",
       "</style>\n",
       "<table border=\"1\" class=\"dataframe\">\n",
       "  <thead>\n",
       "    <tr style=\"text-align: right;\">\n",
       "      <th></th>\n",
       "      <th>Unnamed: 0</th>\n",
       "      <th>index</th>\n",
       "      <th>easting</th>\n",
       "      <th>northing</th>\n",
       "      <th>route</th>\n",
       "      <th>geometry</th>\n",
       "      <th>closest_dense_hub</th>\n",
       "      <th>distance_to_closest_dense_hub</th>\n",
       "      <th>closest_elargie_hub</th>\n",
       "      <th>distance_to_closest_large_hub</th>\n",
       "      <th>...</th>\n",
       "      <th>small_station</th>\n",
       "      <th>medium_station</th>\n",
       "      <th>large_station</th>\n",
       "      <th>station_type</th>\n",
       "      <th>Revenues</th>\n",
       "      <th>EBITDA</th>\n",
       "      <th>Opex</th>\n",
       "      <th>EBIT</th>\n",
       "      <th>depreciation</th>\n",
       "      <th>date_installation</th>\n",
       "    </tr>\n",
       "  </thead>\n",
       "  <tbody>\n",
       "    <tr>\n",
       "      <th>0</th>\n",
       "      <td>1110</td>\n",
       "      <td>1110</td>\n",
       "      <td>841061.469860</td>\n",
       "      <td>6.498731e+06</td>\n",
       "      <td>A0007N</td>\n",
       "      <td>POINT (841061.4698599118 6498731.409465491)</td>\n",
       "      <td>1.0</td>\n",
       "      <td>0    0.0\\ndtype: float64</td>\n",
       "      <td>5.0</td>\n",
       "      <td>0    0.0\\ndtype: float64</td>\n",
       "      <td>...</td>\n",
       "      <td>0</td>\n",
       "      <td>0</td>\n",
       "      <td>0</td>\n",
       "      <td>not profitable</td>\n",
       "      <td>1.985746e+06</td>\n",
       "      <td>0.000000e+00</td>\n",
       "      <td>0.0</td>\n",
       "      <td>0.000000e+00</td>\n",
       "      <td>0.0</td>\n",
       "      <td>2036</td>\n",
       "    </tr>\n",
       "    <tr>\n",
       "      <th>1</th>\n",
       "      <td>1110</td>\n",
       "      <td>1110</td>\n",
       "      <td>841061.469860</td>\n",
       "      <td>6.498731e+06</td>\n",
       "      <td>A0007N</td>\n",
       "      <td>POINT (841061.4698599118 6498731.409465491)</td>\n",
       "      <td>1.0</td>\n",
       "      <td>0    0.0\\ndtype: float64</td>\n",
       "      <td>5.0</td>\n",
       "      <td>0    0.0\\ndtype: float64</td>\n",
       "      <td>...</td>\n",
       "      <td>0</td>\n",
       "      <td>0</td>\n",
       "      <td>0</td>\n",
       "      <td>not profitable</td>\n",
       "      <td>1.985746e+06</td>\n",
       "      <td>0.000000e+00</td>\n",
       "      <td>0.0</td>\n",
       "      <td>0.000000e+00</td>\n",
       "      <td>0.0</td>\n",
       "      <td>2036</td>\n",
       "    </tr>\n",
       "    <tr>\n",
       "      <th>2</th>\n",
       "      <td>1110</td>\n",
       "      <td>1110</td>\n",
       "      <td>841061.469860</td>\n",
       "      <td>6.498731e+06</td>\n",
       "      <td>A0007N</td>\n",
       "      <td>POINT (841061.4698599118 6498731.409465491)</td>\n",
       "      <td>1.0</td>\n",
       "      <td>0    0.0\\ndtype: float64</td>\n",
       "      <td>5.0</td>\n",
       "      <td>0    0.0\\ndtype: float64</td>\n",
       "      <td>...</td>\n",
       "      <td>0</td>\n",
       "      <td>0</td>\n",
       "      <td>0</td>\n",
       "      <td>not profitable</td>\n",
       "      <td>1.985746e+06</td>\n",
       "      <td>0.000000e+00</td>\n",
       "      <td>0.0</td>\n",
       "      <td>0.000000e+00</td>\n",
       "      <td>0.0</td>\n",
       "      <td>2036</td>\n",
       "    </tr>\n",
       "    <tr>\n",
       "      <th>3</th>\n",
       "      <td>1110</td>\n",
       "      <td>1110</td>\n",
       "      <td>841061.469860</td>\n",
       "      <td>6.498731e+06</td>\n",
       "      <td>A0007N</td>\n",
       "      <td>POINT (841061.4698599118 6498731.409465491)</td>\n",
       "      <td>1.0</td>\n",
       "      <td>0    0.0\\ndtype: float64</td>\n",
       "      <td>5.0</td>\n",
       "      <td>0    0.0\\ndtype: float64</td>\n",
       "      <td>...</td>\n",
       "      <td>0</td>\n",
       "      <td>0</td>\n",
       "      <td>0</td>\n",
       "      <td>not profitable</td>\n",
       "      <td>1.985746e+06</td>\n",
       "      <td>0.000000e+00</td>\n",
       "      <td>0.0</td>\n",
       "      <td>0.000000e+00</td>\n",
       "      <td>0.0</td>\n",
       "      <td>2036</td>\n",
       "    </tr>\n",
       "    <tr>\n",
       "      <th>4</th>\n",
       "      <td>2259</td>\n",
       "      <td>2259</td>\n",
       "      <td>678803.525886</td>\n",
       "      <td>6.772659e+06</td>\n",
       "      <td>A0019</td>\n",
       "      <td>POINT (678803.525886168 6772658.721447919)</td>\n",
       "      <td>1.0</td>\n",
       "      <td>0    3789.727742\\ndtype: float64</td>\n",
       "      <td>5.0</td>\n",
       "      <td>0    3303.402529\\ndtype: float64</td>\n",
       "      <td>...</td>\n",
       "      <td>0</td>\n",
       "      <td>0</td>\n",
       "      <td>1</td>\n",
       "      <td>large</td>\n",
       "      <td>7.155444e+06</td>\n",
       "      <td>2.655444e+06</td>\n",
       "      <td>4500000.0</td>\n",
       "      <td>-1.534456e+07</td>\n",
       "      <td>-18000000.0</td>\n",
       "      <td>2030</td>\n",
       "    </tr>\n",
       "    <tr>\n",
       "      <th>...</th>\n",
       "      <td>...</td>\n",
       "      <td>...</td>\n",
       "      <td>...</td>\n",
       "      <td>...</td>\n",
       "      <td>...</td>\n",
       "      <td>...</td>\n",
       "      <td>...</td>\n",
       "      <td>...</td>\n",
       "      <td>...</td>\n",
       "      <td>...</td>\n",
       "      <td>...</td>\n",
       "      <td>...</td>\n",
       "      <td>...</td>\n",
       "      <td>...</td>\n",
       "      <td>...</td>\n",
       "      <td>...</td>\n",
       "      <td>...</td>\n",
       "      <td>...</td>\n",
       "      <td>...</td>\n",
       "      <td>...</td>\n",
       "      <td>...</td>\n",
       "    </tr>\n",
       "    <tr>\n",
       "      <th>433</th>\n",
       "      <td>385</td>\n",
       "      <td>385</td>\n",
       "      <td>807203.184114</td>\n",
       "      <td>6.882408e+06</td>\n",
       "      <td>A0004</td>\n",
       "      <td>POINT (807203.1841144717 6882408.230964924)</td>\n",
       "      <td>1.0</td>\n",
       "      <td>0    9581.042312\\ndtype: float64</td>\n",
       "      <td>5.0</td>\n",
       "      <td>0    8376.801061\\ndtype: float64</td>\n",
       "      <td>...</td>\n",
       "      <td>0</td>\n",
       "      <td>0</td>\n",
       "      <td>0</td>\n",
       "      <td>not profitable</td>\n",
       "      <td>1.354788e+05</td>\n",
       "      <td>0.000000e+00</td>\n",
       "      <td>0.0</td>\n",
       "      <td>0.000000e+00</td>\n",
       "      <td>0.0</td>\n",
       "      <td>2032</td>\n",
       "    </tr>\n",
       "    <tr>\n",
       "      <th>434</th>\n",
       "      <td>1277</td>\n",
       "      <td>1277</td>\n",
       "      <td>801336.755906</td>\n",
       "      <td>6.295823e+06</td>\n",
       "      <td>A0009</td>\n",
       "      <td>POINT (801336.7559063311 6295822.9268937)</td>\n",
       "      <td>1.0</td>\n",
       "      <td>0    7460.057724\\ndtype: float64</td>\n",
       "      <td>5.0</td>\n",
       "      <td>0    434.456798\\ndtype: float64</td>\n",
       "      <td>...</td>\n",
       "      <td>0</td>\n",
       "      <td>0</td>\n",
       "      <td>0</td>\n",
       "      <td>not profitable</td>\n",
       "      <td>6.657867e+05</td>\n",
       "      <td>0.000000e+00</td>\n",
       "      <td>0.0</td>\n",
       "      <td>0.000000e+00</td>\n",
       "      <td>0.0</td>\n",
       "      <td>2032</td>\n",
       "    </tr>\n",
       "    <tr>\n",
       "      <th>435</th>\n",
       "      <td>1598</td>\n",
       "      <td>1598</td>\n",
       "      <td>428460.872784</td>\n",
       "      <td>6.567394e+06</td>\n",
       "      <td>A0010</td>\n",
       "      <td>POINT (428460.8727839426 6567394.1712706825)</td>\n",
       "      <td>1.0</td>\n",
       "      <td>0    17473.525383\\ndtype: float64</td>\n",
       "      <td>5.0</td>\n",
       "      <td>0    12737.324739\\ndtype: float64</td>\n",
       "      <td>...</td>\n",
       "      <td>0</td>\n",
       "      <td>0</td>\n",
       "      <td>0</td>\n",
       "      <td>not profitable</td>\n",
       "      <td>5.966718e+04</td>\n",
       "      <td>0.000000e+00</td>\n",
       "      <td>0.0</td>\n",
       "      <td>0.000000e+00</td>\n",
       "      <td>0.0</td>\n",
       "      <td>2032</td>\n",
       "    </tr>\n",
       "    <tr>\n",
       "      <th>436</th>\n",
       "      <td>1894</td>\n",
       "      <td>1894</td>\n",
       "      <td>610015.896027</td>\n",
       "      <td>6.874528e+06</td>\n",
       "      <td>A0013</td>\n",
       "      <td>POINT (610015.8960266111 6874528.405782959)</td>\n",
       "      <td>1.0</td>\n",
       "      <td>0    1884.753642\\ndtype: float64</td>\n",
       "      <td>5.0</td>\n",
       "      <td>0    586.327276\\ndtype: float64</td>\n",
       "      <td>...</td>\n",
       "      <td>0</td>\n",
       "      <td>0</td>\n",
       "      <td>0</td>\n",
       "      <td>not profitable</td>\n",
       "      <td>6.575998e+05</td>\n",
       "      <td>0.000000e+00</td>\n",
       "      <td>0.0</td>\n",
       "      <td>0.000000e+00</td>\n",
       "      <td>0.0</td>\n",
       "      <td>2032</td>\n",
       "    </tr>\n",
       "    <tr>\n",
       "      <th>437</th>\n",
       "      <td>806</td>\n",
       "      <td>806</td>\n",
       "      <td>799811.537277</td>\n",
       "      <td>6.703287e+06</td>\n",
       "      <td>A0006</td>\n",
       "      <td>POINT (799811.5372769379 6703286.9747349005)</td>\n",
       "      <td>1.0</td>\n",
       "      <td>0    30951.992691\\ndtype: float64</td>\n",
       "      <td>5.0</td>\n",
       "      <td>0    30951.992691\\ndtype: float64</td>\n",
       "      <td>...</td>\n",
       "      <td>0</td>\n",
       "      <td>0</td>\n",
       "      <td>0</td>\n",
       "      <td>not profitable</td>\n",
       "      <td>1.928240e+05</td>\n",
       "      <td>0.000000e+00</td>\n",
       "      <td>0.0</td>\n",
       "      <td>0.000000e+00</td>\n",
       "      <td>0.0</td>\n",
       "      <td>2040</td>\n",
       "    </tr>\n",
       "  </tbody>\n",
       "</table>\n",
       "<p>438 rows × 26 columns</p>\n",
       "</div>"
      ],
      "text/plain": [
       "     Unnamed: 0  index        easting      northing   route  \\\n",
       "0          1110   1110  841061.469860  6.498731e+06  A0007N   \n",
       "1          1110   1110  841061.469860  6.498731e+06  A0007N   \n",
       "2          1110   1110  841061.469860  6.498731e+06  A0007N   \n",
       "3          1110   1110  841061.469860  6.498731e+06  A0007N   \n",
       "4          2259   2259  678803.525886  6.772659e+06   A0019   \n",
       "..          ...    ...            ...           ...     ...   \n",
       "433         385    385  807203.184114  6.882408e+06   A0004   \n",
       "434        1277   1277  801336.755906  6.295823e+06   A0009   \n",
       "435        1598   1598  428460.872784  6.567394e+06   A0010   \n",
       "436        1894   1894  610015.896027  6.874528e+06   A0013   \n",
       "437         806    806  799811.537277  6.703287e+06   A0006   \n",
       "\n",
       "                                         geometry  closest_dense_hub  \\\n",
       "0     POINT (841061.4698599118 6498731.409465491)                1.0   \n",
       "1     POINT (841061.4698599118 6498731.409465491)                1.0   \n",
       "2     POINT (841061.4698599118 6498731.409465491)                1.0   \n",
       "3     POINT (841061.4698599118 6498731.409465491)                1.0   \n",
       "4      POINT (678803.525886168 6772658.721447919)                1.0   \n",
       "..                                            ...                ...   \n",
       "433   POINT (807203.1841144717 6882408.230964924)                1.0   \n",
       "434     POINT (801336.7559063311 6295822.9268937)                1.0   \n",
       "435  POINT (428460.8727839426 6567394.1712706825)                1.0   \n",
       "436   POINT (610015.8960266111 6874528.405782959)                1.0   \n",
       "437  POINT (799811.5372769379 6703286.9747349005)                1.0   \n",
       "\n",
       "         distance_to_closest_dense_hub  closest_elargie_hub  \\\n",
       "0             0    0.0\\ndtype: float64                  5.0   \n",
       "1             0    0.0\\ndtype: float64                  5.0   \n",
       "2             0    0.0\\ndtype: float64                  5.0   \n",
       "3             0    0.0\\ndtype: float64                  5.0   \n",
       "4     0    3789.727742\\ndtype: float64                  5.0   \n",
       "..                                 ...                  ...   \n",
       "433   0    9581.042312\\ndtype: float64                  5.0   \n",
       "434   0    7460.057724\\ndtype: float64                  5.0   \n",
       "435  0    17473.525383\\ndtype: float64                  5.0   \n",
       "436   0    1884.753642\\ndtype: float64                  5.0   \n",
       "437  0    30951.992691\\ndtype: float64                  5.0   \n",
       "\n",
       "         distance_to_closest_large_hub  ...  small_station  medium_station  \\\n",
       "0             0    0.0\\ndtype: float64  ...              0               0   \n",
       "1             0    0.0\\ndtype: float64  ...              0               0   \n",
       "2             0    0.0\\ndtype: float64  ...              0               0   \n",
       "3             0    0.0\\ndtype: float64  ...              0               0   \n",
       "4     0    3303.402529\\ndtype: float64  ...              0               0   \n",
       "..                                 ...  ...            ...             ...   \n",
       "433   0    8376.801061\\ndtype: float64  ...              0               0   \n",
       "434    0    434.456798\\ndtype: float64  ...              0               0   \n",
       "435  0    12737.324739\\ndtype: float64  ...              0               0   \n",
       "436    0    586.327276\\ndtype: float64  ...              0               0   \n",
       "437  0    30951.992691\\ndtype: float64  ...              0               0   \n",
       "\n",
       "     large_station    station_type      Revenues        EBITDA       Opex  \\\n",
       "0                0  not profitable  1.985746e+06  0.000000e+00        0.0   \n",
       "1                0  not profitable  1.985746e+06  0.000000e+00        0.0   \n",
       "2                0  not profitable  1.985746e+06  0.000000e+00        0.0   \n",
       "3                0  not profitable  1.985746e+06  0.000000e+00        0.0   \n",
       "4                1           large  7.155444e+06  2.655444e+06  4500000.0   \n",
       "..             ...             ...           ...           ...        ...   \n",
       "433              0  not profitable  1.354788e+05  0.000000e+00        0.0   \n",
       "434              0  not profitable  6.657867e+05  0.000000e+00        0.0   \n",
       "435              0  not profitable  5.966718e+04  0.000000e+00        0.0   \n",
       "436              0  not profitable  6.575998e+05  0.000000e+00        0.0   \n",
       "437              0  not profitable  1.928240e+05  0.000000e+00        0.0   \n",
       "\n",
       "             EBIT  depreciation date_installation  \n",
       "0    0.000000e+00           0.0              2036  \n",
       "1    0.000000e+00           0.0              2036  \n",
       "2    0.000000e+00           0.0              2036  \n",
       "3    0.000000e+00           0.0              2036  \n",
       "4   -1.534456e+07   -18000000.0              2030  \n",
       "..            ...           ...               ...  \n",
       "433  0.000000e+00           0.0              2032  \n",
       "434  0.000000e+00           0.0              2032  \n",
       "435  0.000000e+00           0.0              2032  \n",
       "436  0.000000e+00           0.0              2032  \n",
       "437  0.000000e+00           0.0              2040  \n",
       "\n",
       "[438 rows x 26 columns]"
      ]
     },
     "execution_count": 37,
     "metadata": {},
     "output_type": "execute_result"
    }
   ],
   "source": [
    "deployment_dates(results,2030,2040)"
   ]
  }
 ],
 "metadata": {
  "kernelspec": {
   "display_name": "bikes-ramp",
   "language": "python",
   "name": "python3"
  },
  "language_info": {
   "codemirror_mode": {
    "name": "ipython",
    "version": 3
   },
   "file_extension": ".py",
   "mimetype": "text/x-python",
   "name": "python",
   "nbconvert_exporter": "python",
   "pygments_lexer": "ipython3",
   "version": "3.8.8"
  },
  "orig_nbformat": 4,
  "vscode": {
   "interpreter": {
    "hash": "e2f9868ea17c69f2fe50eac19463d73210c439fa945be7f0fb0d5b8b4687d7fb"
   }
  }
 },
 "nbformat": 4,
 "nbformat_minor": 2
}
